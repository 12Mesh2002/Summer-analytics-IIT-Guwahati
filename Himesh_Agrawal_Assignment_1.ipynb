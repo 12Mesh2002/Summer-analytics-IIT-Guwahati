{
  "cells": [
    {
      "cell_type": "markdown",
      "metadata": {
        "id": "7t7O3hPJQQ1h"
      },
      "source": [
        "**Welcome to your first assignment of Summer Analytics 2023! We hope you are excited to implement and test everything you have learnt up until now.<a href = \"https://drive.google.com/file/d/1U73P58VAc4EXM98Or9feKnVx9I9FOP_L/view?usp=sharing\"> The dataset</a> which you'll use includes information about Movies.**"
      ]
    },
    {
      "cell_type": "markdown",
      "metadata": {
        "id": "8yDZv8F_QiqH"
      },
      "source": [
        " We've got an interesting set of questions for you to get a basic understanding of pandas and data visualization libraries. GOOD LUCK!\n",
        " \n",
        "Let's get started with importing numpy, pandas, seaborn and matplotlib! "
      ]
    },
    {
      "cell_type": "markdown",
      "metadata": {
        "id": "p-nMuCNQQxx_"
      },
      "source": [
        "Note - matplotlib should be imported with the command :\n",
        "\n",
        "**import matplotlib.pyplot as plt**"
      ]
    },
    {
      "cell_type": "markdown",
      "metadata": {
        "id": "nz8BTfnCRC8v"
      },
      "source": [
        "Start by importing all important libraries"
      ]
    },
    {
      "cell_type": "code",
      "execution_count": 4,
      "metadata": {
        "id": "rKkyeMJiO0up"
      },
      "outputs": [],
      "source": [
        "import pandas as pd\n",
        "import numpy as np\n",
        "import matplotlib.pyplot as plt\n",
        "import seaborn as sns\n",
        "import plotly.express as px"
      ]
    },
    {
      "cell_type": "markdown",
      "metadata": {
        "id": "2N8LabERRONN"
      },
      "source": [
        "Read the csv file and assign it to a variable ."
      ]
    },
    {
      "cell_type": "code",
      "execution_count": 141,
      "metadata": {
        "id": "vnjh3IZmRO72"
      },
      "outputs": [
        {
          "data": {
            "text/html": [
              "<div>\n",
              "<style scoped>\n",
              "    .dataframe tbody tr th:only-of-type {\n",
              "        vertical-align: middle;\n",
              "    }\n",
              "\n",
              "    .dataframe tbody tr th {\n",
              "        vertical-align: top;\n",
              "    }\n",
              "\n",
              "    .dataframe thead th {\n",
              "        text-align: right;\n",
              "    }\n",
              "</style>\n",
              "<table border=\"1\" class=\"dataframe\">\n",
              "  <thead>\n",
              "    <tr style=\"text-align: right;\">\n",
              "      <th></th>\n",
              "      <th>Poster_Link</th>\n",
              "      <th>Series_Title</th>\n",
              "      <th>Released_Year</th>\n",
              "      <th>Certificate</th>\n",
              "      <th>Runtime</th>\n",
              "      <th>Genre</th>\n",
              "      <th>IMDB_Rating</th>\n",
              "      <th>Overview</th>\n",
              "      <th>Meta_score</th>\n",
              "      <th>Director</th>\n",
              "      <th>Star1</th>\n",
              "      <th>Star2</th>\n",
              "      <th>Star3</th>\n",
              "      <th>Star4</th>\n",
              "      <th>No_of_Votes</th>\n",
              "      <th>Gross</th>\n",
              "    </tr>\n",
              "  </thead>\n",
              "  <tbody>\n",
              "    <tr>\n",
              "      <th>0</th>\n",
              "      <td>https://m.media-amazon.com/images/M/MV5BMDFkYT...</td>\n",
              "      <td>The Shawshank Redemption</td>\n",
              "      <td>1994</td>\n",
              "      <td>A</td>\n",
              "      <td>142 min</td>\n",
              "      <td>Drama</td>\n",
              "      <td>9.3</td>\n",
              "      <td>Two imprisoned men bond over a number of years...</td>\n",
              "      <td>80.0</td>\n",
              "      <td>Frank Darabont</td>\n",
              "      <td>Tim Robbins</td>\n",
              "      <td>Morgan Freeman</td>\n",
              "      <td>Bob Gunton</td>\n",
              "      <td>William Sadler</td>\n",
              "      <td>2343110</td>\n",
              "      <td>28,341,469</td>\n",
              "    </tr>\n",
              "    <tr>\n",
              "      <th>1</th>\n",
              "      <td>https://m.media-amazon.com/images/M/MV5BM2MyNj...</td>\n",
              "      <td>The Godfather</td>\n",
              "      <td>1972</td>\n",
              "      <td>A</td>\n",
              "      <td>175 min</td>\n",
              "      <td>Crime, Drama</td>\n",
              "      <td>9.2</td>\n",
              "      <td>An organized crime dynasty's aging patriarch t...</td>\n",
              "      <td>100.0</td>\n",
              "      <td>Francis Ford Coppola</td>\n",
              "      <td>Marlon Brando</td>\n",
              "      <td>Al Pacino</td>\n",
              "      <td>James Caan</td>\n",
              "      <td>Diane Keaton</td>\n",
              "      <td>1620367</td>\n",
              "      <td>134,966,411</td>\n",
              "    </tr>\n",
              "    <tr>\n",
              "      <th>2</th>\n",
              "      <td>https://m.media-amazon.com/images/M/MV5BMTMxNT...</td>\n",
              "      <td>The Dark Knight</td>\n",
              "      <td>2008</td>\n",
              "      <td>UA</td>\n",
              "      <td>152 min</td>\n",
              "      <td>Action, Crime, Drama</td>\n",
              "      <td>9.0</td>\n",
              "      <td>When the menace known as the Joker wreaks havo...</td>\n",
              "      <td>84.0</td>\n",
              "      <td>Christopher Nolan</td>\n",
              "      <td>Christian Bale</td>\n",
              "      <td>Heath Ledger</td>\n",
              "      <td>Aaron Eckhart</td>\n",
              "      <td>Michael Caine</td>\n",
              "      <td>2303232</td>\n",
              "      <td>534,858,444</td>\n",
              "    </tr>\n",
              "    <tr>\n",
              "      <th>3</th>\n",
              "      <td>https://m.media-amazon.com/images/M/MV5BMWMwMG...</td>\n",
              "      <td>The Godfather: Part II</td>\n",
              "      <td>1974</td>\n",
              "      <td>A</td>\n",
              "      <td>202 min</td>\n",
              "      <td>Crime, Drama</td>\n",
              "      <td>9.0</td>\n",
              "      <td>The early life and career of Vito Corleone in ...</td>\n",
              "      <td>90.0</td>\n",
              "      <td>Francis Ford Coppola</td>\n",
              "      <td>Al Pacino</td>\n",
              "      <td>Robert De Niro</td>\n",
              "      <td>Robert Duvall</td>\n",
              "      <td>Diane Keaton</td>\n",
              "      <td>1129952</td>\n",
              "      <td>57,300,000</td>\n",
              "    </tr>\n",
              "    <tr>\n",
              "      <th>4</th>\n",
              "      <td>https://m.media-amazon.com/images/M/MV5BMWU4N2...</td>\n",
              "      <td>12 Angry Men</td>\n",
              "      <td>1957</td>\n",
              "      <td>U</td>\n",
              "      <td>96 min</td>\n",
              "      <td>Crime, Drama</td>\n",
              "      <td>9.0</td>\n",
              "      <td>A jury holdout attempts to prevent a miscarria...</td>\n",
              "      <td>96.0</td>\n",
              "      <td>Sidney Lumet</td>\n",
              "      <td>Henry Fonda</td>\n",
              "      <td>Lee J. Cobb</td>\n",
              "      <td>Martin Balsam</td>\n",
              "      <td>John Fiedler</td>\n",
              "      <td>689845</td>\n",
              "      <td>4,360,000</td>\n",
              "    </tr>\n",
              "  </tbody>\n",
              "</table>\n",
              "</div>"
            ],
            "text/plain": [
              "                                         Poster_Link  \\\n",
              "0  https://m.media-amazon.com/images/M/MV5BMDFkYT...   \n",
              "1  https://m.media-amazon.com/images/M/MV5BM2MyNj...   \n",
              "2  https://m.media-amazon.com/images/M/MV5BMTMxNT...   \n",
              "3  https://m.media-amazon.com/images/M/MV5BMWMwMG...   \n",
              "4  https://m.media-amazon.com/images/M/MV5BMWU4N2...   \n",
              "\n",
              "               Series_Title Released_Year Certificate  Runtime  \\\n",
              "0  The Shawshank Redemption          1994           A  142 min   \n",
              "1             The Godfather          1972           A  175 min   \n",
              "2           The Dark Knight          2008          UA  152 min   \n",
              "3    The Godfather: Part II          1974           A  202 min   \n",
              "4              12 Angry Men          1957           U   96 min   \n",
              "\n",
              "                  Genre  IMDB_Rating  \\\n",
              "0                 Drama          9.3   \n",
              "1          Crime, Drama          9.2   \n",
              "2  Action, Crime, Drama          9.0   \n",
              "3          Crime, Drama          9.0   \n",
              "4          Crime, Drama          9.0   \n",
              "\n",
              "                                            Overview  Meta_score  \\\n",
              "0  Two imprisoned men bond over a number of years...        80.0   \n",
              "1  An organized crime dynasty's aging patriarch t...       100.0   \n",
              "2  When the menace known as the Joker wreaks havo...        84.0   \n",
              "3  The early life and career of Vito Corleone in ...        90.0   \n",
              "4  A jury holdout attempts to prevent a miscarria...        96.0   \n",
              "\n",
              "               Director           Star1           Star2          Star3  \\\n",
              "0        Frank Darabont     Tim Robbins  Morgan Freeman     Bob Gunton   \n",
              "1  Francis Ford Coppola   Marlon Brando       Al Pacino     James Caan   \n",
              "2     Christopher Nolan  Christian Bale    Heath Ledger  Aaron Eckhart   \n",
              "3  Francis Ford Coppola       Al Pacino  Robert De Niro  Robert Duvall   \n",
              "4          Sidney Lumet     Henry Fonda     Lee J. Cobb  Martin Balsam   \n",
              "\n",
              "            Star4  No_of_Votes        Gross  \n",
              "0  William Sadler      2343110   28,341,469  \n",
              "1    Diane Keaton      1620367  134,966,411  \n",
              "2   Michael Caine      2303232  534,858,444  \n",
              "3    Diane Keaton      1129952   57,300,000  \n",
              "4    John Fiedler       689845    4,360,000  "
            ]
          },
          "execution_count": 141,
          "metadata": {},
          "output_type": "execute_result"
        }
      ],
      "source": [
        "movie = pd.read_csv('/Users/himeshagrawal/Summer analytics/imdb_top_1000.csv')\n",
        "movie.head()"
      ]
    },
    {
      "cell_type": "markdown",
      "metadata": {
        "id": "EifdwomBRPxy"
      },
      "source": [
        "Display shape of dataframe"
      ]
    },
    {
      "cell_type": "code",
      "execution_count": 133,
      "metadata": {
        "id": "lM8S9INfRSt3"
      },
      "outputs": [
        {
          "data": {
            "text/plain": [
              "(999, 14)"
            ]
          },
          "execution_count": 133,
          "metadata": {},
          "output_type": "execute_result"
        }
      ],
      "source": [
        "movie.shape"
      ]
    },
    {
      "cell_type": "markdown",
      "metadata": {
        "id": "Q9xTIt54RVTY"
      },
      "source": [
        "Print all columns of dataframe"
      ]
    },
    {
      "cell_type": "code",
      "execution_count": 7,
      "metadata": {
        "id": "kn3VPvn6RV4_"
      },
      "outputs": [
        {
          "data": {
            "text/plain": [
              "Index(['Poster_Link', 'Series_Title', 'Released_Year', 'Certificate',\n",
              "       'Runtime', 'Genre', 'IMDB_Rating', 'Overview', 'Meta_score', 'Director',\n",
              "       'Star1', 'Star2', 'Star3', 'Star4', 'No_of_Votes', 'Gross'],\n",
              "      dtype='object')"
            ]
          },
          "execution_count": 7,
          "metadata": {},
          "output_type": "execute_result"
        }
      ],
      "source": [
        "movie.columns"
      ]
    },
    {
      "cell_type": "markdown",
      "metadata": {
        "id": "3jtm084KRleN"
      },
      "source": [
        "Remove the column 'Poster_Link' and update the dataframe."
      ]
    },
    {
      "cell_type": "code",
      "execution_count": 8,
      "metadata": {
        "id": "zYIz3q0ARnuU"
      },
      "outputs": [],
      "source": [
        "movie.drop('Poster_Link',axis = 1,inplace = True)"
      ]
    },
    {
      "cell_type": "markdown",
      "metadata": {
        "id": "ss6QYp4YRrfY"
      },
      "source": [
        "Set the 'Series_Title' column as the index of dataframe"
      ]
    },
    {
      "cell_type": "code",
      "execution_count": 9,
      "metadata": {
        "id": "iXNaEmTkR3tB"
      },
      "outputs": [],
      "source": [
        "movie.set_index('Series_Title',inplace=True)"
      ]
    },
    {
      "cell_type": "markdown",
      "metadata": {
        "id": "f6cj49w0R4PS"
      },
      "source": [
        "Print a list of all the unique Genre"
      ]
    },
    {
      "cell_type": "code",
      "execution_count": 140,
      "metadata": {
        "id": "CO4kbBsySVjr"
      },
      "outputs": [
        {
          "name": "stdout",
          "output_type": "stream",
          "text": [
            "Index(['Action', 'Adventure', 'Animation', 'Biography', 'Comedy', 'Crime',\n",
            "       'Drama', 'Family', 'Fantasy', 'Film-Noir', 'History', 'Horror', 'Music',\n",
            "       'Musical', 'Mystery', 'Romance', 'Sci-Fi', 'Sport', 'Thriller', 'War',\n",
            "       'Western'],\n",
            "      dtype='object')\n"
          ]
        }
      ],
      "source": [
        "temp2 = movie.Genre.str.replace(' ','')\n",
        "movie = movie.assign(Genre=temp2)\n",
        "ls_Genre = movie.Genre.str.get_dummies(sep=',')\n",
        "print(ls_Genre.columns)"
      ]
    },
    {
      "cell_type": "markdown",
      "metadata": {
        "id": "Dfj_ZoVBS97W"
      },
      "source": [
        "1. What is the Number of Directors in the given dataset ? "
      ]
    },
    {
      "cell_type": "code",
      "execution_count": 11,
      "metadata": {
        "id": "92f8NLciTIU_"
      },
      "outputs": [
        {
          "name": "stdout",
          "output_type": "stream",
          "text": [
            "548\n"
          ]
        }
      ],
      "source": [
        "# print(movie.Director.str.get_dummies(sep=',').columns.unique().shape[0])(In case they more than one director)\n",
        "print(movie.Director.unique().shape[0])"
      ]
    },
    {
      "cell_type": "markdown",
      "metadata": {
        "id": "5UnvBViyTOc9"
      },
      "source": [
        "2. What is the mean, median and standard deviation of IMDB rating in the dataset ?"
      ]
    },
    {
      "cell_type": "code",
      "execution_count": 12,
      "metadata": {
        "id": "sOL7O83LTg30"
      },
      "outputs": [
        {
          "name": "stdout",
          "output_type": "stream",
          "text": [
            "Mean is 7.949299999999999\n",
            "Medain is 7.9\n",
            "Standard Deviation is 0.2754912074920095\n"
          ]
        }
      ],
      "source": [
        "print('Mean is '+ movie.IMDB_Rating.mean().astype(str))\n",
        "print('Medain is '+ movie.IMDB_Rating.median().astype(str))\n",
        "print('Standard Deviation is '+ movie.IMDB_Rating.std().astype(str))\n"
      ]
    },
    {
      "cell_type": "markdown",
      "metadata": {
        "id": "d_k1zoajTxyx"
      },
      "source": [
        "3. Which director has directed the most number of movies?"
      ]
    },
    {
      "cell_type": "code",
      "execution_count": 13,
      "metadata": {
        "id": "-gvnNqSsT88L"
      },
      "outputs": [
        {
          "name": "stdout",
          "output_type": "stream",
          "text": [
            "Alfred Hitchcock\n"
          ]
        }
      ],
      "source": [
        "print(movie.Director.describe()['top'])"
      ]
    },
    {
      "cell_type": "markdown",
      "metadata": {
        "id": "zGHeeFZnT-yx"
      },
      "source": [
        "4. Name the Movie which has the highest Runtime ?"
      ]
    },
    {
      "cell_type": "code",
      "execution_count": 14,
      "metadata": {
        "id": "-1BAOzXoUKL1"
      },
      "outputs": [
        {
          "name": "stdout",
          "output_type": "stream",
          "text": [
            "Gangs of Wasseypur\n"
          ]
        }
      ],
      "source": [
        "print(movie.Runtime.str.replace(' min','').astype(int).idxmax())"
      ]
    },
    {
      "cell_type": "markdown",
      "metadata": {
        "id": "ast-zD1gULUS"
      },
      "source": [
        "5. How many movies are released after year 2000 and have IMDB rating > 8.5 ?"
      ]
    },
    {
      "cell_type": "code",
      "execution_count": 15,
      "metadata": {},
      "outputs": [
        {
          "data": {
            "text/plain": [
              "Released_Year\n",
              "2014    32\n",
              "2004    31\n",
              "2009    29\n",
              "2013    28\n",
              "2016    28\n",
              "        ..\n",
              "1926     1\n",
              "1936     1\n",
              "1924     1\n",
              "1921     1\n",
              "PG       1\n",
              "Name: count, Length: 100, dtype: int64"
            ]
          },
          "execution_count": 15,
          "metadata": {},
          "output_type": "execute_result"
        }
      ],
      "source": [
        "movie.Released_Year.value_counts()"
      ]
    },
    {
      "cell_type": "code",
      "execution_count": 16,
      "metadata": {
        "id": "2SA7L3G-VLom"
      },
      "outputs": [],
      "source": [
        "# As their one row with 'PG' in Released_Year We have to remove it.\n",
        "rem = movie[movie.Released_Year=='PG'].index\n",
        "movie.drop(rem,axis=0,inplace=True)"
      ]
    },
    {
      "cell_type": "code",
      "execution_count": 17,
      "metadata": {},
      "outputs": [
        {
          "name": "stdout",
          "output_type": "stream",
          "text": [
            "11\n"
          ]
        }
      ],
      "source": [
        "#changing data type of Released_Year\n",
        "movie.Released_Year = movie.Released_Year.astype(int)\n",
        "print(movie[(movie.Released_Year>2000) & (movie.IMDB_Rating>8.5)].shape[0])"
      ]
    },
    {
      "cell_type": "markdown",
      "metadata": {
        "id": "jYq9gv3aUl1u"
      },
      "source": [
        "Using seaborn make different types of plots, observe the trend and answer the questions.\n",
        "6. Make a countplot of Movies directed by top 5 directors."
      ]
    },
    {
      "cell_type": "code",
      "execution_count": 168,
      "metadata": {},
      "outputs": [
        {
          "data": {
            "image/png": "[encoded data removed]",
            "text/plain": [
              "<Figure size 1000x500 with 1 Axes>"
            ]
          },
          "metadata": {},
          "output_type": "display_data"
        }
      ],
      "source": [
        "# Top 5 Directors(Based on Average IMDB_Rating)\n",
        "Top5 = movie.groupby('Director').IMDB_Rating.mean().sort_values(ascending=False).head(5).index\n",
        "\n",
        "new5 = movie[(movie.Director==Top5[0])|(movie.Director==Top5[1])|(movie.Director==Top5[2])|(movie.Director==Top5[3])|(movie.Director==Top5[4])]\n",
        "\n",
        "plt.figure(figsize=(10,5))\n",
        "sns.countplot(x='Director',data=new5);"
      ]
    },
    {
      "cell_type": "code",
      "execution_count": 19,
      "metadata": {},
      "outputs": [
        {
          "data": {
            "image/png": "[encoded data removed]",
            "text/plain": [
              "<Figure size 1000x500 with 1 Axes>"
            ]
          },
          "metadata": {},
          "output_type": "display_data"
        }
      ],
      "source": [
        "# Top 5 Directors(Based on No. of movie)\n",
        "Top5 = movie.Director.value_counts().head(5).index\n",
        "\n",
        "new5 = movie[(movie.Director==Top5[0])|(movie.Director==Top5[1])|(movie.Director==Top5[2])|(movie.Director==Top5[3])|(movie.Director==Top5[4])]\n",
        "\n",
        "plt.figure(figsize=(10,5))\n",
        "sns.countplot(x='Director',data=new5);"
      ]
    },
    {
      "cell_type": "code",
      "execution_count": 20,
      "metadata": {
        "id": "WOYH5X29ViUR"
      },
      "outputs": [
        {
          "data": {
            "image/png": "[encoded data removed]",
            "text/plain": [
              "<Figure size 640x480 with 1 Axes>"
            ]
          },
          "metadata": {},
          "output_type": "display_data"
        }
      ],
      "source": [
        "movie.Runtime = movie.Runtime.str.replace(' min','').astype(int)\n",
        "sns.kdeplot(movie.Runtime,fill = True);\n"
      ]
    },
    {
      "cell_type": "code",
      "execution_count": 21,
      "metadata": {},
      "outputs": [
        {
          "data": {
            "image/png": "[encoded data removed]",
            "text/plain": [
              "<Figure size 640x480 with 1 Axes>"
            ]
          },
          "metadata": {},
          "output_type": "display_data"
        }
      ],
      "source": [
        "sns.kdeplot(movie.IMDB_Rating,fill = True);"
      ]
    },
    {
      "cell_type": "code",
      "execution_count": 22,
      "metadata": {},
      "outputs": [
        {
          "data": {
            "image/png": "[encoded data removed]",
            "text/plain": [
              "<Figure size 640x480 with 2 Axes>"
            ]
          },
          "metadata": {},
          "output_type": "display_data"
        }
      ],
      "source": [
        "sns.kdeplot(data = movie,x='IMDB_Rating',y='Runtime',fill=True,cbar=True);"
      ]
    },
    {
      "cell_type": "code",
      "execution_count": 23,
      "metadata": {},
      "outputs": [
        {
          "data": {
            "image/png": "[encoded data removed]",
            "text/plain": [
              "<Figure size 500x500 with 1 Axes>"
            ]
          },
          "metadata": {},
          "output_type": "display_data"
        }
      ],
      "source": [
        "sns.displot(movie.IMDB_Rating,kde=True);"
      ]
    },
    {
      "cell_type": "markdown",
      "metadata": {
        "id": "caUYiLeHVjIf"
      },
      "source": [
        "7. Make a plot to analyze distribution of IMDB rating?"
      ]
    },
    {
      "cell_type": "code",
      "execution_count": 24,
      "metadata": {},
      "outputs": [
        {
          "data": {
            "image/png": "[encoded data removed]",
            "text/plain": [
              "<Figure size 640x480 with 1 Axes>"
            ]
          },
          "metadata": {},
          "output_type": "display_data"
        }
      ],
      "source": [
        "sns.histplot(x='IMDB_Rating',data=movie,kde=True);"
      ]
    },
    {
      "cell_type": "markdown",
      "metadata": {
        "id": "dXCoPuYlWISU"
      },
      "source": [
        "8. What type of Genre has the highest IMDB rating?"
      ]
    },
    {
      "cell_type": "code",
      "execution_count": 25,
      "metadata": {
        "id": "0r9cKE7fWjBU"
      },
      "outputs": [
        {
          "name": "stdout",
          "output_type": "stream",
          "text": [
            "Drama\n"
          ]
        },
        {
          "data": {
            "image/png": "[encoded data removed]",
            "text/plain": [
              "<Figure size 640x480 with 1 Axes>"
            ]
          },
          "metadata": {},
          "output_type": "display_data"
        }
      ],
      "source": [
        "temp = movie.sort_values('IMDB_Rating',ascending=False).head(5)\n",
        "\n",
        "print(temp.loc[temp.index[0],'Genre'])\n",
        "\n",
        "sns.barplot(y='IMDB_Rating',x='Genre',data=temp);"
      ]
    },
    {
      "cell_type": "markdown",
      "metadata": {
        "id": "Ff2urhAhWrHO"
      },
      "source": [
        "9. Name the top 5 movies that have earned highest Meta score. "
      ]
    },
    {
      "cell_type": "code",
      "execution_count": 26,
      "metadata": {
        "id": "lta342_iWxLd"
      },
      "outputs": [
        {
          "name": "stdout",
          "output_type": "stream",
          "text": [
            "Series_Title\n",
            "Sweet Smell of Success    100.0\n",
            "Rear Window               100.0\n",
            "Casablanca                100.0\n",
            "Trois couleurs: Rouge     100.0\n",
            "Notorious                 100.0\n",
            "Name: Meta_score, dtype: float64\n"
          ]
        },
        {
          "data": {
            "image/png": "[encoded data removed]",
            "text/plain": [
              "<Figure size 1500x500 with 1 Axes>"
            ]
          },
          "metadata": {},
          "output_type": "display_data"
        }
      ],
      "source": [
        "meta = movie.Meta_score.sort_values(ascending=False).head(5)\n",
        "print(meta)\n",
        "plt.figure(figsize=(15,5))\n",
        "sns.barplot(x=meta,y=meta.index);"
      ]
    },
    {
      "cell_type": "markdown",
      "metadata": {
        "id": "FPmZIOiwW5Jo"
      },
      "source": [
        "10. Of which Genre movie has the highest Runtime?"
      ]
    },
    {
      "cell_type": "code",
      "execution_count": 27,
      "metadata": {
        "id": "R5a1FemoXJuo"
      },
      "outputs": [
        {
          "name": "stdout",
          "output_type": "stream",
          "text": [
            "Action, Comedy, Crime\n"
          ]
        },
        {
          "data": {
            "image/png": "[encoded data removed]",
            "text/plain": [
              "<Figure size 1200x500 with 1 Axes>"
            ]
          },
          "metadata": {},
          "output_type": "display_data"
        }
      ],
      "source": [
        "temp = movie.sort_values('Runtime',ascending=False).head(5)\n",
        "print(temp.Genre[0])\n",
        "plt.figure(figsize=(12,5))\n",
        "sns.barplot(x='Genre',y='Runtime',data=temp);"
      ]
    },
    {
      "cell_type": "markdown",
      "metadata": {
        "id": "B_NatnajpeBE"
      },
      "source": [
        "**Using the knowledge about Plotly that you have  try making plots and analyse the data .Whenever you come across an interesting analysis please show the corresponding plot(using Plotly) and comment down your analysis for the same**"
      ]
    },
    {
      "cell_type": "code",
      "execution_count": 61,
      "metadata": {},
      "outputs": [
        {
          "data": {
            "text/html": [
              "<div>\n",
              "<style scoped>\n",
              "    .dataframe tbody tr th:only-of-type {\n",
              "        vertical-align: middle;\n",
              "    }\n",
              "\n",
              "    .dataframe tbody tr th {\n",
              "        vertical-align: top;\n",
              "    }\n",
              "\n",
              "    .dataframe thead th {\n",
              "        text-align: right;\n",
              "    }\n",
              "</style>\n",
              "<table border=\"1\" class=\"dataframe\">\n",
              "  <thead>\n",
              "    <tr style=\"text-align: right;\">\n",
              "      <th></th>\n",
              "      <th>Released_Year</th>\n",
              "      <th>Certificate</th>\n",
              "      <th>Runtime</th>\n",
              "      <th>Genre</th>\n",
              "      <th>IMDB_Rating</th>\n",
              "      <th>Overview</th>\n",
              "      <th>Meta_score</th>\n",
              "      <th>Director</th>\n",
              "      <th>Star1</th>\n",
              "      <th>Star2</th>\n",
              "      <th>Star3</th>\n",
              "      <th>Star4</th>\n",
              "      <th>No_of_Votes</th>\n",
              "      <th>Gross</th>\n",
              "    </tr>\n",
              "    <tr>\n",
              "      <th>Series_Title</th>\n",
              "      <th></th>\n",
              "      <th></th>\n",
              "      <th></th>\n",
              "      <th></th>\n",
              "      <th></th>\n",
              "      <th></th>\n",
              "      <th></th>\n",
              "      <th></th>\n",
              "      <th></th>\n",
              "      <th></th>\n",
              "      <th></th>\n",
              "      <th></th>\n",
              "      <th></th>\n",
              "      <th></th>\n",
              "    </tr>\n",
              "  </thead>\n",
              "  <tbody>\n",
              "    <tr>\n",
              "      <th>The Shawshank Redemption</th>\n",
              "      <td>1994</td>\n",
              "      <td>A</td>\n",
              "      <td>142</td>\n",
              "      <td>Drama</td>\n",
              "      <td>9.3</td>\n",
              "      <td>Two imprisoned men bond over a number of years...</td>\n",
              "      <td>80.0</td>\n",
              "      <td>Frank Darabont</td>\n",
              "      <td>Tim Robbins</td>\n",
              "      <td>Morgan Freeman</td>\n",
              "      <td>Bob Gunton</td>\n",
              "      <td>William Sadler</td>\n",
              "      <td>2343110</td>\n",
              "      <td>28341469</td>\n",
              "    </tr>\n",
              "    <tr>\n",
              "      <th>The Godfather</th>\n",
              "      <td>1972</td>\n",
              "      <td>A</td>\n",
              "      <td>175</td>\n",
              "      <td>Crime, Drama</td>\n",
              "      <td>9.2</td>\n",
              "      <td>An organized crime dynasty's aging patriarch t...</td>\n",
              "      <td>100.0</td>\n",
              "      <td>Francis Ford Coppola</td>\n",
              "      <td>Marlon Brando</td>\n",
              "      <td>Al Pacino</td>\n",
              "      <td>James Caan</td>\n",
              "      <td>Diane Keaton</td>\n",
              "      <td>1620367</td>\n",
              "      <td>134966411</td>\n",
              "    </tr>\n",
              "    <tr>\n",
              "      <th>The Dark Knight</th>\n",
              "      <td>2008</td>\n",
              "      <td>UA</td>\n",
              "      <td>152</td>\n",
              "      <td>Action, Crime, Drama</td>\n",
              "      <td>9.0</td>\n",
              "      <td>When the menace known as the Joker wreaks havo...</td>\n",
              "      <td>84.0</td>\n",
              "      <td>Christopher Nolan</td>\n",
              "      <td>Christian Bale</td>\n",
              "      <td>Heath Ledger</td>\n",
              "      <td>Aaron Eckhart</td>\n",
              "      <td>Michael Caine</td>\n",
              "      <td>2303232</td>\n",
              "      <td>534858444</td>\n",
              "    </tr>\n",
              "    <tr>\n",
              "      <th>The Godfather: Part II</th>\n",
              "      <td>1974</td>\n",
              "      <td>A</td>\n",
              "      <td>202</td>\n",
              "      <td>Crime, Drama</td>\n",
              "      <td>9.0</td>\n",
              "      <td>The early life and career of Vito Corleone in ...</td>\n",
              "      <td>90.0</td>\n",
              "      <td>Francis Ford Coppola</td>\n",
              "      <td>Al Pacino</td>\n",
              "      <td>Robert De Niro</td>\n",
              "      <td>Robert Duvall</td>\n",
              "      <td>Diane Keaton</td>\n",
              "      <td>1129952</td>\n",
              "      <td>57300000</td>\n",
              "    </tr>\n",
              "    <tr>\n",
              "      <th>12 Angry Men</th>\n",
              "      <td>1957</td>\n",
              "      <td>U</td>\n",
              "      <td>96</td>\n",
              "      <td>Crime, Drama</td>\n",
              "      <td>9.0</td>\n",
              "      <td>A jury holdout attempts to prevent a miscarria...</td>\n",
              "      <td>96.0</td>\n",
              "      <td>Sidney Lumet</td>\n",
              "      <td>Henry Fonda</td>\n",
              "      <td>Lee J. Cobb</td>\n",
              "      <td>Martin Balsam</td>\n",
              "      <td>John Fiedler</td>\n",
              "      <td>689845</td>\n",
              "      <td>4360000</td>\n",
              "    </tr>\n",
              "  </tbody>\n",
              "</table>\n",
              "</div>"
            ],
            "text/plain": [
              "                          Released_Year Certificate  Runtime  \\\n",
              "Series_Title                                                   \n",
              "The Shawshank Redemption           1994           A      142   \n",
              "The Godfather                      1972           A      175   \n",
              "The Dark Knight                    2008          UA      152   \n",
              "The Godfather: Part II             1974           A      202   \n",
              "12 Angry Men                       1957           U       96   \n",
              "\n",
              "                                         Genre  IMDB_Rating  \\\n",
              "Series_Title                                                  \n",
              "The Shawshank Redemption                 Drama          9.3   \n",
              "The Godfather                     Crime, Drama          9.2   \n",
              "The Dark Knight           Action, Crime, Drama          9.0   \n",
              "The Godfather: Part II            Crime, Drama          9.0   \n",
              "12 Angry Men                      Crime, Drama          9.0   \n",
              "\n",
              "                                                                   Overview  \\\n",
              "Series_Title                                                                  \n",
              "The Shawshank Redemption  Two imprisoned men bond over a number of years...   \n",
              "The Godfather             An organized crime dynasty's aging patriarch t...   \n",
              "The Dark Knight           When the menace known as the Joker wreaks havo...   \n",
              "The Godfather: Part II    The early life and career of Vito Corleone in ...   \n",
              "12 Angry Men              A jury holdout attempts to prevent a miscarria...   \n",
              "\n",
              "                          Meta_score              Director           Star1  \\\n",
              "Series_Title                                                                 \n",
              "The Shawshank Redemption        80.0        Frank Darabont     Tim Robbins   \n",
              "The Godfather                  100.0  Francis Ford Coppola   Marlon Brando   \n",
              "The Dark Knight                 84.0     Christopher Nolan  Christian Bale   \n",
              "The Godfather: Part II          90.0  Francis Ford Coppola       Al Pacino   \n",
              "12 Angry Men                    96.0          Sidney Lumet     Henry Fonda   \n",
              "\n",
              "                                   Star2          Star3           Star4  \\\n",
              "Series_Title                                                              \n",
              "The Shawshank Redemption  Morgan Freeman     Bob Gunton  William Sadler   \n",
              "The Godfather                  Al Pacino     James Caan    Diane Keaton   \n",
              "The Dark Knight             Heath Ledger  Aaron Eckhart   Michael Caine   \n",
              "The Godfather: Part II    Robert De Niro  Robert Duvall    Diane Keaton   \n",
              "12 Angry Men                 Lee J. Cobb  Martin Balsam    John Fiedler   \n",
              "\n",
              "                          No_of_Votes      Gross  \n",
              "Series_Title                                      \n",
              "The Shawshank Redemption      2343110   28341469  \n",
              "The Godfather                 1620367  134966411  \n",
              "The Dark Knight               2303232  534858444  \n",
              "The Godfather: Part II        1129952   57300000  \n",
              "12 Angry Men                   689845    4360000  "
            ]
          },
          "execution_count": 61,
          "metadata": {},
          "output_type": "execute_result"
        }
      ],
      "source": [
        "new_movie = movie.dropna()\n",
        "nw = new_movie.Gross.str.replace(',','').astype(int)\n",
        "new_movie = new_movie.assign(Gross=nw)"
      ]
    },
    {
      "cell_type": "code",
      "execution_count": 113,
      "metadata": {
        "id": "eGoTOAWvpfIu"
      },
      "outputs": [
        {
          "data": {
            "application/vnd.plotly.v1+json": {
              "config": {
                "plotlyServerURL": "https://plot.ly"
              },
              "data": [
                {
                  "hovertemplate": "Certificate=A<br>value=%{x}<br>Released_Year=%{y}<extra></extra>",
                  "legendgroup": "A",
                  "marker": {
                    "color": "#636efa",
                    "symbol": "circle"
                  },
                  "mode": "markers",
                  "name": "A",
                  "orientation": "v",
                  "showlegend": true,
                  "type": "scatter",
                  "x": [
                    28341469,
                    134966411,
                    57300000,
                    107928762,
                    96898818,
                    37030102,
                    6100000,
                    171479930,
                    46836394,
                    112000000,
                    53367844,
                    7563397,
                    136801374,
                    100125643,
                    130742922,
                    335451311,
                    13092000,
                    132384315,
                    23341568,
                    19501238,
                    32000000,
                    1661096,
                    162805434,
                    11286112,
                    707481,
                    248159971,
                    44017374,
                    275902,
                    120540719,
                    3635482,
                    75600000,
                    45598982,
                    28262574,
                    6207725,
                    3200000,
                    54513740,
                    128012934,
                    116900694,
                    40222514,
                    70511035,
                    3897569,
                    64616940,
                    67436818,
                    42438300,
                    101157447,
                    83008852,
                    23383987,
                    12562,
                    2006788,
                    226277068,
                    167767189,
                    67209615,
                    56671993,
                    45055776,
                    61002302,
                    164615351,
                    5383834,
                    293506292,
                    16501785,
                    24611975,
                    138530565,
                    13782838,
                    4971340,
                    48979328,
                    16217773,
                    9600000,
                    151101803,
                    2625803,
                    25568251,
                    183637894,
                    106954678,
                    57366262,
                    74103820,
                    66208183,
                    57141459,
                    39200000,
                    260000000,
                    86300000,
                    232906145,
                    104945305,
                    111722000,
                    14500000,
                    8284000,
                    19516000,
                    17570324,
                    8000000,
                    3313513,
                    32381218,
                    2084637,
                    115646235,
                    25379975,
                    90135191,
                    35552383,
                    32534850,
                    2201126,
                    36948322,
                    76270454,
                    37823676,
                    5100000,
                    12064472,
                    30000000,
                    7630000,
                    54117416,
                    45512466,
                    70259870,
                    145000989,
                    35061555,
                    130164645,
                    50866635,
                    81001787,
                    57504069,
                    34603943,
                    59735548,
                    5923044,
                    106260000,
                    31800000,
                    16056255,
                    42765000,
                    44785053,
                    2616000,
                    128261724,
                    42340598,
                    2199675,
                    132092958,
                    136025503,
                    295983305,
                    83043761,
                    53606916,
                    176241941,
                    75331600,
                    108638745,
                    104454762,
                    52037603,
                    76631907,
                    148478011,
                    41909762,
                    56116183,
                    8551228,
                    47212904,
                    47000000,
                    119500000,
                    29800000,
                    25000000,
                    15630710,
                    35900000,
                    51081062,
                    11403529,
                    142502728,
                    5904366,
                    46889293,
                    109767581,
                    4105123,
                    41003371,
                    75590286,
                    210614939,
                    107509799,
                    45064915,
                    52364010,
                    13622333,
                    51401758,
                    132072926,
                    15070285,
                    36400491,
                    14378331,
                    3796699,
                    100012499,
                    71516617,
                    66666062,
                    65207127,
                    2150000,
                    12465371,
                    43000000,
                    35000000,
                    959000
                  ],
                  "xaxis": "x",
                  "y": [
                    1994,
                    1972,
                    1974,
                    1994,
                    1993,
                    1999,
                    1966,
                    1999,
                    1990,
                    1975,
                    2019,
                    2002,
                    1999,
                    1995,
                    1991,
                    2019,
                    2014,
                    2006,
                    1995,
                    1994,
                    1960,
                    2018,
                    2012,
                    2006,
                    2003,
                    1981,
                    1980,
                    1964,
                    2009,
                    2000,
                    1995,
                    1983,
                    1976,
                    1971,
                    1958,
                    2017,
                    2010,
                    2013,
                    2007,
                    2005,
                    1998,
                    1997,
                    1995,
                    1995,
                    1992,
                    1988,
                    1980,
                    1954,
                    2016,
                    2017,
                    2014,
                    2016,
                    2013,
                    2015,
                    2013,
                    2002,
                    2000,
                    1999,
                    1996,
                    1996,
                    1986,
                    1982,
                    1982,
                    1978,
                    1967,
                    1954,
                    2016,
                    2014,
                    2013,
                    2015,
                    2010,
                    2006,
                    2005,
                    2004,
                    1995,
                    1977,
                    1975,
                    1974,
                    1973,
                    1967,
                    1965,
                    1964,
                    1961,
                    1960,
                    1958,
                    1951,
                    2018,
                    2014,
                    2009,
                    2009,
                    2014,
                    2003,
                    2006,
                    2000,
                    1994,
                    1993,
                    1987,
                    1979,
                    1978,
                    1969,
                    1960,
                    1951,
                    2015,
                    2012,
                    2015,
                    2008,
                    2011,
                    2007,
                    2006,
                    2004,
                    1991,
                    1988,
                    1987,
                    1987,
                    1979,
                    1976,
                    1973,
                    1972,
                    1969,
                    1961,
                    2014,
                    2014,
                    2013,
                    2012,
                    2012,
                    2010,
                    2005,
                    2007,
                    2004,
                    2004,
                    2001,
                    2002,
                    1999,
                    2001,
                    1997,
                    1997,
                    1996,
                    1986,
                    1982,
                    1978,
                    1974,
                    1973,
                    1973,
                    1971,
                    1971,
                    1964,
                    1963,
                    2019,
                    2017,
                    2015,
                    2015,
                    2011,
                    2012,
                    2009,
                    2006,
                    2009,
                    2002,
                    2001,
                    2001,
                    2001,
                    2002,
                    2000,
                    1998,
                    1998,
                    1997,
                    1995,
                    1995,
                    1990,
                    1987,
                    1984,
                    1981,
                    1979,
                    1978,
                    1973
                  ],
                  "yaxis": "y"
                },
                {
                  "hovertemplate": "Certificate=UA<br>value=%{x}<br>Released_Year=%{y}<extra></extra>",
                  "legendgroup": "UA",
                  "marker": {
                    "color": "#EF553B",
                    "symbol": "circle"
                  },
                  "mode": "markers",
                  "name": "UA",
                  "orientation": "v",
                  "showlegend": true,
                  "type": "scatter",
                  "x": [
                    534858444,
                    292576195,
                    330252182,
                    342551365,
                    290475067,
                    188020017,
                    322740140,
                    13182281,
                    187705427,
                    858373000,
                    678815482,
                    448139099,
                    6532908,
                    25544867,
                    34400301,
                    30328156,
                    130096601,
                    46357676,
                    1585634,
                    85080171,
                    13657115,
                    37634615,
                    206852432,
                    170742341,
                    59100318,
                    26947624,
                    117624028,
                    154058340,
                    381011219,
                    100492203,
                    14131,
                    402453882,
                    25010410,
                    22244207,
                    32868943,
                    29000000,
                    228433663,
                    5566534,
                    91125683,
                    333176600,
                    92054159,
                    216428042,
                    17738570,
                    169708112,
                    4018695,
                    141319928,
                    623279547,
                    227471070,
                    61649911,
                    169659,
                    305413918,
                    515905,
                    63895607,
                    70405498,
                    38400000,
                    541940,
                    165359751,
                    18095701,
                    258168,
                    5202582,
                    315058289,
                    349555,
                    100546139,
                    233921534,
                    100206256,
                    6739492,
                    26236603,
                    257730019,
                    13756082,
                    318412101,
                    13542874,
                    121661683,
                    2402067,
                    188373161,
                    169607287,
                    47695120,
                    532177324,
                    408084349,
                    6735118,
                    107100855,
                    258366855,
                    2222647,
                    93617009,
                    303003568,
                    760507625,
                    59891098,
                    23637265,
                    127509326,
                    128985,
                    128078872,
                    233632142,
                    28965197,
                    659325379,
                    12339633,
                    48323648,
                    45875171,
                    34700291,
                    238632124,
                    220159104,
                    124872350,
                    259766572,
                    17654912,
                    274092705,
                    228778661,
                    96962694,
                    146408305,
                    277322503,
                    304360277,
                    32391374,
                    25442958,
                    33080084,
                    54580300,
                    17108591,
                    44585453,
                    290013036,
                    77911774,
                    111110575,
                    183417150,
                    17105219,
                    63540020,
                    77324422,
                    75505856,
                    10600000,
                    389813101,
                    107825862,
                    18340051,
                    72313754,
                    608581744,
                    208545589,
                    215288866,
                    48071303,
                    255959475,
                    69951824,
                    301959197,
                    56000369,
                    16290476,
                    7267585,
                    49100000,
                    52929168,
                    92823600,
                    119285432,
                    22490039
                  ],
                  "xaxis": "x",
                  "y": [
                    2008,
                    2010,
                    1994,
                    2002,
                    1980,
                    2014,
                    1977,
                    2011,
                    2000,
                    2019,
                    2018,
                    2012,
                    2009,
                    2000,
                    2004,
                    2000,
                    1999,
                    1987,
                    1941,
                    2018,
                    2011,
                    2006,
                    2005,
                    2001,
                    2014,
                    2013,
                    2019,
                    2015,
                    2011,
                    2004,
                    2003,
                    1993,
                    1993,
                    1982,
                    1982,
                    1974,
                    2015,
                    2019,
                    2014,
                    2014,
                    2017,
                    2018,
                    2012,
                    2011,
                    2010,
                    2008,
                    2012,
                    2007,
                    2005,
                    2002,
                    2003,
                    1995,
                    1992,
                    1991,
                    1984,
                    1970,
                    2019,
                    2017,
                    2016,
                    2016,
                    2017,
                    2019,
                    2016,
                    2014,
                    2014,
                    2012,
                    2008,
                    2009,
                    2006,
                    2008,
                    2004,
                    2002,
                    2016,
                    2017,
                    2016,
                    2016,
                    2016,
                    2016,
                    2017,
                    2013,
                    2013,
                    2009,
                    2010,
                    2012,
                    2009,
                    2006,
                    2007,
                    2008,
                    2003,
                    2000,
                    2000,
                    1999,
                    1997,
                    1997,
                    1997,
                    1985,
                    1984,
                    1984,
                    2018,
                    2014,
                    2014,
                    2013,
                    2013,
                    2013,
                    2010,
                    2011,
                    2009,
                    2012,
                    2009,
                    2014,
                    2007,
                    2004,
                    2004,
                    2003,
                    2005,
                    2004,
                    2003,
                    2001,
                    1998,
                    1997,
                    1993,
                    1992,
                    1985,
                    2017,
                    2017,
                    2017,
                    2015,
                    2018,
                    2014,
                    2018,
                    2010,
                    2009,
                    2008,
                    2009,
                    2004,
                    2003,
                    1998,
                    1996,
                    1992,
                    1989,
                    1981,
                    1979
                  ],
                  "yaxis": "y"
                },
                {
                  "hovertemplate": "Certificate=U<br>value=%{x}<br>Released_Year=%{y}<extra></extra>",
                  "legendgroup": "U",
                  "marker": {
                    "color": "#00cc96",
                    "symbol": "circle"
                  },
                  "mode": "markers",
                  "name": "U",
                  "orientation": "v",
                  "showlegend": true,
                  "type": "scatter",
                  "x": [
                    4360000,
                    377845905,
                    315544750,
                    10055859,
                    57598247,
                    269061,
                    53089891,
                    422783777,
                    204843350,
                    11990401,
                    210609762,
                    5321508,
                    1024560,
                    5017246,
                    190241310,
                    209726015,
                    223808164,
                    2375308,
                    36764313,
                    33225499,
                    138433435,
                    191796233,
                    85160248,
                    309125409,
                    159600000,
                    56954992,
                    15000000,
                    44824144,
                    18600000,
                    13275000,
                    293004164,
                    1113541,
                    415004880,
                    4711096,
                    197171806,
                    1105564,
                    4135750,
                    12100000,
                    25000000,
                    356461711,
                    217581231,
                    380843261,
                    289916256,
                    70147,
                    259127,
                    125618201,
                    2734044,
                    4043686,
                    600200,
                    95860116,
                    52287414,
                    2181987,
                    495770,
                    117235247,
                    30933743,
                    74700000,
                    198676459,
                    51739495,
                    341268248,
                    1506975,
                    132422809,
                    138797449,
                    163566459,
                    238507,
                    206445654,
                    2086345,
                    1787378,
                    66257002,
                    261441092,
                    4184036,
                    6203044,
                    13417292,
                    75082668,
                    70906973,
                    217350219,
                    184208848,
                    178800000,
                    30857814,
                    3333969,
                    4542825,
                    52767889,
                    50000000,
                    33395426,
                    163214286,
                    2076020,
                    3270000,
                    2000000,
                    32015231,
                    936662225,
                    44671682,
                    124987023,
                    249358727,
                    1000045,
                    245852179,
                    1324974,
                    56362352,
                    14743391,
                    9929135,
                    20605209,
                    57229890,
                    70600000,
                    61700000,
                    24379978,
                    13474588,
                    10464000,
                    40442052,
                    108101214,
                    4231500,
                    222527828,
                    434038008,
                    177002924,
                    2921738,
                    5128124,
                    16756372,
                    115654751,
                    267665011,
                    5887457,
                    9170214,
                    32416586,
                    22954968,
                    183875760,
                    52096475,
                    118500000,
                    70136369,
                    61503218,
                    98467863,
                    2500000,
                    435110554,
                    4420000,
                    193817,
                    4000000,
                    72000000,
                    102272727,
                    765127,
                    35893537,
                    1122527,
                    189422889,
                    257760692,
                    15090400,
                    881302,
                    200821936,
                    75286229,
                    151086,
                    45512588,
                    35811509,
                    10019307,
                    21848932,
                    48169908,
                    141340178,
                    6153939,
                    156452370,
                    43984230,
                    22238696,
                    10631333,
                    54000000,
                    78912963,
                    54800000,
                    83400000,
                    7056013,
                    28350000,
                    248757044,
                    19202743,
                    251513985,
                    38634938,
                    39868642,
                    6167817,
                    51680613,
                    57938693,
                    317575550,
                    120620254,
                    43182776,
                    1464625,
                    7993039,
                    453243,
                    285761243,
                    111543479,
                    78756177,
                    49530280,
                    76657000,
                    132088635,
                    141843612,
                    13780024
                  ],
                  "xaxis": "x",
                  "y": [
                    1957,
                    2003,
                    2001,
                    2001,
                    1997,
                    1954,
                    2006,
                    1994,
                    1991,
                    1988,
                    1985,
                    1968,
                    1942,
                    2016,
                    2018,
                    2017,
                    2008,
                    1997,
                    1954,
                    2001,
                    1997,
                    1995,
                    1986,
                    1983,
                    1973,
                    1968,
                    1965,
                    1962,
                    1960,
                    1959,
                    2009,
                    2007,
                    2010,
                    2004,
                    1989,
                    1988,
                    1985,
                    1963,
                    1959,
                    2015,
                    2010,
                    2003,
                    2001,
                    2001,
                    1998,
                    1998,
                    2000,
                    1994,
                    1994,
                    1989,
                    1986,
                    1984,
                    1984,
                    1976,
                    1973,
                    1959,
                    1939,
                    2016,
                    2016,
                    2013,
                    2017,
                    2010,
                    2006,
                    2004,
                    2007,
                    2014,
                    2003,
                    2003,
                    2004,
                    2000,
                    1999,
                    1996,
                    1993,
                    1993,
                    1992,
                    1990,
                    1988,
                    1987,
                    1987,
                    1987,
                    1982,
                    1975,
                    1968,
                    1965,
                    1939,
                    1930,
                    2019,
                    2018,
                    2015,
                    2011,
                    2012,
                    2004,
                    2001,
                    1999,
                    1993,
                    1990,
                    1989,
                    1985,
                    1983,
                    1980,
                    1976,
                    1970,
                    1967,
                    1963,
                    1946,
                    2017,
                    2019,
                    2013,
                    2014,
                    2019,
                    2014,
                    2004,
                    2005,
                    2004,
                    2000,
                    2001,
                    1994,
                    1993,
                    1993,
                    1993,
                    1993,
                    1990,
                    1989,
                    1986,
                    1985,
                    1985,
                    1982,
                    1982,
                    1974,
                    1973,
                    1971,
                    1964,
                    1964,
                    2014,
                    2014,
                    2013,
                    2012,
                    2014,
                    2008,
                    2006,
                    2010,
                    2009,
                    2000,
                    2000,
                    1996,
                    1995,
                    1994,
                    1992,
                    1992,
                    1991,
                    1988,
                    1987,
                    1987,
                    1985,
                    1982,
                    1982,
                    1980,
                    1980,
                    1972,
                    1966,
                    2016,
                    2010,
                    2010,
                    2007,
                    2006,
                    2004,
                    2004,
                    2004,
                    2001,
                    1998,
                    1995,
                    1994,
                    1993,
                    1991,
                    1990,
                    1989,
                    1988,
                    1987,
                    1979,
                    1977,
                    1967,
                    1964
                  ],
                  "yaxis": "y"
                },
                {
                  "hovertemplate": "Certificate=R<br>value=%{x}<br>Released_Year=%{y}<extra></extra>",
                  "legendgroup": "R",
                  "marker": {
                    "color": "#ab63fa",
                    "symbol": "circle"
                  },
                  "mode": "markers",
                  "name": "R",
                  "orientation": "v",
                  "showlegend": true,
                  "type": "scatter",
                  "x": [
                    216540909,
                    32572577,
                    6719864,
                    83471511,
                    78900000,
                    159227644,
                    687185,
                    6857096,
                    2832029,
                    51973029,
                    11487676,
                    6391436,
                    5509040,
                    3759854,
                    3492754,
                    14677674,
                    3107072,
                    148095302,
                    18354356,
                    74283625,
                    1111061,
                    5820649,
                    70099045,
                    348660,
                    17498804,
                    5535405,
                    20045115,
                    1010414,
                    363070709,
                    8060,
                    27298285,
                    2380788,
                    1530386,
                    1480006,
                    22455976,
                    1647780,
                    5595428,
                    24475416,
                    4496583,
                    27545445,
                    53267000,
                    29133000,
                    5875006,
                    8114627,
                    7000000,
                    5009677,
                    2122065,
                    7757130,
                    2280348,
                    9284265,
                    1059830,
                    1221261,
                    7220243,
                    26400640,
                    12281500,
                    188751,
                    45700000,
                    61001,
                    435266,
                    15322921,
                    85433,
                    102515793,
                    161197785,
                    547292,
                    10095170,
                    9439923,
                    50927067,
                    3600,
                    1305,
                    181655,
                    2892011,
                    8264530,
                    25812,
                    4040691,
                    56505065,
                    17266971,
                    2015810,
                    1999955,
                    61276872,
                    26830000,
                    1436000,
                    324591735,
                    33800859,
                    176040665,
                    3333000,
                    18593156,
                    35739802,
                    412544,
                    17605861,
                    22494487,
                    871577,
                    4398392,
                    1082715,
                    4890878,
                    4064200,
                    22245861,
                    141072,
                    21995263,
                    3029081,
                    10824921,
                    22858926,
                    3151130,
                    6110979,
                    10725228,
                    5080409,
                    1544889,
                    7153487,
                    1924733,
                    566356,
                    1092800,
                    26862450,
                    1008098,
                    35014192,
                    3185812,
                    17114882,
                    88513495,
                    20300218,
                    23089926,
                    24149632,
                    3081925,
                    697181,
                    548707,
                    5739376,
                    45289,
                    13060843,
                    52990775,
                    50668906,
                    10680275,
                    1037847,
                    40903593,
                    1794187
                  ],
                  "xaxis": "x",
                  "y": [
                    1998,
                    2002,
                    1998,
                    1979,
                    1979,
                    2019,
                    2012,
                    2010,
                    1992,
                    1984,
                    1981,
                    2009,
                    2004,
                    2019,
                    2014,
                    2015,
                    2014,
                    2008,
                    2007,
                    2007,
                    2004,
                    2004,
                    2003,
                    1998,
                    1998,
                    1995,
                    1979,
                    2013,
                    2016,
                    2007,
                    2013,
                    2003,
                    2003,
                    2001,
                    1999,
                    1998,
                    1998,
                    1996,
                    1993,
                    1989,
                    1973,
                    1971,
                    2016,
                    2013,
                    2019,
                    2009,
                    2008,
                    2008,
                    2006,
                    2002,
                    2001,
                    2000,
                    2001,
                    1997,
                    1993,
                    1984,
                    1979,
                    1973,
                    2015,
                    2013,
                    2013,
                    2011,
                    2015,
                    2009,
                    2009,
                    2007,
                    2007,
                    2009,
                    2005,
                    2002,
                    2001,
                    1999,
                    1999,
                    1996,
                    1993,
                    1993,
                    1991,
                    1991,
                    1990,
                    1989,
                    1986,
                    2018,
                    2017,
                    2017,
                    2014,
                    2008,
                    2008,
                    2006,
                    2006,
                    2006,
                    2007,
                    2006,
                    2004,
                    2002,
                    2003,
                    2002,
                    2001,
                    2000,
                    2001,
                    1999,
                    1999,
                    1994,
                    1993,
                    1992,
                    1990,
                    1987,
                    1986,
                    1976,
                    2017,
                    2014,
                    2016,
                    2010,
                    2011,
                    2011,
                    2007,
                    2006,
                    2007,
                    2005,
                    2005,
                    2008,
                    2004,
                    2003,
                    2003,
                    2002,
                    2002,
                    2001,
                    1999,
                    1998,
                    1995,
                    1993,
                    1991
                  ],
                  "yaxis": "y"
                },
                {
                  "hovertemplate": "Certificate=G<br>value=%{x}<br>Released_Year=%{y}<extra></extra>",
                  "legendgroup": "G",
                  "marker": {
                    "color": "#FFA15A",
                    "symbol": "circle"
                  },
                  "mode": "markers",
                  "name": "G",
                  "orientation": "v",
                  "showlegend": true,
                  "type": "scatter",
                  "x": [
                    163245,
                    19181,
                    8819028,
                    218967620,
                    80500000,
                    39100000,
                    27281507,
                    44527234,
                    76408097
                  ],
                  "xaxis": "x",
                  "y": [
                    1936,
                    1931,
                    1952,
                    1991,
                    1971,
                    1962,
                    1992,
                    1968,
                    1940
                  ],
                  "yaxis": "y"
                },
                {
                  "hovertemplate": "Certificate=PG-13<br>value=%{x}<br>Released_Year=%{y}<extra></extra>",
                  "legendgroup": "PG-13",
                  "marker": {
                    "color": "#19d3f3",
                    "symbol": "circle"
                  },
                  "mode": "markers",
                  "name": "PG-13",
                  "orientation": "v",
                  "showlegend": true,
                  "type": "scatter",
                  "x": [
                    7098492,
                    1498210,
                    23530892,
                    4445756,
                    5990075,
                    167445960,
                    2237659,
                    3237118,
                    3635164,
                    53710019,
                    18254702,
                    40084041,
                    1330596,
                    5209580,
                    9030581,
                    25514517,
                    119519402,
                    7002255,
                    54234062,
                    3358518,
                    6743776,
                    56816662,
                    1054361,
                    15539266,
                    40311852,
                    4065116,
                    82418501,
                    24801212,
                    13122642,
                    845464,
                    37707719,
                    171243005,
                    75605492,
                    209028679,
                    9422422,
                    10301706,
                    24633730,
                    96522687
                  ],
                  "xaxis": "x",
                  "y": [
                    2011,
                    2008,
                    2004,
                    2007,
                    2007,
                    2006,
                    1958,
                    2016,
                    2004,
                    2002,
                    1989,
                    1986,
                    2013,
                    2013,
                    2008,
                    2005,
                    2005,
                    2003,
                    2002,
                    2015,
                    2015,
                    2011,
                    2005,
                    2002,
                    2001,
                    1998,
                    1991,
                    2017,
                    2019,
                    2015,
                    2013,
                    2010,
                    2011,
                    2009,
                    2007,
                    2007,
                    2006,
                    2001
                  ],
                  "yaxis": "y"
                },
                {
                  "hovertemplate": "Certificate=PG<br>value=%{x}<br>Released_Year=%{y}<extra></extra>",
                  "legendgroup": "PG",
                  "marker": {
                    "color": "#FF6692",
                    "symbol": "circle"
                  },
                  "mode": "markers",
                  "name": "PG",
                  "orientation": "v",
                  "showlegend": true,
                  "type": "scatter",
                  "x": [
                    933933,
                    1229197,
                    857524,
                    44908000,
                    23159305,
                    30177511,
                    102308889,
                    21002919,
                    198809,
                    9450000,
                    3981000,
                    48023088,
                    38405088,
                    32481825,
                    21500000,
                    1339152,
                    1752214,
                    536118,
                    696690
                  ],
                  "xaxis": "x",
                  "y": [
                    1997,
                    1975,
                    2014,
                    1957,
                    1999,
                    1979,
                    1969,
                    2009,
                    1972,
                    1952,
                    1938,
                    2016,
                    2005,
                    1999,
                    1983,
                    2015,
                    2010,
                    1951,
                    1971
                  ],
                  "yaxis": "y"
                },
                {
                  "hovertemplate": "Certificate=Passed<br>value=%{x}<br>Released_Year=%{y}<extra></extra>",
                  "legendgroup": "Passed",
                  "marker": {
                    "color": "#B6E880",
                    "symbol": "circle"
                  },
                  "mode": "markers",
                  "name": "Passed",
                  "orientation": "v",
                  "showlegend": true,
                  "type": "scatter",
                  "x": [
                    5720000,
                    10177,
                    5014000,
                    4050000,
                    9600000,
                    12535000,
                    55000,
                    10000000,
                    30500000
                  ],
                  "xaxis": "x",
                  "y": [
                    1944,
                    1950,
                    1948,
                    1962,
                    1939,
                    1959,
                    1940,
                    1933,
                    1953
                  ],
                  "yaxis": "y"
                },
                {
                  "hovertemplate": "Certificate=Approved<br>value=%{x}<br>Released_Year=%{y}<extra></extra>",
                  "legendgroup": "Approved",
                  "marker": {
                    "color": "#FF97FF",
                    "symbol": "circle"
                  },
                  "mode": "markers",
                  "name": "Approved",
                  "orientation": "v",
                  "showlegend": true,
                  "type": "scatter",
                  "x": [
                    3969893,
                    449191,
                    4360000,
                    4360000,
                    23650000,
                    4905000
                  ],
                  "xaxis": "x",
                  "y": [
                    1951,
                    1949,
                    1940,
                    1934,
                    1946,
                    1960
                  ],
                  "yaxis": "y"
                },
                {
                  "hovertemplate": "Certificate=TV-PG<br>value=%{x}<br>Released_Year=%{y}<extra></extra>",
                  "legendgroup": "TV-PG",
                  "marker": {
                    "color": "#FECB52",
                    "symbol": "circle"
                  },
                  "mode": "markers",
                  "name": "TV-PG",
                  "orientation": "v",
                  "showlegend": true,
                  "type": "scatter",
                  "x": [
                    106662
                  ],
                  "xaxis": "x",
                  "y": [
                    2009
                  ],
                  "yaxis": "y"
                },
                {
                  "hovertemplate": "Certificate=U/A<br>value=%{x}<br>Released_Year=%{y}<extra></extra>",
                  "legendgroup": "U/A",
                  "marker": {
                    "color": "#636efa",
                    "symbol": "circle"
                  },
                  "mode": "markers",
                  "name": "U/A",
                  "orientation": "v",
                  "showlegend": true,
                  "type": "scatter",
                  "x": [
                    26020957
                  ],
                  "xaxis": "x",
                  "y": [
                    2018
                  ],
                  "yaxis": "y"
                },
                {
                  "hovertemplate": "Certificate=GP<br>value=%{x}<br>Released_Year=%{y}<extra></extra>",
                  "legendgroup": "GP",
                  "marker": {
                    "color": "#EF553B",
                    "symbol": "circle"
                  },
                  "mode": "markers",
                  "name": "GP",
                  "orientation": "v",
                  "showlegend": true,
                  "type": "scatter",
                  "x": [
                    1378435
                  ],
                  "xaxis": "x",
                  "y": [
                    1970
                  ],
                  "yaxis": "y"
                }
              ],
              "layout": {
                "legend": {
                  "title": {
                    "text": "Certificate"
                  },
                  "tracegroupgap": 0
                },
                "margin": {
                  "t": 60
                },
                "template": {
                  "data": {
                    "bar": [
                      {
                        "error_x": {
                          "color": "#2a3f5f"
                        },
                        "error_y": {
                          "color": "#2a3f5f"
                        },
                        "marker": {
                          "line": {
                            "color": "#E5ECF6",
                            "width": 0.5
                          },
                          "pattern": {
                            "fillmode": "overlay",
                            "size": 10,
                            "solidity": 0.2
                          }
                        },
                        "type": "bar"
                      }
                    ],
                    "barpolar": [
                      {
                        "marker": {
                          "line": {
                            "color": "#E5ECF6",
                            "width": 0.5
                          },
                          "pattern": {
                            "fillmode": "overlay",
                            "size": 10,
                            "solidity": 0.2
                          }
                        },
                        "type": "barpolar"
                      }
                    ],
                    "carpet": [
                      {
                        "aaxis": {
                          "endlinecolor": "#2a3f5f",
                          "gridcolor": "white",
                          "linecolor": "white",
                          "minorgridcolor": "white",
                          "startlinecolor": "#2a3f5f"
                        },
                        "baxis": {
                          "endlinecolor": "#2a3f5f",
                          "gridcolor": "white",
                          "linecolor": "white",
                          "minorgridcolor": "white",
                          "startlinecolor": "#2a3f5f"
                        },
                        "type": "carpet"
                      }
                    ],
                    "choropleth": [
                      {
                        "colorbar": {
                          "outlinewidth": 0,
                          "ticks": ""
                        },
                        "type": "choropleth"
                      }
                    ],
                    "contour": [
                      {
                        "colorbar": {
                          "outlinewidth": 0,
                          "ticks": ""
                        },
                        "colorscale": [
                          [
                            0,
                            "#0d0887"
                          ],
                          [
                            0.1111111111111111,
                            "#46039f"
                          ],
                          [
                            0.2222222222222222,
                            "#7201a8"
                          ],
                          [
                            0.3333333333333333,
                            "#9c179e"
                          ],
                          [
                            0.4444444444444444,
                            "#bd3786"
                          ],
                          [
                            0.5555555555555556,
                            "#d8576b"
                          ],
                          [
                            0.6666666666666666,
                            "#ed7953"
                          ],
                          [
                            0.7777777777777778,
                            "#fb9f3a"
                          ],
                          [
                            0.8888888888888888,
                            "#fdca26"
                          ],
                          [
                            1,
                            "#f0f921"
                          ]
                        ],
                        "type": "contour"
                      }
                    ],
                    "contourcarpet": [
                      {
                        "colorbar": {
                          "outlinewidth": 0,
                          "ticks": ""
                        },
                        "type": "contourcarpet"
                      }
                    ],
                    "heatmap": [
                      {
                        "colorbar": {
                          "outlinewidth": 0,
                          "ticks": ""
                        },
                        "colorscale": [
                          [
                            0,
                            "#0d0887"
                          ],
                          [
                            0.1111111111111111,
                            "#46039f"
                          ],
                          [
                            0.2222222222222222,
                            "#7201a8"
                          ],
                          [
                            0.3333333333333333,
                            "#9c179e"
                          ],
                          [
                            0.4444444444444444,
                            "#bd3786"
                          ],
                          [
                            0.5555555555555556,
                            "#d8576b"
                          ],
                          [
                            0.6666666666666666,
                            "#ed7953"
                          ],
                          [
                            0.7777777777777778,
                            "#fb9f3a"
                          ],
                          [
                            0.8888888888888888,
                            "#fdca26"
                          ],
                          [
                            1,
                            "#f0f921"
                          ]
                        ],
                        "type": "heatmap"
                      }
                    ],
                    "heatmapgl": [
                      {
                        "colorbar": {
                          "outlinewidth": 0,
                          "ticks": ""
                        },
                        "colorscale": [
                          [
                            0,
                            "#0d0887"
                          ],
                          [
                            0.1111111111111111,
                            "#46039f"
                          ],
                          [
                            0.2222222222222222,
                            "#7201a8"
                          ],
                          [
                            0.3333333333333333,
                            "#9c179e"
                          ],
                          [
                            0.4444444444444444,
                            "#bd3786"
                          ],
                          [
                            0.5555555555555556,
                            "#d8576b"
                          ],
                          [
                            0.6666666666666666,
                            "#ed7953"
                          ],
                          [
                            0.7777777777777778,
                            "#fb9f3a"
                          ],
                          [
                            0.8888888888888888,
                            "#fdca26"
                          ],
                          [
                            1,
                            "#f0f921"
                          ]
                        ],
                        "type": "heatmapgl"
                      }
                    ],
                    "histogram": [
                      {
                        "marker": {
                          "pattern": {
                            "fillmode": "overlay",
                            "size": 10,
                            "solidity": 0.2
                          }
                        },
                        "type": "histogram"
                      }
                    ],
                    "histogram2d": [
                      {
                        "colorbar": {
                          "outlinewidth": 0,
                          "ticks": ""
                        },
                        "colorscale": [
                          [
                            0,
                            "#0d0887"
                          ],
                          [
                            0.1111111111111111,
                            "#46039f"
                          ],
                          [
                            0.2222222222222222,
                            "#7201a8"
                          ],
                          [
                            0.3333333333333333,
                            "#9c179e"
                          ],
                          [
                            0.4444444444444444,
                            "#bd3786"
                          ],
                          [
                            0.5555555555555556,
                            "#d8576b"
                          ],
                          [
                            0.6666666666666666,
                            "#ed7953"
                          ],
                          [
                            0.7777777777777778,
                            "#fb9f3a"
                          ],
                          [
                            0.8888888888888888,
                            "#fdca26"
                          ],
                          [
                            1,
                            "#f0f921"
                          ]
                        ],
                        "type": "histogram2d"
                      }
                    ],
                    "histogram2dcontour": [
                      {
                        "colorbar": {
                          "outlinewidth": 0,
                          "ticks": ""
                        },
                        "colorscale": [
                          [
                            0,
                            "#0d0887"
                          ],
                          [
                            0.1111111111111111,
                            "#46039f"
                          ],
                          [
                            0.2222222222222222,
                            "#7201a8"
                          ],
                          [
                            0.3333333333333333,
                            "#9c179e"
                          ],
                          [
                            0.4444444444444444,
                            "#bd3786"
                          ],
                          [
                            0.5555555555555556,
                            "#d8576b"
                          ],
                          [
                            0.6666666666666666,
                            "#ed7953"
                          ],
                          [
                            0.7777777777777778,
                            "#fb9f3a"
                          ],
                          [
                            0.8888888888888888,
                            "#fdca26"
                          ],
                          [
                            1,
                            "#f0f921"
                          ]
                        ],
                        "type": "histogram2dcontour"
                      }
                    ],
                    "mesh3d": [
                      {
                        "colorbar": {
                          "outlinewidth": 0,
                          "ticks": ""
                        },
                        "type": "mesh3d"
                      }
                    ],
                    "parcoords": [
                      {
                        "line": {
                          "colorbar": {
                            "outlinewidth": 0,
                            "ticks": ""
                          }
                        },
                        "type": "parcoords"
                      }
                    ],
                    "pie": [
                      {
                        "automargin": true,
                        "type": "pie"
                      }
                    ],
                    "scatter": [
                      {
                        "fillpattern": {
                          "fillmode": "overlay",
                          "size": 10,
                          "solidity": 0.2
                        },
                        "type": "scatter"
                      }
                    ],
                    "scatter3d": [
                      {
                        "line": {
                          "colorbar": {
                            "outlinewidth": 0,
                            "ticks": ""
                          }
                        },
                        "marker": {
                          "colorbar": {
                            "outlinewidth": 0,
                            "ticks": ""
                          }
                        },
                        "type": "scatter3d"
                      }
                    ],
                    "scattercarpet": [
                      {
                        "marker": {
                          "colorbar": {
                            "outlinewidth": 0,
                            "ticks": ""
                          }
                        },
                        "type": "scattercarpet"
                      }
                    ],
                    "scattergeo": [
                      {
                        "marker": {
                          "colorbar": {
                            "outlinewidth": 0,
                            "ticks": ""
                          }
                        },
                        "type": "scattergeo"
                      }
                    ],
                    "scattergl": [
                      {
                        "marker": {
                          "colorbar": {
                            "outlinewidth": 0,
                            "ticks": ""
                          }
                        },
                        "type": "scattergl"
                      }
                    ],
                    "scattermapbox": [
                      {
                        "marker": {
                          "colorbar": {
                            "outlinewidth": 0,
                            "ticks": ""
                          }
                        },
                        "type": "scattermapbox"
                      }
                    ],
                    "scatterpolar": [
                      {
                        "marker": {
                          "colorbar": {
                            "outlinewidth": 0,
                            "ticks": ""
                          }
                        },
                        "type": "scatterpolar"
                      }
                    ],
                    "scatterpolargl": [
                      {
                        "marker": {
                          "colorbar": {
                            "outlinewidth": 0,
                            "ticks": ""
                          }
                        },
                        "type": "scatterpolargl"
                      }
                    ],
                    "scatterternary": [
                      {
                        "marker": {
                          "colorbar": {
                            "outlinewidth": 0,
                            "ticks": ""
                          }
                        },
                        "type": "scatterternary"
                      }
                    ],
                    "surface": [
                      {
                        "colorbar": {
                          "outlinewidth": 0,
                          "ticks": ""
                        },
                        "colorscale": [
                          [
                            0,
                            "#0d0887"
                          ],
                          [
                            0.1111111111111111,
                            "#46039f"
                          ],
                          [
                            0.2222222222222222,
                            "#7201a8"
                          ],
                          [
                            0.3333333333333333,
                            "#9c179e"
                          ],
                          [
                            0.4444444444444444,
                            "#bd3786"
                          ],
                          [
                            0.5555555555555556,
                            "#d8576b"
                          ],
                          [
                            0.6666666666666666,
                            "#ed7953"
                          ],
                          [
                            0.7777777777777778,
                            "#fb9f3a"
                          ],
                          [
                            0.8888888888888888,
                            "#fdca26"
                          ],
                          [
                            1,
                            "#f0f921"
                          ]
                        ],
                        "type": "surface"
                      }
                    ],
                    "table": [
                      {
                        "cells": {
                          "fill": {
                            "color": "#EBF0F8"
                          },
                          "line": {
                            "color": "white"
                          }
                        },
                        "header": {
                          "fill": {
                            "color": "#C8D4E3"
                          },
                          "line": {
                            "color": "white"
                          }
                        },
                        "type": "table"
                      }
                    ]
                  },
                  "layout": {
                    "annotationdefaults": {
                      "arrowcolor": "#2a3f5f",
                      "arrowhead": 0,
                      "arrowwidth": 1
                    },
                    "autotypenumbers": "strict",
                    "coloraxis": {
                      "colorbar": {
                        "outlinewidth": 0,
                        "ticks": ""
                      }
                    },
                    "colorscale": {
                      "diverging": [
                        [
                          0,
                          "#8e0152"
                        ],
                        [
                          0.1,
                          "#c51b7d"
                        ],
                        [
                          0.2,
                          "#de77ae"
                        ],
                        [
                          0.3,
                          "#f1b6da"
                        ],
                        [
                          0.4,
                          "#fde0ef"
                        ],
                        [
                          0.5,
                          "#f7f7f7"
                        ],
                        [
                          0.6,
                          "#e6f5d0"
                        ],
                        [
                          0.7,
                          "#b8e186"
                        ],
                        [
                          0.8,
                          "#7fbc41"
                        ],
                        [
                          0.9,
                          "#4d9221"
                        ],
                        [
                          1,
                          "#276419"
                        ]
                      ],
                      "sequential": [
                        [
                          0,
                          "#0d0887"
                        ],
                        [
                          0.1111111111111111,
                          "#46039f"
                        ],
                        [
                          0.2222222222222222,
                          "#7201a8"
                        ],
                        [
                          0.3333333333333333,
                          "#9c179e"
                        ],
                        [
                          0.4444444444444444,
                          "#bd3786"
                        ],
                        [
                          0.5555555555555556,
                          "#d8576b"
                        ],
                        [
                          0.6666666666666666,
                          "#ed7953"
                        ],
                        [
                          0.7777777777777778,
                          "#fb9f3a"
                        ],
                        [
                          0.8888888888888888,
                          "#fdca26"
                        ],
                        [
                          1,
                          "#f0f921"
                        ]
                      ],
                      "sequentialminus": [
                        [
                          0,
                          "#0d0887"
                        ],
                        [
                          0.1111111111111111,
                          "#46039f"
                        ],
                        [
                          0.2222222222222222,
                          "#7201a8"
                        ],
                        [
                          0.3333333333333333,
                          "#9c179e"
                        ],
                        [
                          0.4444444444444444,
                          "#bd3786"
                        ],
                        [
                          0.5555555555555556,
                          "#d8576b"
                        ],
                        [
                          0.6666666666666666,
                          "#ed7953"
                        ],
                        [
                          0.7777777777777778,
                          "#fb9f3a"
                        ],
                        [
                          0.8888888888888888,
                          "#fdca26"
                        ],
                        [
                          1,
                          "#f0f921"
                        ]
                      ]
                    },
                    "colorway": [
                      "#636efa",
                      "#EF553B",
                      "#00cc96",
                      "#ab63fa",
                      "#FFA15A",
                      "#19d3f3",
                      "#FF6692",
                      "#B6E880",
                      "#FF97FF",
                      "#FECB52"
                    ],
                    "font": {
                      "color": "#2a3f5f"
                    },
                    "geo": {
                      "bgcolor": "white",
                      "lakecolor": "white",
                      "landcolor": "#E5ECF6",
                      "showlakes": true,
                      "showland": true,
                      "subunitcolor": "white"
                    },
                    "hoverlabel": {
                      "align": "left"
                    },
                    "hovermode": "closest",
                    "mapbox": {
                      "style": "light"
                    },
                    "paper_bgcolor": "white",
                    "plot_bgcolor": "#E5ECF6",
                    "polar": {
                      "angularaxis": {
                        "gridcolor": "white",
                        "linecolor": "white",
                        "ticks": ""
                      },
                      "bgcolor": "#E5ECF6",
                      "radialaxis": {
                        "gridcolor": "white",
                        "linecolor": "white",
                        "ticks": ""
                      }
                    },
                    "scene": {
                      "xaxis": {
                        "backgroundcolor": "#E5ECF6",
                        "gridcolor": "white",
                        "gridwidth": 2,
                        "linecolor": "white",
                        "showbackground": true,
                        "ticks": "",
                        "zerolinecolor": "white"
                      },
                      "yaxis": {
                        "backgroundcolor": "#E5ECF6",
                        "gridcolor": "white",
                        "gridwidth": 2,
                        "linecolor": "white",
                        "showbackground": true,
                        "ticks": "",
                        "zerolinecolor": "white"
                      },
                      "zaxis": {
                        "backgroundcolor": "#E5ECF6",
                        "gridcolor": "white",
                        "gridwidth": 2,
                        "linecolor": "white",
                        "showbackground": true,
                        "ticks": "",
                        "zerolinecolor": "white"
                      }
                    },
                    "shapedefaults": {
                      "line": {
                        "color": "#2a3f5f"
                      }
                    },
                    "ternary": {
                      "aaxis": {
                        "gridcolor": "white",
                        "linecolor": "white",
                        "ticks": ""
                      },
                      "baxis": {
                        "gridcolor": "white",
                        "linecolor": "white",
                        "ticks": ""
                      },
                      "bgcolor": "#E5ECF6",
                      "caxis": {
                        "gridcolor": "white",
                        "linecolor": "white",
                        "ticks": ""
                      }
                    },
                    "title": {
                      "x": 0.05
                    },
                    "xaxis": {
                      "automargin": true,
                      "gridcolor": "white",
                      "linecolor": "white",
                      "ticks": "",
                      "title": {
                        "standoff": 15
                      },
                      "zerolinecolor": "white",
                      "zerolinewidth": 2
                    },
                    "yaxis": {
                      "automargin": true,
                      "gridcolor": "white",
                      "linecolor": "white",
                      "ticks": "",
                      "title": {
                        "standoff": 15
                      },
                      "zerolinecolor": "white",
                      "zerolinewidth": 2
                    }
                  }
                },
                "xaxis": {
                  "anchor": "y",
                  "domain": [
                    0,
                    1
                  ],
                  "title": {
                    "text": "value"
                  }
                },
                "yaxis": {
                  "anchor": "x",
                  "domain": [
                    0,
                    1
                  ],
                  "title": {
                    "text": "Released_Year"
                  }
                }
              }
            }
          },
          "metadata": {},
          "output_type": "display_data"
        }
      ],
      "source": [
        "import plotly.graph_objects as go\n",
        "\n",
        "px.scatter(new_movie,x=['Gross'],y='Released_Year',color='Certificate')"
      ]
    },
    {
      "cell_type": "markdown",
      "metadata": {},
      "source": [
        "                                  Released Year vs Gross Collection\n",
        "\n",
        "Analysis:\n",
        "1. No. of movies made is increasing with year.\n",
        "2. We see Certificate affecting the gross collection.\n",
        "3. 'UA' has more films with large gross collection compared to other certificates.\n",
        "4. As Certificate affects the no. of audience which affects the gross collection."
      ]
    },
    {
      "cell_type": "code",
      "execution_count": 173,
      "metadata": {},
      "outputs": [],
      "source": [
        "Gross_Mean = new_movie.groupby('Released_Year').Gross.mean()\n",
        "IMDB_Rating_Mean = new_movie.groupby('Released_Year').IMDB_Rating.mean()\n",
        "Meta_score_Mean = new_movie.groupby('Released_Year').Meta_score.mean()\n",
        "new1 = pd.concat([Gross_Mean,IMDB_Rating_Mean,Meta_score_Mean],axis=1)\n",
        "new1.reset_index(level=0,inplace=True)"
      ]
    },
    {
      "cell_type": "code",
      "execution_count": 174,
      "metadata": {},
      "outputs": [
        {
          "data": {
            "application/vnd.plotly.v1+json": {
              "config": {
                "plotlyServerURL": "https://plot.ly"
              },
              "data": [
                {
                  "hovertemplate": "Released_Year=%{x}<br>Meta_score=%{y}<extra></extra>",
                  "legendgroup": "",
                  "line": {
                    "color": "#636efa",
                    "dash": "solid"
                  },
                  "marker": {
                    "symbol": "circle"
                  },
                  "mode": "lines",
                  "name": "",
                  "orientation": "v",
                  "showlegend": false,
                  "type": "scatter",
                  "x": [
                    1930,
                    1931,
                    1933,
                    1934,
                    1936,
                    1938,
                    1939,
                    1940,
                    1941,
                    1942,
                    1944,
                    1946,
                    1948,
                    1949,
                    1950,
                    1951,
                    1952,
                    1953,
                    1954,
                    1957,
                    1958,
                    1959,
                    1960,
                    1961,
                    1962,
                    1963,
                    1964,
                    1965,
                    1966,
                    1967,
                    1968,
                    1969,
                    1970,
                    1971,
                    1972,
                    1973,
                    1974,
                    1975,
                    1976,
                    1977,
                    1978,
                    1979,
                    1980,
                    1981,
                    1982,
                    1983,
                    1984,
                    1985,
                    1986,
                    1987,
                    1988,
                    1989,
                    1990,
                    1991,
                    1992,
                    1993,
                    1994,
                    1995,
                    1996,
                    1997,
                    1998,
                    1999,
                    2000,
                    2001,
                    2002,
                    2003,
                    2004,
                    2005,
                    2006,
                    2007,
                    2008,
                    2009,
                    2010,
                    2011,
                    2012,
                    2013,
                    2014,
                    2015,
                    2016,
                    2017,
                    2018,
                    2019
                  ],
                  "xaxis": "x",
                  "y": [
                    91,
                    99,
                    90,
                    87,
                    96,
                    97,
                    87.33333333333333,
                    92.66666666666667,
                    100,
                    100,
                    95,
                    96.5,
                    98,
                    97,
                    98,
                    87,
                    94,
                    85,
                    91,
                    91.5,
                    94.33333333333333,
                    94.75,
                    89.4,
                    89,
                    83.33333333333333,
                    86.33333333333333,
                    88,
                    68.66666666666667,
                    81,
                    78.75,
                    82.25,
                    80.66666666666667,
                    80.33333333333333,
                    80.71428571428571,
                    88.25,
                    78.5,
                    84,
                    86.75,
                    77.6,
                    90.66666666666667,
                    75.75,
                    79,
                    76.83333333333333,
                    79,
                    73.6,
                    72.75,
                    82.125,
                    79.75,
                    75.875,
                    73.16666666666667,
                    75.28571428571429,
                    78.88888888888889,
                    71.75,
                    76.9090909090909,
                    73.4,
                    71.78947368421052,
                    80.91666666666667,
                    74.07142857142857,
                    75.25,
                    69.53846153846153,
                    72.8125,
                    75,
                    72.0625,
                    73.91666666666667,
                    76.33333333333333,
                    73.05263157894737,
                    70.88888888888889,
                    71,
                    74,
                    78.47619047619048,
                    71.70588235294117,
                    74.91304347826087,
                    73.27777777777777,
                    75.42857142857143,
                    76.78571428571429,
                    77.5909090909091,
                    77.46428571428571,
                    79.83333333333333,
                    78.95,
                    79.16666666666667,
                    76.16666666666667,
                    80.53333333333333
                  ],
                  "yaxis": "y"
                }
              ],
              "layout": {
                "legend": {
                  "tracegroupgap": 0
                },
                "margin": {
                  "t": 60
                },
                "template": {
                  "data": {
                    "bar": [
                      {
                        "error_x": {
                          "color": "#2a3f5f"
                        },
                        "error_y": {
                          "color": "#2a3f5f"
                        },
                        "marker": {
                          "line": {
                            "color": "#E5ECF6",
                            "width": 0.5
                          },
                          "pattern": {
                            "fillmode": "overlay",
                            "size": 10,
                            "solidity": 0.2
                          }
                        },
                        "type": "bar"
                      }
                    ],
                    "barpolar": [
                      {
                        "marker": {
                          "line": {
                            "color": "#E5ECF6",
                            "width": 0.5
                          },
                          "pattern": {
                            "fillmode": "overlay",
                            "size": 10,
                            "solidity": 0.2
                          }
                        },
                        "type": "barpolar"
                      }
                    ],
                    "carpet": [
                      {
                        "aaxis": {
                          "endlinecolor": "#2a3f5f",
                          "gridcolor": "white",
                          "linecolor": "white",
                          "minorgridcolor": "white",
                          "startlinecolor": "#2a3f5f"
                        },
                        "baxis": {
                          "endlinecolor": "#2a3f5f",
                          "gridcolor": "white",
                          "linecolor": "white",
                          "minorgridcolor": "white",
                          "startlinecolor": "#2a3f5f"
                        },
                        "type": "carpet"
                      }
                    ],
                    "choropleth": [
                      {
                        "colorbar": {
                          "outlinewidth": 0,
                          "ticks": ""
                        },
                        "type": "choropleth"
                      }
                    ],
                    "contour": [
                      {
                        "colorbar": {
                          "outlinewidth": 0,
                          "ticks": ""
                        },
                        "colorscale": [
                          [
                            0,
                            "#0d0887"
                          ],
                          [
                            0.1111111111111111,
                            "#46039f"
                          ],
                          [
                            0.2222222222222222,
                            "#7201a8"
                          ],
                          [
                            0.3333333333333333,
                            "#9c179e"
                          ],
                          [
                            0.4444444444444444,
                            "#bd3786"
                          ],
                          [
                            0.5555555555555556,
                            "#d8576b"
                          ],
                          [
                            0.6666666666666666,
                            "#ed7953"
                          ],
                          [
                            0.7777777777777778,
                            "#fb9f3a"
                          ],
                          [
                            0.8888888888888888,
                            "#fdca26"
                          ],
                          [
                            1,
                            "#f0f921"
                          ]
                        ],
                        "type": "contour"
                      }
                    ],
                    "contourcarpet": [
                      {
                        "colorbar": {
                          "outlinewidth": 0,
                          "ticks": ""
                        },
                        "type": "contourcarpet"
                      }
                    ],
                    "heatmap": [
                      {
                        "colorbar": {
                          "outlinewidth": 0,
                          "ticks": ""
                        },
                        "colorscale": [
                          [
                            0,
                            "#0d0887"
                          ],
                          [
                            0.1111111111111111,
                            "#46039f"
                          ],
                          [
                            0.2222222222222222,
                            "#7201a8"
                          ],
                          [
                            0.3333333333333333,
                            "#9c179e"
                          ],
                          [
                            0.4444444444444444,
                            "#bd3786"
                          ],
                          [
                            0.5555555555555556,
                            "#d8576b"
                          ],
                          [
                            0.6666666666666666,
                            "#ed7953"
                          ],
                          [
                            0.7777777777777778,
                            "#fb9f3a"
                          ],
                          [
                            0.8888888888888888,
                            "#fdca26"
                          ],
                          [
                            1,
                            "#f0f921"
                          ]
                        ],
                        "type": "heatmap"
                      }
                    ],
                    "heatmapgl": [
                      {
                        "colorbar": {
                          "outlinewidth": 0,
                          "ticks": ""
                        },
                        "colorscale": [
                          [
                            0,
                            "#0d0887"
                          ],
                          [
                            0.1111111111111111,
                            "#46039f"
                          ],
                          [
                            0.2222222222222222,
                            "#7201a8"
                          ],
                          [
                            0.3333333333333333,
                            "#9c179e"
                          ],
                          [
                            0.4444444444444444,
                            "#bd3786"
                          ],
                          [
                            0.5555555555555556,
                            "#d8576b"
                          ],
                          [
                            0.6666666666666666,
                            "#ed7953"
                          ],
                          [
                            0.7777777777777778,
                            "#fb9f3a"
                          ],
                          [
                            0.8888888888888888,
                            "#fdca26"
                          ],
                          [
                            1,
                            "#f0f921"
                          ]
                        ],
                        "type": "heatmapgl"
                      }
                    ],
                    "histogram": [
                      {
                        "marker": {
                          "pattern": {
                            "fillmode": "overlay",
                            "size": 10,
                            "solidity": 0.2
                          }
                        },
                        "type": "histogram"
                      }
                    ],
                    "histogram2d": [
                      {
                        "colorbar": {
                          "outlinewidth": 0,
                          "ticks": ""
                        },
                        "colorscale": [
                          [
                            0,
                            "#0d0887"
                          ],
                          [
                            0.1111111111111111,
                            "#46039f"
                          ],
                          [
                            0.2222222222222222,
                            "#7201a8"
                          ],
                          [
                            0.3333333333333333,
                            "#9c179e"
                          ],
                          [
                            0.4444444444444444,
                            "#bd3786"
                          ],
                          [
                            0.5555555555555556,
                            "#d8576b"
                          ],
                          [
                            0.6666666666666666,
                            "#ed7953"
                          ],
                          [
                            0.7777777777777778,
                            "#fb9f3a"
                          ],
                          [
                            0.8888888888888888,
                            "#fdca26"
                          ],
                          [
                            1,
                            "#f0f921"
                          ]
                        ],
                        "type": "histogram2d"
                      }
                    ],
                    "histogram2dcontour": [
                      {
                        "colorbar": {
                          "outlinewidth": 0,
                          "ticks": ""
                        },
                        "colorscale": [
                          [
                            0,
                            "#0d0887"
                          ],
                          [
                            0.1111111111111111,
                            "#46039f"
                          ],
                          [
                            0.2222222222222222,
                            "#7201a8"
                          ],
                          [
                            0.3333333333333333,
                            "#9c179e"
                          ],
                          [
                            0.4444444444444444,
                            "#bd3786"
                          ],
                          [
                            0.5555555555555556,
                            "#d8576b"
                          ],
                          [
                            0.6666666666666666,
                            "#ed7953"
                          ],
                          [
                            0.7777777777777778,
                            "#fb9f3a"
                          ],
                          [
                            0.8888888888888888,
                            "#fdca26"
                          ],
                          [
                            1,
                            "#f0f921"
                          ]
                        ],
                        "type": "histogram2dcontour"
                      }
                    ],
                    "mesh3d": [
                      {
                        "colorbar": {
                          "outlinewidth": 0,
                          "ticks": ""
                        },
                        "type": "mesh3d"
                      }
                    ],
                    "parcoords": [
                      {
                        "line": {
                          "colorbar": {
                            "outlinewidth": 0,
                            "ticks": ""
                          }
                        },
                        "type": "parcoords"
                      }
                    ],
                    "pie": [
                      {
                        "automargin": true,
                        "type": "pie"
                      }
                    ],
                    "scatter": [
                      {
                        "fillpattern": {
                          "fillmode": "overlay",
                          "size": 10,
                          "solidity": 0.2
                        },
                        "type": "scatter"
                      }
                    ],
                    "scatter3d": [
                      {
                        "line": {
                          "colorbar": {
                            "outlinewidth": 0,
                            "ticks": ""
                          }
                        },
                        "marker": {
                          "colorbar": {
                            "outlinewidth": 0,
                            "ticks": ""
                          }
                        },
                        "type": "scatter3d"
                      }
                    ],
                    "scattercarpet": [
                      {
                        "marker": {
                          "colorbar": {
                            "outlinewidth": 0,
                            "ticks": ""
                          }
                        },
                        "type": "scattercarpet"
                      }
                    ],
                    "scattergeo": [
                      {
                        "marker": {
                          "colorbar": {
                            "outlinewidth": 0,
                            "ticks": ""
                          }
                        },
                        "type": "scattergeo"
                      }
                    ],
                    "scattergl": [
                      {
                        "marker": {
                          "colorbar": {
                            "outlinewidth": 0,
                            "ticks": ""
                          }
                        },
                        "type": "scattergl"
                      }
                    ],
                    "scattermapbox": [
                      {
                        "marker": {
                          "colorbar": {
                            "outlinewidth": 0,
                            "ticks": ""
                          }
                        },
                        "type": "scattermapbox"
                      }
                    ],
                    "scatterpolar": [
                      {
                        "marker": {
                          "colorbar": {
                            "outlinewidth": 0,
                            "ticks": ""
                          }
                        },
                        "type": "scatterpolar"
                      }
                    ],
                    "scatterpolargl": [
                      {
                        "marker": {
                          "colorbar": {
                            "outlinewidth": 0,
                            "ticks": ""
                          }
                        },
                        "type": "scatterpolargl"
                      }
                    ],
                    "scatterternary": [
                      {
                        "marker": {
                          "colorbar": {
                            "outlinewidth": 0,
                            "ticks": ""
                          }
                        },
                        "type": "scatterternary"
                      }
                    ],
                    "surface": [
                      {
                        "colorbar": {
                          "outlinewidth": 0,
                          "ticks": ""
                        },
                        "colorscale": [
                          [
                            0,
                            "#0d0887"
                          ],
                          [
                            0.1111111111111111,
                            "#46039f"
                          ],
                          [
                            0.2222222222222222,
                            "#7201a8"
                          ],
                          [
                            0.3333333333333333,
                            "#9c179e"
                          ],
                          [
                            0.4444444444444444,
                            "#bd3786"
                          ],
                          [
                            0.5555555555555556,
                            "#d8576b"
                          ],
                          [
                            0.6666666666666666,
                            "#ed7953"
                          ],
                          [
                            0.7777777777777778,
                            "#fb9f3a"
                          ],
                          [
                            0.8888888888888888,
                            "#fdca26"
                          ],
                          [
                            1,
                            "#f0f921"
                          ]
                        ],
                        "type": "surface"
                      }
                    ],
                    "table": [
                      {
                        "cells": {
                          "fill": {
                            "color": "#EBF0F8"
                          },
                          "line": {
                            "color": "white"
                          }
                        },
                        "header": {
                          "fill": {
                            "color": "#C8D4E3"
                          },
                          "line": {
                            "color": "white"
                          }
                        },
                        "type": "table"
                      }
                    ]
                  },
                  "layout": {
                    "annotationdefaults": {
                      "arrowcolor": "#2a3f5f",
                      "arrowhead": 0,
                      "arrowwidth": 1
                    },
                    "autotypenumbers": "strict",
                    "coloraxis": {
                      "colorbar": {
                        "outlinewidth": 0,
                        "ticks": ""
                      }
                    },
                    "colorscale": {
                      "diverging": [
                        [
                          0,
                          "#8e0152"
                        ],
                        [
                          0.1,
                          "#c51b7d"
                        ],
                        [
                          0.2,
                          "#de77ae"
                        ],
                        [
                          0.3,
                          "#f1b6da"
                        ],
                        [
                          0.4,
                          "#fde0ef"
                        ],
                        [
                          0.5,
                          "#f7f7f7"
                        ],
                        [
                          0.6,
                          "#e6f5d0"
                        ],
                        [
                          0.7,
                          "#b8e186"
                        ],
                        [
                          0.8,
                          "#7fbc41"
                        ],
                        [
                          0.9,
                          "#4d9221"
                        ],
                        [
                          1,
                          "#276419"
                        ]
                      ],
                      "sequential": [
                        [
                          0,
                          "#0d0887"
                        ],
                        [
                          0.1111111111111111,
                          "#46039f"
                        ],
                        [
                          0.2222222222222222,
                          "#7201a8"
                        ],
                        [
                          0.3333333333333333,
                          "#9c179e"
                        ],
                        [
                          0.4444444444444444,
                          "#bd3786"
                        ],
                        [
                          0.5555555555555556,
                          "#d8576b"
                        ],
                        [
                          0.6666666666666666,
                          "#ed7953"
                        ],
                        [
                          0.7777777777777778,
                          "#fb9f3a"
                        ],
                        [
                          0.8888888888888888,
                          "#fdca26"
                        ],
                        [
                          1,
                          "#f0f921"
                        ]
                      ],
                      "sequentialminus": [
                        [
                          0,
                          "#0d0887"
                        ],
                        [
                          0.1111111111111111,
                          "#46039f"
                        ],
                        [
                          0.2222222222222222,
                          "#7201a8"
                        ],
                        [
                          0.3333333333333333,
                          "#9c179e"
                        ],
                        [
                          0.4444444444444444,
                          "#bd3786"
                        ],
                        [
                          0.5555555555555556,
                          "#d8576b"
                        ],
                        [
                          0.6666666666666666,
                          "#ed7953"
                        ],
                        [
                          0.7777777777777778,
                          "#fb9f3a"
                        ],
                        [
                          0.8888888888888888,
                          "#fdca26"
                        ],
                        [
                          1,
                          "#f0f921"
                        ]
                      ]
                    },
                    "colorway": [
                      "#636efa",
                      "#EF553B",
                      "#00cc96",
                      "#ab63fa",
                      "#FFA15A",
                      "#19d3f3",
                      "#FF6692",
                      "#B6E880",
                      "#FF97FF",
                      "#FECB52"
                    ],
                    "font": {
                      "color": "#2a3f5f"
                    },
                    "geo": {
                      "bgcolor": "white",
                      "lakecolor": "white",
                      "landcolor": "#E5ECF6",
                      "showlakes": true,
                      "showland": true,
                      "subunitcolor": "white"
                    },
                    "hoverlabel": {
                      "align": "left"
                    },
                    "hovermode": "closest",
                    "mapbox": {
                      "style": "light"
                    },
                    "paper_bgcolor": "white",
                    "plot_bgcolor": "#E5ECF6",
                    "polar": {
                      "angularaxis": {
                        "gridcolor": "white",
                        "linecolor": "white",
                        "ticks": ""
                      },
                      "bgcolor": "#E5ECF6",
                      "radialaxis": {
                        "gridcolor": "white",
                        "linecolor": "white",
                        "ticks": ""
                      }
                    },
                    "scene": {
                      "xaxis": {
                        "backgroundcolor": "#E5ECF6",
                        "gridcolor": "white",
                        "gridwidth": 2,
                        "linecolor": "white",
                        "showbackground": true,
                        "ticks": "",
                        "zerolinecolor": "white"
                      },
                      "yaxis": {
                        "backgroundcolor": "#E5ECF6",
                        "gridcolor": "white",
                        "gridwidth": 2,
                        "linecolor": "white",
                        "showbackground": true,
                        "ticks": "",
                        "zerolinecolor": "white"
                      },
                      "zaxis": {
                        "backgroundcolor": "#E5ECF6",
                        "gridcolor": "white",
                        "gridwidth": 2,
                        "linecolor": "white",
                        "showbackground": true,
                        "ticks": "",
                        "zerolinecolor": "white"
                      }
                    },
                    "shapedefaults": {
                      "line": {
                        "color": "#2a3f5f"
                      }
                    },
                    "ternary": {
                      "aaxis": {
                        "gridcolor": "white",
                        "linecolor": "white",
                        "ticks": ""
                      },
                      "baxis": {
                        "gridcolor": "white",
                        "linecolor": "white",
                        "ticks": ""
                      },
                      "bgcolor": "#E5ECF6",
                      "caxis": {
                        "gridcolor": "white",
                        "linecolor": "white",
                        "ticks": ""
                      }
                    },
                    "title": {
                      "x": 0.05
                    },
                    "xaxis": {
                      "automargin": true,
                      "gridcolor": "white",
                      "linecolor": "white",
                      "ticks": "",
                      "title": {
                        "standoff": 15
                      },
                      "zerolinecolor": "white",
                      "zerolinewidth": 2
                    },
                    "yaxis": {
                      "automargin": true,
                      "gridcolor": "white",
                      "linecolor": "white",
                      "ticks": "",
                      "title": {
                        "standoff": 15
                      },
                      "zerolinecolor": "white",
                      "zerolinewidth": 2
                    }
                  }
                },
                "xaxis": {
                  "anchor": "y",
                  "domain": [
                    0,
                    1
                  ],
                  "title": {
                    "text": "Released_Year"
                  }
                },
                "yaxis": {
                  "anchor": "x",
                  "domain": [
                    0,
                    1
                  ],
                  "title": {
                    "text": "Meta_score"
                  }
                }
              }
            }
          },
          "metadata": {},
          "output_type": "display_data"
        }
      ],
      "source": [
        "px.line(new1,y='Meta_score',x='Released_Year')"
      ]
    },
    {
      "cell_type": "code",
      "execution_count": 131,
      "metadata": {},
      "outputs": [
        {
          "data": {
            "application/vnd.plotly.v1+json": {
              "config": {
                "plotlyServerURL": "https://plot.ly"
              },
              "data": [
                {
                  "hovertemplate": "Meta_score=%{x}<br>IMDB_Rating=%{y}<br>Released_Year=%{marker.color}<extra></extra>",
                  "legendgroup": "",
                  "marker": {
                    "color": [
                      1994,
                      1972,
                      2008,
                      1974,
                      1957,
                      2003,
                      1994,
                      1993,
                      2010,
                      1999,
                      2001,
                      1994,
                      1966,
                      2002,
                      1999,
                      1990,
                      1980,
                      1975,
                      2019,
                      2014,
                      2002,
                      2001,
                      1998,
                      1999,
                      1997,
                      1995,
                      1991,
                      1977,
                      1954,
                      2019,
                      2014,
                      2011,
                      2006,
                      2006,
                      2002,
                      2000,
                      1998,
                      1995,
                      1994,
                      1994,
                      1991,
                      1988,
                      1985,
                      1968,
                      1960,
                      1942,
                      1936,
                      1931,
                      2018,
                      2016,
                      2018,
                      2019,
                      2018,
                      2017,
                      2012,
                      2012,
                      2009,
                      2008,
                      2006,
                      2003,
                      2000,
                      1997,
                      1981,
                      1980,
                      1979,
                      1979,
                      1964,
                      1954,
                      2019,
                      2012,
                      2011,
                      2010,
                      2009,
                      2004,
                      2001,
                      2000,
                      2000,
                      1999,
                      1997,
                      1997,
                      1995,
                      1995,
                      1992,
                      1987,
                      1986,
                      1984,
                      1983,
                      1983,
                      1981,
                      1976,
                      1973,
                      1971,
                      1968,
                      1965,
                      1962,
                      1960,
                      1959,
                      1958,
                      1952,
                      1944,
                      1941,
                      2018,
                      2017,
                      2009,
                      2011,
                      2010,
                      2009,
                      2013,
                      2007,
                      2007,
                      2006,
                      2010,
                      2005,
                      2005,
                      2004,
                      2004,
                      2001,
                      1998,
                      1997,
                      1995,
                      1995,
                      1992,
                      1989,
                      1988,
                      1988,
                      1985,
                      1980,
                      1975,
                      1963,
                      1959,
                      1954,
                      1950,
                      1948,
                      2019,
                      2016,
                      2014,
                      2017,
                      2015,
                      2014,
                      2014,
                      2014,
                      2016,
                      2015,
                      2013,
                      2013,
                      2019,
                      2015,
                      2014,
                      2013,
                      2015,
                      2008,
                      2011,
                      2008,
                      2010,
                      2007,
                      2007,
                      2004,
                      2004,
                      2004,
                      2004,
                      2003,
                      2003,
                      2003,
                      2002,
                      2000,
                      2001,
                      2001,
                      1999,
                      1998,
                      1998,
                      1998,
                      1998,
                      2000,
                      1996,
                      1996,
                      1995,
                      1994,
                      1994,
                      1993,
                      1993,
                      1989,
                      1986,
                      1986,
                      1984,
                      1984,
                      1982,
                      1982,
                      1982,
                      1982,
                      1979,
                      1978,
                      1976,
                      1974,
                      1973,
                      1967,
                      1962,
                      1959,
                      1957,
                      1954,
                      1951,
                      1949,
                      1940,
                      1939,
                      1939,
                      1934,
                      2016,
                      2016,
                      2015,
                      2016,
                      2013,
                      2017,
                      2019,
                      2013,
                      2014,
                      2014,
                      2014,
                      2017,
                      2013,
                      2018,
                      2015,
                      2012,
                      2010,
                      2011,
                      2016,
                      2009,
                      2010,
                      2008,
                      2010,
                      2007,
                      2012,
                      2007,
                      2013,
                      2006,
                      2006,
                      2007,
                      2004,
                      2005,
                      2007,
                      2007,
                      2006,
                      2004,
                      2003,
                      2014,
                      2005,
                      2003,
                      2002,
                      2003,
                      2003,
                      2004,
                      2003,
                      2001,
                      1999,
                      2000,
                      1999,
                      1998,
                      1998,
                      1999,
                      1996,
                      1996,
                      1995,
                      1995,
                      1993,
                      1993,
                      1993,
                      1992,
                      1992,
                      1991,
                      1991,
                      1990,
                      1989,
                      1988,
                      1987,
                      1987,
                      1987,
                      1984,
                      1982,
                      1979,
                      1977,
                      1975,
                      1975,
                      1974,
                      1973,
                      1973,
                      1971,
                      1971,
                      1970,
                      1969,
                      1968,
                      1967,
                      1965,
                      1965,
                      1964,
                      1961,
                      1960,
                      1959,
                      1958,
                      1958,
                      1951,
                      1946,
                      1940,
                      1939,
                      1930,
                      2019,
                      2018,
                      2019,
                      2017,
                      2016,
                      2018,
                      2016,
                      2016,
                      2016,
                      2017,
                      2014,
                      2019,
                      2016,
                      2015,
                      2013,
                      2014,
                      2011,
                      2014,
                      2012,
                      2019,
                      2009,
                      2009,
                      2008,
                      2009,
                      2008,
                      2014,
                      2009,
                      2008,
                      2006,
                      2006,
                      2012,
                      2009,
                      2004,
                      2008,
                      2004,
                      2003,
                      2004,
                      2002,
                      2002,
                      2001,
                      2001,
                      2002,
                      2000,
                      2006,
                      2000,
                      2001,
                      1999,
                      1997,
                      1994,
                      1993,
                      1993,
                      1993,
                      1990,
                      1989,
                      1989,
                      1987,
                      1986,
                      1985,
                      1984,
                      1983,
                      1980,
                      1979,
                      1979,
                      1978,
                      1976,
                      1973,
                      1972,
                      1970,
                      1969,
                      1967,
                      1963,
                      1960,
                      1952,
                      1951,
                      1946,
                      1938,
                      1933,
                      2016,
                      2017,
                      2016,
                      2017,
                      2016,
                      2016,
                      2015,
                      2016,
                      2016,
                      2015,
                      2019,
                      2017,
                      2013,
                      2013,
                      2014,
                      2013,
                      2013,
                      2019,
                      2013,
                      2012,
                      2014,
                      2015,
                      2011,
                      2013,
                      2015,
                      2009,
                      2013,
                      2009,
                      2009,
                      2010,
                      2008,
                      2008,
                      2007,
                      2012,
                      2007,
                      2011,
                      2007,
                      2009,
                      2009,
                      2006,
                      2006,
                      2007,
                      2008,
                      2004,
                      2005,
                      2005,
                      2005,
                      2003,
                      2005,
                      2005,
                      2004,
                      2004,
                      2002,
                      2003,
                      2002,
                      2001,
                      2000,
                      2000,
                      1999,
                      2000,
                      1999,
                      1999,
                      1999,
                      2001,
                      1997,
                      1997,
                      1997,
                      1996,
                      1994,
                      1993,
                      1993,
                      1993,
                      1993,
                      1993,
                      1993,
                      1991,
                      1991,
                      1991,
                      1990,
                      1990,
                      1989,
                      1989,
                      1988,
                      1987,
                      1987,
                      1986,
                      1986,
                      1985,
                      1985,
                      1985,
                      1984,
                      1984,
                      1983,
                      1982,
                      1982,
                      1979,
                      1976,
                      1974,
                      1973,
                      1973,
                      1972,
                      1971,
                      1969,
                      1964,
                      1964,
                      1962,
                      1961,
                      2018,
                      2017,
                      2017,
                      2018,
                      2015,
                      2014,
                      2014,
                      2014,
                      2014,
                      2014,
                      2015,
                      2014,
                      2013,
                      2013,
                      2014,
                      2013,
                      2012,
                      2015,
                      2011,
                      2014,
                      2013,
                      2013,
                      2010,
                      2011,
                      2009,
                      2012,
                      2012,
                      2012,
                      2009,
                      2010,
                      2008,
                      2008,
                      2006,
                      2008,
                      2010,
                      2014,
                      2006,
                      2006,
                      2007,
                      2006,
                      2005,
                      2007,
                      2010,
                      2006,
                      2005,
                      2007,
                      2004,
                      2004,
                      2004,
                      2004,
                      2004,
                      2003,
                      2005,
                      2004,
                      2009,
                      2003,
                      2002,
                      2003,
                      2002,
                      2001,
                      2002,
                      2001,
                      2002,
                      2001,
                      2000,
                      2001,
                      2001,
                      2000,
                      2000,
                      1999,
                      1999,
                      2001,
                      1998,
                      1999,
                      1997,
                      1997,
                      1998,
                      1997,
                      1996,
                      1996,
                      1995,
                      1994,
                      1994,
                      1993,
                      1993,
                      1992,
                      1992,
                      1992,
                      1992,
                      1992,
                      1991,
                      1991,
                      1990,
                      1988,
                      1987,
                      1987,
                      1987,
                      1986,
                      1986,
                      1985,
                      1985,
                      1982,
                      1982,
                      1982,
                      1980,
                      1980,
                      1978,
                      1976,
                      1974,
                      1973,
                      1973,
                      1972,
                      1971,
                      1971,
                      1968,
                      1966,
                      1964,
                      1963,
                      1960,
                      1951,
                      1940,
                      2018,
                      2019,
                      2017,
                      2017,
                      2017,
                      2019,
                      2015,
                      2017,
                      2017,
                      2017,
                      2015,
                      2018,
                      2016,
                      2015,
                      2015,
                      2014,
                      2016,
                      2013,
                      2014,
                      2011,
                      2012,
                      2010,
                      2018,
                      2010,
                      2010,
                      2010,
                      2011,
                      2010,
                      2011,
                      2011,
                      2009,
                      2009,
                      2009,
                      2007,
                      2008,
                      2007,
                      2007,
                      2006,
                      2007,
                      2007,
                      2006,
                      2006,
                      2009,
                      2006,
                      2005,
                      2009,
                      2005,
                      2004,
                      2008,
                      2004,
                      2003,
                      2004,
                      2003,
                      2003,
                      2002,
                      2004,
                      2002,
                      2004,
                      2002,
                      2001,
                      2001,
                      2001,
                      2001,
                      2001,
                      2001,
                      2002,
                      1999,
                      2000,
                      1998,
                      1998,
                      1998,
                      1998,
                      1998,
                      1996,
                      1997,
                      1995,
                      1995,
                      1995,
                      1995,
                      1994,
                      1993,
                      1993,
                      1992,
                      1991,
                      1991,
                      1990,
                      1990,
                      1989,
                      1989,
                      1988,
                      1987,
                      1987,
                      1984,
                      1981,
                      1981,
                      1979,
                      1979,
                      1979,
                      1978,
                      1977,
                      1973,
                      1971,
                      1970,
                      1967,
                      1964,
                      1953
                    ],
                    "coloraxis": "coloraxis",
                    "symbol": "circle"
                  },
                  "mode": "markers",
                  "name": "",
                  "orientation": "v",
                  "showlegend": false,
                  "type": "scatter",
                  "x": [
                    80,
                    100,
                    84,
                    90,
                    96,
                    94,
                    94,
                    94,
                    74,
                    66,
                    92,
                    82,
                    90,
                    87,
                    73,
                    90,
                    82,
                    83,
                    96,
                    74,
                    79,
                    96,
                    91,
                    61,
                    59,
                    65,
                    85,
                    90,
                    98,
                    59,
                    88,
                    57,
                    66,
                    85,
                    85,
                    67,
                    62,
                    77,
                    64,
                    88,
                    75,
                    80,
                    87,
                    80,
                    97,
                    100,
                    96,
                    99,
                    75,
                    79,
                    87,
                    78,
                    68,
                    81,
                    81,
                    78,
                    67,
                    95,
                    89,
                    77,
                    80,
                    76,
                    85,
                    66,
                    94,
                    89,
                    97,
                    100,
                    78,
                    77,
                    95,
                    80,
                    69,
                    89,
                    69,
                    55,
                    68,
                    84,
                    70,
                    77,
                    95,
                    68,
                    79,
                    76,
                    84,
                    88,
                    65,
                    58,
                    86,
                    94,
                    83,
                    77,
                    84,
                    74,
                    100,
                    94,
                    98,
                    100,
                    99,
                    95,
                    100,
                    69,
                    88,
                    80,
                    71,
                    63,
                    88,
                    75,
                    68,
                    93,
                    98,
                    92,
                    62,
                    70,
                    82,
                    80,
                    72,
                    66,
                    90,
                    76,
                    73,
                    85,
                    65,
                    86,
                    72,
                    96,
                    89,
                    91,
                    86,
                    98,
                    75,
                    98,
                    98,
                    95,
                    84,
                    74,
                    77,
                    86,
                    77,
                    88,
                    79,
                    71,
                    94,
                    96,
                    74,
                    81,
                    93,
                    85,
                    70,
                    90,
                    72,
                    85,
                    68,
                    75,
                    73,
                    91,
                    86,
                    79,
                    64,
                    90,
                    82,
                    69,
                    90,
                    75,
                    83,
                    79,
                    84,
                    64,
                    58,
                    90,
                    73,
                    71,
                    85,
                    83,
                    85,
                    77,
                    100,
                    77,
                    68,
                    84,
                    79,
                    75,
                    92,
                    78,
                    86,
                    57,
                    47,
                    100,
                    84,
                    77,
                    86,
                    70,
                    92,
                    77,
                    92,
                    75,
                    90,
                    87,
                    91,
                    72,
                    97,
                    86,
                    73,
                    97,
                    87,
                    94,
                    69,
                    80,
                    78,
                    89,
                    66,
                    65,
                    82,
                    71,
                    73,
                    76,
                    81,
                    90,
                    49,
                    76,
                    67,
                    88,
                    62,
                    65,
                    87,
                    50,
                    84,
                    79,
                    33,
                    69,
                    90,
                    80,
                    64,
                    64,
                    85,
                    72,
                    74,
                    92,
                    96,
                    80,
                    83,
                    85,
                    74,
                    69,
                    54,
                    75,
                    63,
                    58,
                    90,
                    60,
                    88,
                    77,
                    61,
                    86,
                    82,
                    80,
                    85,
                    84,
                    91,
                    74,
                    76,
                    82,
                    72,
                    47,
                    59,
                    86,
                    72,
                    95,
                    72,
                    93,
                    65,
                    77,
                    79,
                    88,
                    84,
                    79,
                    83,
                    92,
                    87,
                    86,
                    80,
                    58,
                    81,
                    93,
                    67,
                    100,
                    66,
                    79,
                    83,
                    63,
                    69,
                    65,
                    90,
                    95,
                    93,
                    99,
                    84,
                    97,
                    93,
                    96,
                    92,
                    91,
                    82,
                    93,
                    94,
                    93,
                    78,
                    82,
                    81,
                    72,
                    79,
                    74,
                    76,
                    58,
                    81,
                    80,
                    94,
                    75,
                    89,
                    71,
                    94,
                    94,
                    90,
                    67,
                    82,
                    81,
                    80,
                    100,
                    82,
                    67,
                    89,
                    64,
                    79,
                    83,
                    56,
                    79,
                    76,
                    84,
                    82,
                    85,
                    86,
                    84,
                    61,
                    68,
                    80,
                    84,
                    90,
                    85,
                    88,
                    85,
                    77,
                    59,
                    85,
                    65,
                    74,
                    97,
                    77,
                    79,
                    90,
                    84,
                    92,
                    77,
                    60,
                    83,
                    72,
                    71,
                    84,
                    76,
                    93,
                    91,
                    97,
                    75,
                    83,
                    87,
                    89,
                    88,
                    100,
                    97,
                    90,
                    85,
                    94,
                    74,
                    88,
                    84,
                    96,
                    75,
                    65,
                    75,
                    68,
                    91,
                    62,
                    85,
                    76,
                    74,
                    55,
                    83,
                    84,
                    49,
                    84,
                    76,
                    81,
                    71,
                    82,
                    72,
                    79,
                    66,
                    82,
                    76,
                    79,
                    51,
                    55,
                    88,
                    58,
                    85,
                    78,
                    76,
                    83,
                    63,
                    68,
                    80,
                    81,
                    70,
                    67,
                    51,
                    82,
                    68,
                    73,
                    74,
                    72,
                    53,
                    75,
                    82,
                    91,
                    61,
                    83,
                    48,
                    94,
                    87,
                    73,
                    44,
                    84,
                    71,
                    84,
                    75,
                    64,
                    61,
                    76,
                    70,
                    73,
                    50,
                    55,
                    84,
                    87,
                    80,
                    68,
                    86,
                    76,
                    75,
                    74,
                    78,
                    57,
                    65,
                    45,
                    72,
                    61,
                    75,
                    62,
                    78,
                    66,
                    76,
                    71,
                    91,
                    73,
                    91,
                    77,
                    69,
                    85,
                    73,
                    80,
                    80,
                    67,
                    79,
                    95,
                    88,
                    75,
                    88,
                    66,
                    73,
                    85,
                    86,
                    70,
                    76,
                    72,
                    72,
                    60,
                    69,
                    74,
                    87,
                    89,
                    40,
                    70,
                    87,
                    72,
                    70,
                    81,
                    83,
                    96,
                    72,
                    95,
                    65,
                    73,
                    81,
                    81,
                    86,
                    76,
                    65,
                    86,
                    80,
                    81,
                    63,
                    45,
                    78,
                    78,
                    74,
                    78,
                    53,
                    70,
                    78,
                    71,
                    71,
                    87,
                    76,
                    66,
                    78,
                    73,
                    61,
                    73,
                    89,
                    81,
                    47,
                    80,
                    55,
                    83,
                    68,
                    76,
                    28,
                    83,
                    74,
                    72,
                    60,
                    74,
                    85,
                    74,
                    62,
                    69,
                    73,
                    68,
                    69,
                    86,
                    90,
                    67,
                    52,
                    73,
                    76,
                    87,
                    47,
                    83,
                    81,
                    70,
                    79,
                    66,
                    64,
                    73,
                    76,
                    82,
                    62,
                    64,
                    69,
                    66,
                    83,
                    84,
                    76,
                    62,
                    54,
                    76,
                    75,
                    90,
                    77,
                    67,
                    61,
                    86,
                    78,
                    87,
                    71,
                    73,
                    87,
                    83,
                    80,
                    94,
                    90,
                    86,
                    72,
                    87,
                    90,
                    74,
                    91,
                    96,
                    71,
                    83,
                    86,
                    92,
                    60,
                    70,
                    83,
                    67,
                    86,
                    72,
                    81,
                    80,
                    81,
                    82,
                    82,
                    92,
                    88,
                    77,
                    79,
                    73,
                    68,
                    80,
                    88,
                    80,
                    65,
                    72,
                    72,
                    66,
                    87,
                    70,
                    73,
                    57,
                    53,
                    79,
                    36,
                    82,
                    66,
                    76,
                    72,
                    66,
                    70,
                    68,
                    78,
                    52,
                    72,
                    56,
                    62,
                    46,
                    67,
                    73,
                    45,
                    76,
                    81,
                    70,
                    56,
                    67,
                    68,
                    30,
                    73,
                    76,
                    88,
                    64,
                    74,
                    52,
                    53,
                    80,
                    74,
                    64,
                    77,
                    78,
                    71,
                    41,
                    66,
                    49,
                    52,
                    84,
                    58,
                    62,
                    69,
                    88,
                    56,
                    78,
                    68,
                    90,
                    66,
                    63,
                    60,
                    76,
                    88,
                    76,
                    72,
                    68,
                    82,
                    68,
                    77,
                    65,
                    74,
                    76,
                    59,
                    90,
                    87,
                    77,
                    50,
                    65,
                    96,
                    85
                  ],
                  "xaxis": "x",
                  "y": [
                    9.3,
                    9.2,
                    9,
                    9,
                    9,
                    8.9,
                    8.9,
                    8.9,
                    8.8,
                    8.8,
                    8.8,
                    8.8,
                    8.8,
                    8.7,
                    8.7,
                    8.7,
                    8.7,
                    8.7,
                    8.6,
                    8.6,
                    8.6,
                    8.6,
                    8.6,
                    8.6,
                    8.6,
                    8.6,
                    8.6,
                    8.6,
                    8.6,
                    8.5,
                    8.5,
                    8.5,
                    8.5,
                    8.5,
                    8.5,
                    8.5,
                    8.5,
                    8.5,
                    8.5,
                    8.5,
                    8.5,
                    8.5,
                    8.5,
                    8.5,
                    8.5,
                    8.5,
                    8.5,
                    8.5,
                    8.4,
                    8.4,
                    8.4,
                    8.4,
                    8.4,
                    8.4,
                    8.4,
                    8.4,
                    8.4,
                    8.4,
                    8.4,
                    8.4,
                    8.4,
                    8.4,
                    8.4,
                    8.4,
                    8.4,
                    8.4,
                    8.4,
                    8.4,
                    8.3,
                    8.3,
                    8.3,
                    8.3,
                    8.3,
                    8.3,
                    8.3,
                    8.3,
                    8.3,
                    8.3,
                    8.3,
                    8.3,
                    8.3,
                    8.3,
                    8.3,
                    8.3,
                    8.3,
                    8.3,
                    8.3,
                    8.3,
                    8.3,
                    8.3,
                    8.3,
                    8.3,
                    8.3,
                    8.3,
                    8.3,
                    8.3,
                    8.3,
                    8.3,
                    8.3,
                    8.3,
                    8.3,
                    8.2,
                    8.2,
                    8.2,
                    8.2,
                    8.2,
                    8.2,
                    8.2,
                    8.2,
                    8.2,
                    8.2,
                    8.2,
                    8.2,
                    8.2,
                    8.2,
                    8.2,
                    8.2,
                    8.2,
                    8.2,
                    8.2,
                    8.2,
                    8.2,
                    8.2,
                    8.2,
                    8.2,
                    8.2,
                    8.2,
                    8.2,
                    8.2,
                    8.2,
                    8.2,
                    8.2,
                    8.2,
                    8.1,
                    8.1,
                    8.1,
                    8.1,
                    8.1,
                    8.1,
                    8.1,
                    8.1,
                    8.1,
                    8.1,
                    8.1,
                    8.1,
                    8.1,
                    8.1,
                    8.1,
                    8.1,
                    8.1,
                    8.1,
                    8.1,
                    8.1,
                    8.1,
                    8.1,
                    8.1,
                    8.1,
                    8.1,
                    8.1,
                    8.1,
                    8.1,
                    8.1,
                    8.1,
                    8.1,
                    8.1,
                    8.1,
                    8.1,
                    8.1,
                    8.1,
                    8.1,
                    8.1,
                    8.1,
                    8.1,
                    8.1,
                    8.1,
                    8.1,
                    8.1,
                    8.1,
                    8.1,
                    8.1,
                    8.1,
                    8.1,
                    8.1,
                    8.1,
                    8.1,
                    8.1,
                    8.1,
                    8.1,
                    8.1,
                    8.1,
                    8.1,
                    8.1,
                    8.1,
                    8.1,
                    8.1,
                    8.1,
                    8.1,
                    8.1,
                    8.1,
                    8.1,
                    8.1,
                    8.1,
                    8.1,
                    8.1,
                    8.1,
                    8,
                    8,
                    8,
                    8,
                    8,
                    8,
                    8,
                    8,
                    8,
                    8,
                    8,
                    8,
                    8,
                    8,
                    8,
                    8,
                    8,
                    8,
                    8,
                    8,
                    8,
                    8,
                    8,
                    8,
                    8,
                    8,
                    8,
                    8,
                    8,
                    8,
                    8,
                    8,
                    8,
                    8,
                    8,
                    8,
                    8,
                    8,
                    8,
                    8,
                    8,
                    8,
                    8,
                    8,
                    8,
                    8,
                    8,
                    8,
                    8,
                    8,
                    8,
                    8,
                    8,
                    8,
                    8,
                    8,
                    8,
                    8,
                    8,
                    8,
                    8,
                    8,
                    8,
                    8,
                    8,
                    8,
                    8,
                    8,
                    8,
                    8,
                    8,
                    8,
                    8,
                    8,
                    8,
                    8,
                    8,
                    8,
                    8,
                    8,
                    8,
                    8,
                    8,
                    8,
                    8,
                    8,
                    8,
                    8,
                    8,
                    8,
                    8,
                    8,
                    8,
                    8,
                    8,
                    8,
                    8,
                    7.9,
                    7.9,
                    7.9,
                    7.9,
                    7.9,
                    7.9,
                    7.9,
                    7.9,
                    7.9,
                    7.9,
                    7.9,
                    7.9,
                    7.9,
                    7.9,
                    7.9,
                    7.9,
                    7.9,
                    7.9,
                    7.9,
                    7.9,
                    7.9,
                    7.9,
                    7.9,
                    7.9,
                    7.9,
                    7.9,
                    7.9,
                    7.9,
                    7.9,
                    7.9,
                    7.9,
                    7.9,
                    7.9,
                    7.9,
                    7.9,
                    7.9,
                    7.9,
                    7.9,
                    7.9,
                    7.9,
                    7.9,
                    7.9,
                    7.9,
                    7.9,
                    7.9,
                    7.9,
                    7.9,
                    7.9,
                    7.9,
                    7.9,
                    7.9,
                    7.9,
                    7.9,
                    7.9,
                    7.9,
                    7.9,
                    7.9,
                    7.9,
                    7.9,
                    7.9,
                    7.9,
                    7.9,
                    7.9,
                    7.9,
                    7.9,
                    7.9,
                    7.9,
                    7.9,
                    7.9,
                    7.9,
                    7.9,
                    7.9,
                    7.9,
                    7.9,
                    7.9,
                    7.9,
                    7.9,
                    7.8,
                    7.8,
                    7.8,
                    7.8,
                    7.8,
                    7.8,
                    7.8,
                    7.8,
                    7.8,
                    7.8,
                    7.8,
                    7.8,
                    7.8,
                    7.8,
                    7.8,
                    7.8,
                    7.8,
                    7.8,
                    7.8,
                    7.8,
                    7.8,
                    7.8,
                    7.8,
                    7.8,
                    7.8,
                    7.8,
                    7.8,
                    7.8,
                    7.8,
                    7.8,
                    7.8,
                    7.8,
                    7.8,
                    7.8,
                    7.8,
                    7.8,
                    7.8,
                    7.8,
                    7.8,
                    7.8,
                    7.8,
                    7.8,
                    7.8,
                    7.8,
                    7.8,
                    7.8,
                    7.8,
                    7.8,
                    7.8,
                    7.8,
                    7.8,
                    7.8,
                    7.8,
                    7.8,
                    7.8,
                    7.8,
                    7.8,
                    7.8,
                    7.8,
                    7.8,
                    7.8,
                    7.8,
                    7.8,
                    7.8,
                    7.8,
                    7.8,
                    7.8,
                    7.8,
                    7.8,
                    7.8,
                    7.8,
                    7.8,
                    7.8,
                    7.8,
                    7.8,
                    7.8,
                    7.8,
                    7.8,
                    7.8,
                    7.8,
                    7.8,
                    7.8,
                    7.8,
                    7.8,
                    7.8,
                    7.8,
                    7.8,
                    7.8,
                    7.8,
                    7.8,
                    7.8,
                    7.8,
                    7.8,
                    7.8,
                    7.8,
                    7.8,
                    7.8,
                    7.8,
                    7.8,
                    7.8,
                    7.8,
                    7.8,
                    7.8,
                    7.8,
                    7.8,
                    7.8,
                    7.8,
                    7.7,
                    7.7,
                    7.7,
                    7.7,
                    7.7,
                    7.7,
                    7.7,
                    7.7,
                    7.7,
                    7.7,
                    7.7,
                    7.7,
                    7.7,
                    7.7,
                    7.7,
                    7.7,
                    7.7,
                    7.7,
                    7.7,
                    7.7,
                    7.7,
                    7.7,
                    7.7,
                    7.7,
                    7.7,
                    7.7,
                    7.7,
                    7.7,
                    7.7,
                    7.7,
                    7.7,
                    7.7,
                    7.7,
                    7.7,
                    7.7,
                    7.7,
                    7.7,
                    7.7,
                    7.7,
                    7.7,
                    7.7,
                    7.7,
                    7.7,
                    7.7,
                    7.7,
                    7.7,
                    7.7,
                    7.7,
                    7.7,
                    7.7,
                    7.7,
                    7.7,
                    7.7,
                    7.7,
                    7.7,
                    7.7,
                    7.7,
                    7.7,
                    7.7,
                    7.7,
                    7.7,
                    7.7,
                    7.7,
                    7.7,
                    7.7,
                    7.7,
                    7.7,
                    7.7,
                    7.7,
                    7.7,
                    7.7,
                    7.7,
                    7.7,
                    7.7,
                    7.7,
                    7.7,
                    7.7,
                    7.7,
                    7.7,
                    7.7,
                    7.7,
                    7.7,
                    7.7,
                    7.7,
                    7.7,
                    7.7,
                    7.7,
                    7.7,
                    7.7,
                    7.7,
                    7.7,
                    7.7,
                    7.7,
                    7.7,
                    7.7,
                    7.7,
                    7.7,
                    7.7,
                    7.7,
                    7.7,
                    7.7,
                    7.7,
                    7.7,
                    7.7,
                    7.7,
                    7.7,
                    7.7,
                    7.7,
                    7.7,
                    7.7,
                    7.7,
                    7.7,
                    7.7,
                    7.7,
                    7.7,
                    7.7,
                    7.7,
                    7.7,
                    7.7,
                    7.7,
                    7.7,
                    7.6,
                    7.6,
                    7.6,
                    7.6,
                    7.6,
                    7.6,
                    7.6,
                    7.6,
                    7.6,
                    7.6,
                    7.6,
                    7.6,
                    7.6,
                    7.6,
                    7.6,
                    7.6,
                    7.6,
                    7.6,
                    7.6,
                    7.6,
                    7.6,
                    7.6,
                    7.6,
                    7.6,
                    7.6,
                    7.6,
                    7.6,
                    7.6,
                    7.6,
                    7.6,
                    7.6,
                    7.6,
                    7.6,
                    7.6,
                    7.6,
                    7.6,
                    7.6,
                    7.6,
                    7.6,
                    7.6,
                    7.6,
                    7.6,
                    7.6,
                    7.6,
                    7.6,
                    7.6,
                    7.6,
                    7.6,
                    7.6,
                    7.6,
                    7.6,
                    7.6,
                    7.6,
                    7.6,
                    7.6,
                    7.6,
                    7.6,
                    7.6,
                    7.6,
                    7.6,
                    7.6,
                    7.6,
                    7.6,
                    7.6,
                    7.6,
                    7.6,
                    7.6,
                    7.6,
                    7.6,
                    7.6,
                    7.6,
                    7.6,
                    7.6,
                    7.6,
                    7.6,
                    7.6,
                    7.6,
                    7.6,
                    7.6,
                    7.6,
                    7.6,
                    7.6,
                    7.6,
                    7.6,
                    7.6,
                    7.6,
                    7.6,
                    7.6,
                    7.6,
                    7.6,
                    7.6,
                    7.6,
                    7.6,
                    7.6,
                    7.6,
                    7.6,
                    7.6,
                    7.6,
                    7.6,
                    7.6,
                    7.6,
                    7.6,
                    7.6,
                    7.6,
                    7.6,
                    7.6
                  ],
                  "yaxis": "y"
                }
              ],
              "layout": {
                "coloraxis": {
                  "colorbar": {
                    "title": {
                      "text": "Released_Year"
                    }
                  },
                  "colorscale": [
                    [
                      0,
                      "#0d0887"
                    ],
                    [
                      0.1111111111111111,
                      "#46039f"
                    ],
                    [
                      0.2222222222222222,
                      "#7201a8"
                    ],
                    [
                      0.3333333333333333,
                      "#9c179e"
                    ],
                    [
                      0.4444444444444444,
                      "#bd3786"
                    ],
                    [
                      0.5555555555555556,
                      "#d8576b"
                    ],
                    [
                      0.6666666666666666,
                      "#ed7953"
                    ],
                    [
                      0.7777777777777778,
                      "#fb9f3a"
                    ],
                    [
                      0.8888888888888888,
                      "#fdca26"
                    ],
                    [
                      1,
                      "#f0f921"
                    ]
                  ]
                },
                "legend": {
                  "tracegroupgap": 0
                },
                "margin": {
                  "t": 60
                },
                "template": {
                  "data": {
                    "bar": [
                      {
                        "error_x": {
                          "color": "#2a3f5f"
                        },
                        "error_y": {
                          "color": "#2a3f5f"
                        },
                        "marker": {
                          "line": {
                            "color": "#E5ECF6",
                            "width": 0.5
                          },
                          "pattern": {
                            "fillmode": "overlay",
                            "size": 10,
                            "solidity": 0.2
                          }
                        },
                        "type": "bar"
                      }
                    ],
                    "barpolar": [
                      {
                        "marker": {
                          "line": {
                            "color": "#E5ECF6",
                            "width": 0.5
                          },
                          "pattern": {
                            "fillmode": "overlay",
                            "size": 10,
                            "solidity": 0.2
                          }
                        },
                        "type": "barpolar"
                      }
                    ],
                    "carpet": [
                      {
                        "aaxis": {
                          "endlinecolor": "#2a3f5f",
                          "gridcolor": "white",
                          "linecolor": "white",
                          "minorgridcolor": "white",
                          "startlinecolor": "#2a3f5f"
                        },
                        "baxis": {
                          "endlinecolor": "#2a3f5f",
                          "gridcolor": "white",
                          "linecolor": "white",
                          "minorgridcolor": "white",
                          "startlinecolor": "#2a3f5f"
                        },
                        "type": "carpet"
                      }
                    ],
                    "choropleth": [
                      {
                        "colorbar": {
                          "outlinewidth": 0,
                          "ticks": ""
                        },
                        "type": "choropleth"
                      }
                    ],
                    "contour": [
                      {
                        "colorbar": {
                          "outlinewidth": 0,
                          "ticks": ""
                        },
                        "colorscale": [
                          [
                            0,
                            "#0d0887"
                          ],
                          [
                            0.1111111111111111,
                            "#46039f"
                          ],
                          [
                            0.2222222222222222,
                            "#7201a8"
                          ],
                          [
                            0.3333333333333333,
                            "#9c179e"
                          ],
                          [
                            0.4444444444444444,
                            "#bd3786"
                          ],
                          [
                            0.5555555555555556,
                            "#d8576b"
                          ],
                          [
                            0.6666666666666666,
                            "#ed7953"
                          ],
                          [
                            0.7777777777777778,
                            "#fb9f3a"
                          ],
                          [
                            0.8888888888888888,
                            "#fdca26"
                          ],
                          [
                            1,
                            "#f0f921"
                          ]
                        ],
                        "type": "contour"
                      }
                    ],
                    "contourcarpet": [
                      {
                        "colorbar": {
                          "outlinewidth": 0,
                          "ticks": ""
                        },
                        "type": "contourcarpet"
                      }
                    ],
                    "heatmap": [
                      {
                        "colorbar": {
                          "outlinewidth": 0,
                          "ticks": ""
                        },
                        "colorscale": [
                          [
                            0,
                            "#0d0887"
                          ],
                          [
                            0.1111111111111111,
                            "#46039f"
                          ],
                          [
                            0.2222222222222222,
                            "#7201a8"
                          ],
                          [
                            0.3333333333333333,
                            "#9c179e"
                          ],
                          [
                            0.4444444444444444,
                            "#bd3786"
                          ],
                          [
                            0.5555555555555556,
                            "#d8576b"
                          ],
                          [
                            0.6666666666666666,
                            "#ed7953"
                          ],
                          [
                            0.7777777777777778,
                            "#fb9f3a"
                          ],
                          [
                            0.8888888888888888,
                            "#fdca26"
                          ],
                          [
                            1,
                            "#f0f921"
                          ]
                        ],
                        "type": "heatmap"
                      }
                    ],
                    "heatmapgl": [
                      {
                        "colorbar": {
                          "outlinewidth": 0,
                          "ticks": ""
                        },
                        "colorscale": [
                          [
                            0,
                            "#0d0887"
                          ],
                          [
                            0.1111111111111111,
                            "#46039f"
                          ],
                          [
                            0.2222222222222222,
                            "#7201a8"
                          ],
                          [
                            0.3333333333333333,
                            "#9c179e"
                          ],
                          [
                            0.4444444444444444,
                            "#bd3786"
                          ],
                          [
                            0.5555555555555556,
                            "#d8576b"
                          ],
                          [
                            0.6666666666666666,
                            "#ed7953"
                          ],
                          [
                            0.7777777777777778,
                            "#fb9f3a"
                          ],
                          [
                            0.8888888888888888,
                            "#fdca26"
                          ],
                          [
                            1,
                            "#f0f921"
                          ]
                        ],
                        "type": "heatmapgl"
                      }
                    ],
                    "histogram": [
                      {
                        "marker": {
                          "pattern": {
                            "fillmode": "overlay",
                            "size": 10,
                            "solidity": 0.2
                          }
                        },
                        "type": "histogram"
                      }
                    ],
                    "histogram2d": [
                      {
                        "colorbar": {
                          "outlinewidth": 0,
                          "ticks": ""
                        },
                        "colorscale": [
                          [
                            0,
                            "#0d0887"
                          ],
                          [
                            0.1111111111111111,
                            "#46039f"
                          ],
                          [
                            0.2222222222222222,
                            "#7201a8"
                          ],
                          [
                            0.3333333333333333,
                            "#9c179e"
                          ],
                          [
                            0.4444444444444444,
                            "#bd3786"
                          ],
                          [
                            0.5555555555555556,
                            "#d8576b"
                          ],
                          [
                            0.6666666666666666,
                            "#ed7953"
                          ],
                          [
                            0.7777777777777778,
                            "#fb9f3a"
                          ],
                          [
                            0.8888888888888888,
                            "#fdca26"
                          ],
                          [
                            1,
                            "#f0f921"
                          ]
                        ],
                        "type": "histogram2d"
                      }
                    ],
                    "histogram2dcontour": [
                      {
                        "colorbar": {
                          "outlinewidth": 0,
                          "ticks": ""
                        },
                        "colorscale": [
                          [
                            0,
                            "#0d0887"
                          ],
                          [
                            0.1111111111111111,
                            "#46039f"
                          ],
                          [
                            0.2222222222222222,
                            "#7201a8"
                          ],
                          [
                            0.3333333333333333,
                            "#9c179e"
                          ],
                          [
                            0.4444444444444444,
                            "#bd3786"
                          ],
                          [
                            0.5555555555555556,
                            "#d8576b"
                          ],
                          [
                            0.6666666666666666,
                            "#ed7953"
                          ],
                          [
                            0.7777777777777778,
                            "#fb9f3a"
                          ],
                          [
                            0.8888888888888888,
                            "#fdca26"
                          ],
                          [
                            1,
                            "#f0f921"
                          ]
                        ],
                        "type": "histogram2dcontour"
                      }
                    ],
                    "mesh3d": [
                      {
                        "colorbar": {
                          "outlinewidth": 0,
                          "ticks": ""
                        },
                        "type": "mesh3d"
                      }
                    ],
                    "parcoords": [
                      {
                        "line": {
                          "colorbar": {
                            "outlinewidth": 0,
                            "ticks": ""
                          }
                        },
                        "type": "parcoords"
                      }
                    ],
                    "pie": [
                      {
                        "automargin": true,
                        "type": "pie"
                      }
                    ],
                    "scatter": [
                      {
                        "fillpattern": {
                          "fillmode": "overlay",
                          "size": 10,
                          "solidity": 0.2
                        },
                        "type": "scatter"
                      }
                    ],
                    "scatter3d": [
                      {
                        "line": {
                          "colorbar": {
                            "outlinewidth": 0,
                            "ticks": ""
                          }
                        },
                        "marker": {
                          "colorbar": {
                            "outlinewidth": 0,
                            "ticks": ""
                          }
                        },
                        "type": "scatter3d"
                      }
                    ],
                    "scattercarpet": [
                      {
                        "marker": {
                          "colorbar": {
                            "outlinewidth": 0,
                            "ticks": ""
                          }
                        },
                        "type": "scattercarpet"
                      }
                    ],
                    "scattergeo": [
                      {
                        "marker": {
                          "colorbar": {
                            "outlinewidth": 0,
                            "ticks": ""
                          }
                        },
                        "type": "scattergeo"
                      }
                    ],
                    "scattergl": [
                      {
                        "marker": {
                          "colorbar": {
                            "outlinewidth": 0,
                            "ticks": ""
                          }
                        },
                        "type": "scattergl"
                      }
                    ],
                    "scattermapbox": [
                      {
                        "marker": {
                          "colorbar": {
                            "outlinewidth": 0,
                            "ticks": ""
                          }
                        },
                        "type": "scattermapbox"
                      }
                    ],
                    "scatterpolar": [
                      {
                        "marker": {
                          "colorbar": {
                            "outlinewidth": 0,
                            "ticks": ""
                          }
                        },
                        "type": "scatterpolar"
                      }
                    ],
                    "scatterpolargl": [
                      {
                        "marker": {
                          "colorbar": {
                            "outlinewidth": 0,
                            "ticks": ""
                          }
                        },
                        "type": "scatterpolargl"
                      }
                    ],
                    "scatterternary": [
                      {
                        "marker": {
                          "colorbar": {
                            "outlinewidth": 0,
                            "ticks": ""
                          }
                        },
                        "type": "scatterternary"
                      }
                    ],
                    "surface": [
                      {
                        "colorbar": {
                          "outlinewidth": 0,
                          "ticks": ""
                        },
                        "colorscale": [
                          [
                            0,
                            "#0d0887"
                          ],
                          [
                            0.1111111111111111,
                            "#46039f"
                          ],
                          [
                            0.2222222222222222,
                            "#7201a8"
                          ],
                          [
                            0.3333333333333333,
                            "#9c179e"
                          ],
                          [
                            0.4444444444444444,
                            "#bd3786"
                          ],
                          [
                            0.5555555555555556,
                            "#d8576b"
                          ],
                          [
                            0.6666666666666666,
                            "#ed7953"
                          ],
                          [
                            0.7777777777777778,
                            "#fb9f3a"
                          ],
                          [
                            0.8888888888888888,
                            "#fdca26"
                          ],
                          [
                            1,
                            "#f0f921"
                          ]
                        ],
                        "type": "surface"
                      }
                    ],
                    "table": [
                      {
                        "cells": {
                          "fill": {
                            "color": "#EBF0F8"
                          },
                          "line": {
                            "color": "white"
                          }
                        },
                        "header": {
                          "fill": {
                            "color": "#C8D4E3"
                          },
                          "line": {
                            "color": "white"
                          }
                        },
                        "type": "table"
                      }
                    ]
                  },
                  "layout": {
                    "annotationdefaults": {
                      "arrowcolor": "#2a3f5f",
                      "arrowhead": 0,
                      "arrowwidth": 1
                    },
                    "autotypenumbers": "strict",
                    "coloraxis": {
                      "colorbar": {
                        "outlinewidth": 0,
                        "ticks": ""
                      }
                    },
                    "colorscale": {
                      "diverging": [
                        [
                          0,
                          "#8e0152"
                        ],
                        [
                          0.1,
                          "#c51b7d"
                        ],
                        [
                          0.2,
                          "#de77ae"
                        ],
                        [
                          0.3,
                          "#f1b6da"
                        ],
                        [
                          0.4,
                          "#fde0ef"
                        ],
                        [
                          0.5,
                          "#f7f7f7"
                        ],
                        [
                          0.6,
                          "#e6f5d0"
                        ],
                        [
                          0.7,
                          "#b8e186"
                        ],
                        [
                          0.8,
                          "#7fbc41"
                        ],
                        [
                          0.9,
                          "#4d9221"
                        ],
                        [
                          1,
                          "#276419"
                        ]
                      ],
                      "sequential": [
                        [
                          0,
                          "#0d0887"
                        ],
                        [
                          0.1111111111111111,
                          "#46039f"
                        ],
                        [
                          0.2222222222222222,
                          "#7201a8"
                        ],
                        [
                          0.3333333333333333,
                          "#9c179e"
                        ],
                        [
                          0.4444444444444444,
                          "#bd3786"
                        ],
                        [
                          0.5555555555555556,
                          "#d8576b"
                        ],
                        [
                          0.6666666666666666,
                          "#ed7953"
                        ],
                        [
                          0.7777777777777778,
                          "#fb9f3a"
                        ],
                        [
                          0.8888888888888888,
                          "#fdca26"
                        ],
                        [
                          1,
                          "#f0f921"
                        ]
                      ],
                      "sequentialminus": [
                        [
                          0,
                          "#0d0887"
                        ],
                        [
                          0.1111111111111111,
                          "#46039f"
                        ],
                        [
                          0.2222222222222222,
                          "#7201a8"
                        ],
                        [
                          0.3333333333333333,
                          "#9c179e"
                        ],
                        [
                          0.4444444444444444,
                          "#bd3786"
                        ],
                        [
                          0.5555555555555556,
                          "#d8576b"
                        ],
                        [
                          0.6666666666666666,
                          "#ed7953"
                        ],
                        [
                          0.7777777777777778,
                          "#fb9f3a"
                        ],
                        [
                          0.8888888888888888,
                          "#fdca26"
                        ],
                        [
                          1,
                          "#f0f921"
                        ]
                      ]
                    },
                    "colorway": [
                      "#636efa",
                      "#EF553B",
                      "#00cc96",
                      "#ab63fa",
                      "#FFA15A",
                      "#19d3f3",
                      "#FF6692",
                      "#B6E880",
                      "#FF97FF",
                      "#FECB52"
                    ],
                    "font": {
                      "color": "#2a3f5f"
                    },
                    "geo": {
                      "bgcolor": "white",
                      "lakecolor": "white",
                      "landcolor": "#E5ECF6",
                      "showlakes": true,
                      "showland": true,
                      "subunitcolor": "white"
                    },
                    "hoverlabel": {
                      "align": "left"
                    },
                    "hovermode": "closest",
                    "mapbox": {
                      "style": "light"
                    },
                    "paper_bgcolor": "white",
                    "plot_bgcolor": "#E5ECF6",
                    "polar": {
                      "angularaxis": {
                        "gridcolor": "white",
                        "linecolor": "white",
                        "ticks": ""
                      },
                      "bgcolor": "#E5ECF6",
                      "radialaxis": {
                        "gridcolor": "white",
                        "linecolor": "white",
                        "ticks": ""
                      }
                    },
                    "scene": {
                      "xaxis": {
                        "backgroundcolor": "#E5ECF6",
                        "gridcolor": "white",
                        "gridwidth": 2,
                        "linecolor": "white",
                        "showbackground": true,
                        "ticks": "",
                        "zerolinecolor": "white"
                      },
                      "yaxis": {
                        "backgroundcolor": "#E5ECF6",
                        "gridcolor": "white",
                        "gridwidth": 2,
                        "linecolor": "white",
                        "showbackground": true,
                        "ticks": "",
                        "zerolinecolor": "white"
                      },
                      "zaxis": {
                        "backgroundcolor": "#E5ECF6",
                        "gridcolor": "white",
                        "gridwidth": 2,
                        "linecolor": "white",
                        "showbackground": true,
                        "ticks": "",
                        "zerolinecolor": "white"
                      }
                    },
                    "shapedefaults": {
                      "line": {
                        "color": "#2a3f5f"
                      }
                    },
                    "ternary": {
                      "aaxis": {
                        "gridcolor": "white",
                        "linecolor": "white",
                        "ticks": ""
                      },
                      "baxis": {
                        "gridcolor": "white",
                        "linecolor": "white",
                        "ticks": ""
                      },
                      "bgcolor": "#E5ECF6",
                      "caxis": {
                        "gridcolor": "white",
                        "linecolor": "white",
                        "ticks": ""
                      }
                    },
                    "title": {
                      "x": 0.05
                    },
                    "xaxis": {
                      "automargin": true,
                      "gridcolor": "white",
                      "linecolor": "white",
                      "ticks": "",
                      "title": {
                        "standoff": 15
                      },
                      "zerolinecolor": "white",
                      "zerolinewidth": 2
                    },
                    "yaxis": {
                      "automargin": true,
                      "gridcolor": "white",
                      "linecolor": "white",
                      "ticks": "",
                      "title": {
                        "standoff": 15
                      },
                      "zerolinecolor": "white",
                      "zerolinewidth": 2
                    }
                  }
                },
                "xaxis": {
                  "anchor": "y",
                  "domain": [
                    0,
                    1
                  ],
                  "title": {
                    "text": "Meta_score"
                  }
                },
                "yaxis": {
                  "anchor": "x",
                  "domain": [
                    0,
                    1
                  ],
                  "title": {
                    "text": "IMDB_Rating"
                  }
                }
              }
            }
          },
          "metadata": {},
          "output_type": "display_data"
        }
      ],
      "source": [
        "px.scatter(new_movie,x='Meta_score',y='IMDB_Rating',color='Released_Year')"
      ]
    },
    {
      "cell_type": "code",
      "execution_count": 93,
      "metadata": {},
      "outputs": [
        {
          "data": {
            "application/vnd.plotly.v1+json": {
              "config": {
                "plotlyServerURL": "https://plot.ly"
              },
              "data": [
                {
                  "hovertemplate": "Released_Year=%{x}<br>Gross=%{y}<extra></extra>",
                  "legendgroup": "",
                  "line": {
                    "color": "#636efa",
                    "dash": "solid"
                  },
                  "marker": {
                    "symbol": "circle"
                  },
                  "mode": "lines",
                  "name": "",
                  "orientation": "v",
                  "showlegend": false,
                  "type": "scatter",
                  "x": [
                    1930,
                    1931,
                    1933,
                    1934,
                    1936,
                    1938,
                    1939,
                    1940,
                    1941,
                    1942,
                    1944,
                    1946,
                    1948,
                    1949,
                    1950,
                    1951,
                    1952,
                    1953,
                    1954,
                    1957,
                    1958,
                    1959,
                    1960,
                    1961,
                    1962,
                    1963,
                    1964,
                    1965,
                    1966,
                    1967,
                    1968,
                    1969,
                    1970,
                    1971,
                    1972,
                    1973,
                    1974,
                    1975,
                    1976,
                    1977,
                    1978,
                    1979,
                    1980,
                    1981,
                    1982,
                    1983,
                    1984,
                    1985,
                    1986,
                    1987,
                    1988,
                    1989,
                    1990,
                    1991,
                    1992,
                    1993,
                    1994,
                    1995,
                    1996,
                    1997,
                    1998,
                    1999,
                    2000,
                    2001,
                    2002,
                    2003,
                    2004,
                    2005,
                    2006,
                    2007,
                    2008,
                    2009,
                    2010,
                    2011,
                    2012,
                    2013,
                    2014,
                    2015,
                    2016,
                    2017,
                    2018,
                    2019
                  ],
                  "xaxis": "x",
                  "y": [
                    3270000,
                    19181,
                    10000000,
                    4360000,
                    163245,
                    3981000,
                    70117493,
                    26941032.333333332,
                    1585634,
                    1024560,
                    5720000,
                    17057000,
                    5014000,
                    449191,
                    10177,
                    5034002.75,
                    9134514,
                    30500000,
                    11661484,
                    24634000,
                    7669327.666666667,
                    31377500,
                    21004200,
                    5450000,
                    29324714.666666668,
                    12326039,
                    42318285.833333336,
                    96645428.66666667,
                    17225000,
                    71846667,
                    35049790,
                    53052804.666666664,
                    21206791.666666668,
                    24581160.714285713,
                    46246558.25,
                    54877696.1,
                    59304000,
                    105807299.25,
                    49964510.8,
                    164676258.33333334,
                    34019832,
                    54452485.2,
                    92217719.66666667,
                    97849612.5,
                    74437163.8,
                    99207400,
                    46090244,
                    56469029,
                    50417419,
                    34127212.666666664,
                    77816758.14285715,
                    78141393.22222222,
                    94786081.875,
                    70663554,
                    74118714.7,
                    62101354.05263158,
                    79000382,
                    56407169.78571428,
                    28009356.375,
                    97543973.46153846,
                    36790225.8125,
                    74865442.52941176,
                    53335434,
                    87396621.58333333,
                    62439931.833333336,
                    78236027,
                    53534121.481481485,
                    73074025,
                    56883026.28571428,
                    46468394.952380955,
                    107535644.11764705,
                    127672750.08695652,
                    138332191.66666666,
                    77717273.92857143,
                    181128384.42857143,
                    58101141.09090909,
                    97998070.96428572,
                    135903064.33333334,
                    129007082.3,
                    113377254.66666667,
                    216849770.91666666,
                    160389607.53333333
                  ],
                  "yaxis": "y"
                }
              ],
              "layout": {
                "legend": {
                  "tracegroupgap": 0
                },
                "margin": {
                  "t": 60
                },
                "template": {
                  "data": {
                    "bar": [
                      {
                        "error_x": {
                          "color": "#2a3f5f"
                        },
                        "error_y": {
                          "color": "#2a3f5f"
                        },
                        "marker": {
                          "line": {
                            "color": "#E5ECF6",
                            "width": 0.5
                          },
                          "pattern": {
                            "fillmode": "overlay",
                            "size": 10,
                            "solidity": 0.2
                          }
                        },
                        "type": "bar"
                      }
                    ],
                    "barpolar": [
                      {
                        "marker": {
                          "line": {
                            "color": "#E5ECF6",
                            "width": 0.5
                          },
                          "pattern": {
                            "fillmode": "overlay",
                            "size": 10,
                            "solidity": 0.2
                          }
                        },
                        "type": "barpolar"
                      }
                    ],
                    "carpet": [
                      {
                        "aaxis": {
                          "endlinecolor": "#2a3f5f",
                          "gridcolor": "white",
                          "linecolor": "white",
                          "minorgridcolor": "white",
                          "startlinecolor": "#2a3f5f"
                        },
                        "baxis": {
                          "endlinecolor": "#2a3f5f",
                          "gridcolor": "white",
                          "linecolor": "white",
                          "minorgridcolor": "white",
                          "startlinecolor": "#2a3f5f"
                        },
                        "type": "carpet"
                      }
                    ],
                    "choropleth": [
                      {
                        "colorbar": {
                          "outlinewidth": 0,
                          "ticks": ""
                        },
                        "type": "choropleth"
                      }
                    ],
                    "contour": [
                      {
                        "colorbar": {
                          "outlinewidth": 0,
                          "ticks": ""
                        },
                        "colorscale": [
                          [
                            0,
                            "#0d0887"
                          ],
                          [
                            0.1111111111111111,
                            "#46039f"
                          ],
                          [
                            0.2222222222222222,
                            "#7201a8"
                          ],
                          [
                            0.3333333333333333,
                            "#9c179e"
                          ],
                          [
                            0.4444444444444444,
                            "#bd3786"
                          ],
                          [
                            0.5555555555555556,
                            "#d8576b"
                          ],
                          [
                            0.6666666666666666,
                            "#ed7953"
                          ],
                          [
                            0.7777777777777778,
                            "#fb9f3a"
                          ],
                          [
                            0.8888888888888888,
                            "#fdca26"
                          ],
                          [
                            1,
                            "#f0f921"
                          ]
                        ],
                        "type": "contour"
                      }
                    ],
                    "contourcarpet": [
                      {
                        "colorbar": {
                          "outlinewidth": 0,
                          "ticks": ""
                        },
                        "type": "contourcarpet"
                      }
                    ],
                    "heatmap": [
                      {
                        "colorbar": {
                          "outlinewidth": 0,
                          "ticks": ""
                        },
                        "colorscale": [
                          [
                            0,
                            "#0d0887"
                          ],
                          [
                            0.1111111111111111,
                            "#46039f"
                          ],
                          [
                            0.2222222222222222,
                            "#7201a8"
                          ],
                          [
                            0.3333333333333333,
                            "#9c179e"
                          ],
                          [
                            0.4444444444444444,
                            "#bd3786"
                          ],
                          [
                            0.5555555555555556,
                            "#d8576b"
                          ],
                          [
                            0.6666666666666666,
                            "#ed7953"
                          ],
                          [
                            0.7777777777777778,
                            "#fb9f3a"
                          ],
                          [
                            0.8888888888888888,
                            "#fdca26"
                          ],
                          [
                            1,
                            "#f0f921"
                          ]
                        ],
                        "type": "heatmap"
                      }
                    ],
                    "heatmapgl": [
                      {
                        "colorbar": {
                          "outlinewidth": 0,
                          "ticks": ""
                        },
                        "colorscale": [
                          [
                            0,
                            "#0d0887"
                          ],
                          [
                            0.1111111111111111,
                            "#46039f"
                          ],
                          [
                            0.2222222222222222,
                            "#7201a8"
                          ],
                          [
                            0.3333333333333333,
                            "#9c179e"
                          ],
                          [
                            0.4444444444444444,
                            "#bd3786"
                          ],
                          [
                            0.5555555555555556,
                            "#d8576b"
                          ],
                          [
                            0.6666666666666666,
                            "#ed7953"
                          ],
                          [
                            0.7777777777777778,
                            "#fb9f3a"
                          ],
                          [
                            0.8888888888888888,
                            "#fdca26"
                          ],
                          [
                            1,
                            "#f0f921"
                          ]
                        ],
                        "type": "heatmapgl"
                      }
                    ],
                    "histogram": [
                      {
                        "marker": {
                          "pattern": {
                            "fillmode": "overlay",
                            "size": 10,
                            "solidity": 0.2
                          }
                        },
                        "type": "histogram"
                      }
                    ],
                    "histogram2d": [
                      {
                        "colorbar": {
                          "outlinewidth": 0,
                          "ticks": ""
                        },
                        "colorscale": [
                          [
                            0,
                            "#0d0887"
                          ],
                          [
                            0.1111111111111111,
                            "#46039f"
                          ],
                          [
                            0.2222222222222222,
                            "#7201a8"
                          ],
                          [
                            0.3333333333333333,
                            "#9c179e"
                          ],
                          [
                            0.4444444444444444,
                            "#bd3786"
                          ],
                          [
                            0.5555555555555556,
                            "#d8576b"
                          ],
                          [
                            0.6666666666666666,
                            "#ed7953"
                          ],
                          [
                            0.7777777777777778,
                            "#fb9f3a"
                          ],
                          [
                            0.8888888888888888,
                            "#fdca26"
                          ],
                          [
                            1,
                            "#f0f921"
                          ]
                        ],
                        "type": "histogram2d"
                      }
                    ],
                    "histogram2dcontour": [
                      {
                        "colorbar": {
                          "outlinewidth": 0,
                          "ticks": ""
                        },
                        "colorscale": [
                          [
                            0,
                            "#0d0887"
                          ],
                          [
                            0.1111111111111111,
                            "#46039f"
                          ],
                          [
                            0.2222222222222222,
                            "#7201a8"
                          ],
                          [
                            0.3333333333333333,
                            "#9c179e"
                          ],
                          [
                            0.4444444444444444,
                            "#bd3786"
                          ],
                          [
                            0.5555555555555556,
                            "#d8576b"
                          ],
                          [
                            0.6666666666666666,
                            "#ed7953"
                          ],
                          [
                            0.7777777777777778,
                            "#fb9f3a"
                          ],
                          [
                            0.8888888888888888,
                            "#fdca26"
                          ],
                          [
                            1,
                            "#f0f921"
                          ]
                        ],
                        "type": "histogram2dcontour"
                      }
                    ],
                    "mesh3d": [
                      {
                        "colorbar": {
                          "outlinewidth": 0,
                          "ticks": ""
                        },
                        "type": "mesh3d"
                      }
                    ],
                    "parcoords": [
                      {
                        "line": {
                          "colorbar": {
                            "outlinewidth": 0,
                            "ticks": ""
                          }
                        },
                        "type": "parcoords"
                      }
                    ],
                    "pie": [
                      {
                        "automargin": true,
                        "type": "pie"
                      }
                    ],
                    "scatter": [
                      {
                        "fillpattern": {
                          "fillmode": "overlay",
                          "size": 10,
                          "solidity": 0.2
                        },
                        "type": "scatter"
                      }
                    ],
                    "scatter3d": [
                      {
                        "line": {
                          "colorbar": {
                            "outlinewidth": 0,
                            "ticks": ""
                          }
                        },
                        "marker": {
                          "colorbar": {
                            "outlinewidth": 0,
                            "ticks": ""
                          }
                        },
                        "type": "scatter3d"
                      }
                    ],
                    "scattercarpet": [
                      {
                        "marker": {
                          "colorbar": {
                            "outlinewidth": 0,
                            "ticks": ""
                          }
                        },
                        "type": "scattercarpet"
                      }
                    ],
                    "scattergeo": [
                      {
                        "marker": {
                          "colorbar": {
                            "outlinewidth": 0,
                            "ticks": ""
                          }
                        },
                        "type": "scattergeo"
                      }
                    ],
                    "scattergl": [
                      {
                        "marker": {
                          "colorbar": {
                            "outlinewidth": 0,
                            "ticks": ""
                          }
                        },
                        "type": "scattergl"
                      }
                    ],
                    "scattermapbox": [
                      {
                        "marker": {
                          "colorbar": {
                            "outlinewidth": 0,
                            "ticks": ""
                          }
                        },
                        "type": "scattermapbox"
                      }
                    ],
                    "scatterpolar": [
                      {
                        "marker": {
                          "colorbar": {
                            "outlinewidth": 0,
                            "ticks": ""
                          }
                        },
                        "type": "scatterpolar"
                      }
                    ],
                    "scatterpolargl": [
                      {
                        "marker": {
                          "colorbar": {
                            "outlinewidth": 0,
                            "ticks": ""
                          }
                        },
                        "type": "scatterpolargl"
                      }
                    ],
                    "scatterternary": [
                      {
                        "marker": {
                          "colorbar": {
                            "outlinewidth": 0,
                            "ticks": ""
                          }
                        },
                        "type": "scatterternary"
                      }
                    ],
                    "surface": [
                      {
                        "colorbar": {
                          "outlinewidth": 0,
                          "ticks": ""
                        },
                        "colorscale": [
                          [
                            0,
                            "#0d0887"
                          ],
                          [
                            0.1111111111111111,
                            "#46039f"
                          ],
                          [
                            0.2222222222222222,
                            "#7201a8"
                          ],
                          [
                            0.3333333333333333,
                            "#9c179e"
                          ],
                          [
                            0.4444444444444444,
                            "#bd3786"
                          ],
                          [
                            0.5555555555555556,
                            "#d8576b"
                          ],
                          [
                            0.6666666666666666,
                            "#ed7953"
                          ],
                          [
                            0.7777777777777778,
                            "#fb9f3a"
                          ],
                          [
                            0.8888888888888888,
                            "#fdca26"
                          ],
                          [
                            1,
                            "#f0f921"
                          ]
                        ],
                        "type": "surface"
                      }
                    ],
                    "table": [
                      {
                        "cells": {
                          "fill": {
                            "color": "#EBF0F8"
                          },
                          "line": {
                            "color": "white"
                          }
                        },
                        "header": {
                          "fill": {
                            "color": "#C8D4E3"
                          },
                          "line": {
                            "color": "white"
                          }
                        },
                        "type": "table"
                      }
                    ]
                  },
                  "layout": {
                    "annotationdefaults": {
                      "arrowcolor": "#2a3f5f",
                      "arrowhead": 0,
                      "arrowwidth": 1
                    },
                    "autotypenumbers": "strict",
                    "coloraxis": {
                      "colorbar": {
                        "outlinewidth": 0,
                        "ticks": ""
                      }
                    },
                    "colorscale": {
                      "diverging": [
                        [
                          0,
                          "#8e0152"
                        ],
                        [
                          0.1,
                          "#c51b7d"
                        ],
                        [
                          0.2,
                          "#de77ae"
                        ],
                        [
                          0.3,
                          "#f1b6da"
                        ],
                        [
                          0.4,
                          "#fde0ef"
                        ],
                        [
                          0.5,
                          "#f7f7f7"
                        ],
                        [
                          0.6,
                          "#e6f5d0"
                        ],
                        [
                          0.7,
                          "#b8e186"
                        ],
                        [
                          0.8,
                          "#7fbc41"
                        ],
                        [
                          0.9,
                          "#4d9221"
                        ],
                        [
                          1,
                          "#276419"
                        ]
                      ],
                      "sequential": [
                        [
                          0,
                          "#0d0887"
                        ],
                        [
                          0.1111111111111111,
                          "#46039f"
                        ],
                        [
                          0.2222222222222222,
                          "#7201a8"
                        ],
                        [
                          0.3333333333333333,
                          "#9c179e"
                        ],
                        [
                          0.4444444444444444,
                          "#bd3786"
                        ],
                        [
                          0.5555555555555556,
                          "#d8576b"
                        ],
                        [
                          0.6666666666666666,
                          "#ed7953"
                        ],
                        [
                          0.7777777777777778,
                          "#fb9f3a"
                        ],
                        [
                          0.8888888888888888,
                          "#fdca26"
                        ],
                        [
                          1,
                          "#f0f921"
                        ]
                      ],
                      "sequentialminus": [
                        [
                          0,
                          "#0d0887"
                        ],
                        [
                          0.1111111111111111,
                          "#46039f"
                        ],
                        [
                          0.2222222222222222,
                          "#7201a8"
                        ],
                        [
                          0.3333333333333333,
                          "#9c179e"
                        ],
                        [
                          0.4444444444444444,
                          "#bd3786"
                        ],
                        [
                          0.5555555555555556,
                          "#d8576b"
                        ],
                        [
                          0.6666666666666666,
                          "#ed7953"
                        ],
                        [
                          0.7777777777777778,
                          "#fb9f3a"
                        ],
                        [
                          0.8888888888888888,
                          "#fdca26"
                        ],
                        [
                          1,
                          "#f0f921"
                        ]
                      ]
                    },
                    "colorway": [
                      "#636efa",
                      "#EF553B",
                      "#00cc96",
                      "#ab63fa",
                      "#FFA15A",
                      "#19d3f3",
                      "#FF6692",
                      "#B6E880",
                      "#FF97FF",
                      "#FECB52"
                    ],
                    "font": {
                      "color": "#2a3f5f"
                    },
                    "geo": {
                      "bgcolor": "white",
                      "lakecolor": "white",
                      "landcolor": "#E5ECF6",
                      "showlakes": true,
                      "showland": true,
                      "subunitcolor": "white"
                    },
                    "hoverlabel": {
                      "align": "left"
                    },
                    "hovermode": "closest",
                    "mapbox": {
                      "style": "light"
                    },
                    "paper_bgcolor": "white",
                    "plot_bgcolor": "#E5ECF6",
                    "polar": {
                      "angularaxis": {
                        "gridcolor": "white",
                        "linecolor": "white",
                        "ticks": ""
                      },
                      "bgcolor": "#E5ECF6",
                      "radialaxis": {
                        "gridcolor": "white",
                        "linecolor": "white",
                        "ticks": ""
                      }
                    },
                    "scene": {
                      "xaxis": {
                        "backgroundcolor": "#E5ECF6",
                        "gridcolor": "white",
                        "gridwidth": 2,
                        "linecolor": "white",
                        "showbackground": true,
                        "ticks": "",
                        "zerolinecolor": "white"
                      },
                      "yaxis": {
                        "backgroundcolor": "#E5ECF6",
                        "gridcolor": "white",
                        "gridwidth": 2,
                        "linecolor": "white",
                        "showbackground": true,
                        "ticks": "",
                        "zerolinecolor": "white"
                      },
                      "zaxis": {
                        "backgroundcolor": "#E5ECF6",
                        "gridcolor": "white",
                        "gridwidth": 2,
                        "linecolor": "white",
                        "showbackground": true,
                        "ticks": "",
                        "zerolinecolor": "white"
                      }
                    },
                    "shapedefaults": {
                      "line": {
                        "color": "#2a3f5f"
                      }
                    },
                    "ternary": {
                      "aaxis": {
                        "gridcolor": "white",
                        "linecolor": "white",
                        "ticks": ""
                      },
                      "baxis": {
                        "gridcolor": "white",
                        "linecolor": "white",
                        "ticks": ""
                      },
                      "bgcolor": "#E5ECF6",
                      "caxis": {
                        "gridcolor": "white",
                        "linecolor": "white",
                        "ticks": ""
                      }
                    },
                    "title": {
                      "x": 0.05
                    },
                    "xaxis": {
                      "automargin": true,
                      "gridcolor": "white",
                      "linecolor": "white",
                      "ticks": "",
                      "title": {
                        "standoff": 15
                      },
                      "zerolinecolor": "white",
                      "zerolinewidth": 2
                    },
                    "yaxis": {
                      "automargin": true,
                      "gridcolor": "white",
                      "linecolor": "white",
                      "ticks": "",
                      "title": {
                        "standoff": 15
                      },
                      "zerolinecolor": "white",
                      "zerolinewidth": 2
                    }
                  }
                },
                "xaxis": {
                  "anchor": "y",
                  "domain": [
                    0,
                    1
                  ],
                  "title": {
                    "text": "Released_Year"
                  }
                },
                "yaxis": {
                  "anchor": "x",
                  "domain": [
                    0,
                    1
                  ],
                  "title": {
                    "text": "Gross"
                  }
                }
              }
            }
          },
          "metadata": {},
          "output_type": "display_data"
        }
      ],
      "source": [
        "px.line(new1,y='Gross',x='Released_Year')"
      ]
    },
    {
      "cell_type": "markdown",
      "metadata": {},
      "source": [
        "                              Boom in gross collection of movies in 1939\n",
        "\n",
        "Analysis:\n",
        " 1. Average Gross collection of a movie is increasing with the year.\n",
        " 2. This graph shows that movies are generating more revenue now as compared to past.\n",
        " 3. This is due to increase in inflation and reach of cinema.\n",
        " 4. But in 1939, we see peak in gross collection where Average movie gross collection is $ 70.11 million\n",
        " 5. If we adjust it for inflation the gross will be $ 1271 Million(in 2018) which is 6 times greater than gross collection in 2018( $216 Million).\n",
        " 6. 1939 is considered \"Hollywood’s Golden Year\"."
      ]
    },
    {
      "cell_type": "code",
      "execution_count": 94,
      "metadata": {},
      "outputs": [
        {
          "data": {
            "application/vnd.plotly.v1+json": {
              "config": {
                "plotlyServerURL": "https://plot.ly"
              },
              "data": [
                {
                  "hovertemplate": "Released_Year=%{x}<br>IMDB_Rating=%{y}<extra></extra>",
                  "legendgroup": "",
                  "line": {
                    "color": "#636efa",
                    "dash": "solid"
                  },
                  "marker": {
                    "symbol": "circle"
                  },
                  "mode": "lines",
                  "name": "",
                  "orientation": "v",
                  "showlegend": false,
                  "type": "scatter",
                  "x": [
                    1930,
                    1931,
                    1933,
                    1934,
                    1936,
                    1938,
                    1939,
                    1940,
                    1941,
                    1942,
                    1944,
                    1946,
                    1948,
                    1949,
                    1950,
                    1951,
                    1952,
                    1953,
                    1954,
                    1957,
                    1958,
                    1959,
                    1960,
                    1961,
                    1962,
                    1963,
                    1964,
                    1965,
                    1966,
                    1967,
                    1968,
                    1969,
                    1970,
                    1971,
                    1972,
                    1973,
                    1974,
                    1975,
                    1976,
                    1977,
                    1978,
                    1979,
                    1980,
                    1981,
                    1982,
                    1983,
                    1984,
                    1985,
                    1986,
                    1987,
                    1988,
                    1989,
                    1990,
                    1991,
                    1992,
                    1993,
                    1994,
                    1995,
                    1996,
                    1997,
                    1998,
                    1999,
                    2000,
                    2001,
                    2002,
                    2003,
                    2004,
                    2005,
                    2006,
                    2007,
                    2008,
                    2009,
                    2010,
                    2011,
                    2012,
                    2013,
                    2014,
                    2015,
                    2016,
                    2017,
                    2018,
                    2019
                  ],
                  "xaxis": "x",
                  "y": [
                    8,
                    8.5,
                    7.9,
                    8.1,
                    8.5,
                    7.9,
                    8.066666666666666,
                    7.933333333333334,
                    8.3,
                    8.5,
                    8.3,
                    7.95,
                    8.2,
                    8.1,
                    8.2,
                    7.925,
                    8.100000000000001,
                    7.6,
                    8.325,
                    8.55,
                    8.1,
                    8.15,
                    8.08,
                    7.9,
                    8.066666666666666,
                    7.933333333333334,
                    7.883333333333333,
                    8.1,
                    8.25,
                    7.9,
                    8.125,
                    7.8999999999999995,
                    7.833333333333333,
                    7.871428571428572,
                    8.15,
                    7.890000000000001,
                    8.120000000000001,
                    8.225,
                    7.959999999999999,
                    8.066666666666666,
                    7.825,
                    7.93,
                    8.1,
                    7.975,
                    7.909999999999999,
                    8.075000000000001,
                    7.95,
                    7.925,
                    7.925,
                    7.841666666666666,
                    8,
                    7.877777777777778,
                    7.8875,
                    7.918181818181818,
                    7.859999999999999,
                    7.905263157894736,
                    8.241666666666667,
                    8.02142857142857,
                    7.875,
                    7.984615384615385,
                    7.94375,
                    8.01764705882353,
                    7.975,
                    7.883333333333333,
                    7.911111111111111,
                    7.947368421052632,
                    7.866666666666667,
                    7.835714285714286,
                    7.895238095238096,
                    7.852380952380953,
                    7.935294117647059,
                    7.856521739130434,
                    7.8999999999999995,
                    7.885714285714286,
                    7.921428571428572,
                    7.868181818181818,
                    7.903571428571429,
                    7.833333333333333,
                    7.904999999999999,
                    7.827777777777778,
                    7.95,
                    8.026666666666667
                  ],
                  "yaxis": "y"
                }
              ],
              "layout": {
                "legend": {
                  "tracegroupgap": 0
                },
                "margin": {
                  "t": 60
                },
                "template": {
                  "data": {
                    "bar": [
                      {
                        "error_x": {
                          "color": "#2a3f5f"
                        },
                        "error_y": {
                          "color": "#2a3f5f"
                        },
                        "marker": {
                          "line": {
                            "color": "#E5ECF6",
                            "width": 0.5
                          },
                          "pattern": {
                            "fillmode": "overlay",
                            "size": 10,
                            "solidity": 0.2
                          }
                        },
                        "type": "bar"
                      }
                    ],
                    "barpolar": [
                      {
                        "marker": {
                          "line": {
                            "color": "#E5ECF6",
                            "width": 0.5
                          },
                          "pattern": {
                            "fillmode": "overlay",
                            "size": 10,
                            "solidity": 0.2
                          }
                        },
                        "type": "barpolar"
                      }
                    ],
                    "carpet": [
                      {
                        "aaxis": {
                          "endlinecolor": "#2a3f5f",
                          "gridcolor": "white",
                          "linecolor": "white",
                          "minorgridcolor": "white",
                          "startlinecolor": "#2a3f5f"
                        },
                        "baxis": {
                          "endlinecolor": "#2a3f5f",
                          "gridcolor": "white",
                          "linecolor": "white",
                          "minorgridcolor": "white",
                          "startlinecolor": "#2a3f5f"
                        },
                        "type": "carpet"
                      }
                    ],
                    "choropleth": [
                      {
                        "colorbar": {
                          "outlinewidth": 0,
                          "ticks": ""
                        },
                        "type": "choropleth"
                      }
                    ],
                    "contour": [
                      {
                        "colorbar": {
                          "outlinewidth": 0,
                          "ticks": ""
                        },
                        "colorscale": [
                          [
                            0,
                            "#0d0887"
                          ],
                          [
                            0.1111111111111111,
                            "#46039f"
                          ],
                          [
                            0.2222222222222222,
                            "#7201a8"
                          ],
                          [
                            0.3333333333333333,
                            "#9c179e"
                          ],
                          [
                            0.4444444444444444,
                            "#bd3786"
                          ],
                          [
                            0.5555555555555556,
                            "#d8576b"
                          ],
                          [
                            0.6666666666666666,
                            "#ed7953"
                          ],
                          [
                            0.7777777777777778,
                            "#fb9f3a"
                          ],
                          [
                            0.8888888888888888,
                            "#fdca26"
                          ],
                          [
                            1,
                            "#f0f921"
                          ]
                        ],
                        "type": "contour"
                      }
                    ],
                    "contourcarpet": [
                      {
                        "colorbar": {
                          "outlinewidth": 0,
                          "ticks": ""
                        },
                        "type": "contourcarpet"
                      }
                    ],
                    "heatmap": [
                      {
                        "colorbar": {
                          "outlinewidth": 0,
                          "ticks": ""
                        },
                        "colorscale": [
                          [
                            0,
                            "#0d0887"
                          ],
                          [
                            0.1111111111111111,
                            "#46039f"
                          ],
                          [
                            0.2222222222222222,
                            "#7201a8"
                          ],
                          [
                            0.3333333333333333,
                            "#9c179e"
                          ],
                          [
                            0.4444444444444444,
                            "#bd3786"
                          ],
                          [
                            0.5555555555555556,
                            "#d8576b"
                          ],
                          [
                            0.6666666666666666,
                            "#ed7953"
                          ],
                          [
                            0.7777777777777778,
                            "#fb9f3a"
                          ],
                          [
                            0.8888888888888888,
                            "#fdca26"
                          ],
                          [
                            1,
                            "#f0f921"
                          ]
                        ],
                        "type": "heatmap"
                      }
                    ],
                    "heatmapgl": [
                      {
                        "colorbar": {
                          "outlinewidth": 0,
                          "ticks": ""
                        },
                        "colorscale": [
                          [
                            0,
                            "#0d0887"
                          ],
                          [
                            0.1111111111111111,
                            "#46039f"
                          ],
                          [
                            0.2222222222222222,
                            "#7201a8"
                          ],
                          [
                            0.3333333333333333,
                            "#9c179e"
                          ],
                          [
                            0.4444444444444444,
                            "#bd3786"
                          ],
                          [
                            0.5555555555555556,
                            "#d8576b"
                          ],
                          [
                            0.6666666666666666,
                            "#ed7953"
                          ],
                          [
                            0.7777777777777778,
                            "#fb9f3a"
                          ],
                          [
                            0.8888888888888888,
                            "#fdca26"
                          ],
                          [
                            1,
                            "#f0f921"
                          ]
                        ],
                        "type": "heatmapgl"
                      }
                    ],
                    "histogram": [
                      {
                        "marker": {
                          "pattern": {
                            "fillmode": "overlay",
                            "size": 10,
                            "solidity": 0.2
                          }
                        },
                        "type": "histogram"
                      }
                    ],
                    "histogram2d": [
                      {
                        "colorbar": {
                          "outlinewidth": 0,
                          "ticks": ""
                        },
                        "colorscale": [
                          [
                            0,
                            "#0d0887"
                          ],
                          [
                            0.1111111111111111,
                            "#46039f"
                          ],
                          [
                            0.2222222222222222,
                            "#7201a8"
                          ],
                          [
                            0.3333333333333333,
                            "#9c179e"
                          ],
                          [
                            0.4444444444444444,
                            "#bd3786"
                          ],
                          [
                            0.5555555555555556,
                            "#d8576b"
                          ],
                          [
                            0.6666666666666666,
                            "#ed7953"
                          ],
                          [
                            0.7777777777777778,
                            "#fb9f3a"
                          ],
                          [
                            0.8888888888888888,
                            "#fdca26"
                          ],
                          [
                            1,
                            "#f0f921"
                          ]
                        ],
                        "type": "histogram2d"
                      }
                    ],
                    "histogram2dcontour": [
                      {
                        "colorbar": {
                          "outlinewidth": 0,
                          "ticks": ""
                        },
                        "colorscale": [
                          [
                            0,
                            "#0d0887"
                          ],
                          [
                            0.1111111111111111,
                            "#46039f"
                          ],
                          [
                            0.2222222222222222,
                            "#7201a8"
                          ],
                          [
                            0.3333333333333333,
                            "#9c179e"
                          ],
                          [
                            0.4444444444444444,
                            "#bd3786"
                          ],
                          [
                            0.5555555555555556,
                            "#d8576b"
                          ],
                          [
                            0.6666666666666666,
                            "#ed7953"
                          ],
                          [
                            0.7777777777777778,
                            "#fb9f3a"
                          ],
                          [
                            0.8888888888888888,
                            "#fdca26"
                          ],
                          [
                            1,
                            "#f0f921"
                          ]
                        ],
                        "type": "histogram2dcontour"
                      }
                    ],
                    "mesh3d": [
                      {
                        "colorbar": {
                          "outlinewidth": 0,
                          "ticks": ""
                        },
                        "type": "mesh3d"
                      }
                    ],
                    "parcoords": [
                      {
                        "line": {
                          "colorbar": {
                            "outlinewidth": 0,
                            "ticks": ""
                          }
                        },
                        "type": "parcoords"
                      }
                    ],
                    "pie": [
                      {
                        "automargin": true,
                        "type": "pie"
                      }
                    ],
                    "scatter": [
                      {
                        "fillpattern": {
                          "fillmode": "overlay",
                          "size": 10,
                          "solidity": 0.2
                        },
                        "type": "scatter"
                      }
                    ],
                    "scatter3d": [
                      {
                        "line": {
                          "colorbar": {
                            "outlinewidth": 0,
                            "ticks": ""
                          }
                        },
                        "marker": {
                          "colorbar": {
                            "outlinewidth": 0,
                            "ticks": ""
                          }
                        },
                        "type": "scatter3d"
                      }
                    ],
                    "scattercarpet": [
                      {
                        "marker": {
                          "colorbar": {
                            "outlinewidth": 0,
                            "ticks": ""
                          }
                        },
                        "type": "scattercarpet"
                      }
                    ],
                    "scattergeo": [
                      {
                        "marker": {
                          "colorbar": {
                            "outlinewidth": 0,
                            "ticks": ""
                          }
                        },
                        "type": "scattergeo"
                      }
                    ],
                    "scattergl": [
                      {
                        "marker": {
                          "colorbar": {
                            "outlinewidth": 0,
                            "ticks": ""
                          }
                        },
                        "type": "scattergl"
                      }
                    ],
                    "scattermapbox": [
                      {
                        "marker": {
                          "colorbar": {
                            "outlinewidth": 0,
                            "ticks": ""
                          }
                        },
                        "type": "scattermapbox"
                      }
                    ],
                    "scatterpolar": [
                      {
                        "marker": {
                          "colorbar": {
                            "outlinewidth": 0,
                            "ticks": ""
                          }
                        },
                        "type": "scatterpolar"
                      }
                    ],
                    "scatterpolargl": [
                      {
                        "marker": {
                          "colorbar": {
                            "outlinewidth": 0,
                            "ticks": ""
                          }
                        },
                        "type": "scatterpolargl"
                      }
                    ],
                    "scatterternary": [
                      {
                        "marker": {
                          "colorbar": {
                            "outlinewidth": 0,
                            "ticks": ""
                          }
                        },
                        "type": "scatterternary"
                      }
                    ],
                    "surface": [
                      {
                        "colorbar": {
                          "outlinewidth": 0,
                          "ticks": ""
                        },
                        "colorscale": [
                          [
                            0,
                            "#0d0887"
                          ],
                          [
                            0.1111111111111111,
                            "#46039f"
                          ],
                          [
                            0.2222222222222222,
                            "#7201a8"
                          ],
                          [
                            0.3333333333333333,
                            "#9c179e"
                          ],
                          [
                            0.4444444444444444,
                            "#bd3786"
                          ],
                          [
                            0.5555555555555556,
                            "#d8576b"
                          ],
                          [
                            0.6666666666666666,
                            "#ed7953"
                          ],
                          [
                            0.7777777777777778,
                            "#fb9f3a"
                          ],
                          [
                            0.8888888888888888,
                            "#fdca26"
                          ],
                          [
                            1,
                            "#f0f921"
                          ]
                        ],
                        "type": "surface"
                      }
                    ],
                    "table": [
                      {
                        "cells": {
                          "fill": {
                            "color": "#EBF0F8"
                          },
                          "line": {
                            "color": "white"
                          }
                        },
                        "header": {
                          "fill": {
                            "color": "#C8D4E3"
                          },
                          "line": {
                            "color": "white"
                          }
                        },
                        "type": "table"
                      }
                    ]
                  },
                  "layout": {
                    "annotationdefaults": {
                      "arrowcolor": "#2a3f5f",
                      "arrowhead": 0,
                      "arrowwidth": 1
                    },
                    "autotypenumbers": "strict",
                    "coloraxis": {
                      "colorbar": {
                        "outlinewidth": 0,
                        "ticks": ""
                      }
                    },
                    "colorscale": {
                      "diverging": [
                        [
                          0,
                          "#8e0152"
                        ],
                        [
                          0.1,
                          "#c51b7d"
                        ],
                        [
                          0.2,
                          "#de77ae"
                        ],
                        [
                          0.3,
                          "#f1b6da"
                        ],
                        [
                          0.4,
                          "#fde0ef"
                        ],
                        [
                          0.5,
                          "#f7f7f7"
                        ],
                        [
                          0.6,
                          "#e6f5d0"
                        ],
                        [
                          0.7,
                          "#b8e186"
                        ],
                        [
                          0.8,
                          "#7fbc41"
                        ],
                        [
                          0.9,
                          "#4d9221"
                        ],
                        [
                          1,
                          "#276419"
                        ]
                      ],
                      "sequential": [
                        [
                          0,
                          "#0d0887"
                        ],
                        [
                          0.1111111111111111,
                          "#46039f"
                        ],
                        [
                          0.2222222222222222,
                          "#7201a8"
                        ],
                        [
                          0.3333333333333333,
                          "#9c179e"
                        ],
                        [
                          0.4444444444444444,
                          "#bd3786"
                        ],
                        [
                          0.5555555555555556,
                          "#d8576b"
                        ],
                        [
                          0.6666666666666666,
                          "#ed7953"
                        ],
                        [
                          0.7777777777777778,
                          "#fb9f3a"
                        ],
                        [
                          0.8888888888888888,
                          "#fdca26"
                        ],
                        [
                          1,
                          "#f0f921"
                        ]
                      ],
                      "sequentialminus": [
                        [
                          0,
                          "#0d0887"
                        ],
                        [
                          0.1111111111111111,
                          "#46039f"
                        ],
                        [
                          0.2222222222222222,
                          "#7201a8"
                        ],
                        [
                          0.3333333333333333,
                          "#9c179e"
                        ],
                        [
                          0.4444444444444444,
                          "#bd3786"
                        ],
                        [
                          0.5555555555555556,
                          "#d8576b"
                        ],
                        [
                          0.6666666666666666,
                          "#ed7953"
                        ],
                        [
                          0.7777777777777778,
                          "#fb9f3a"
                        ],
                        [
                          0.8888888888888888,
                          "#fdca26"
                        ],
                        [
                          1,
                          "#f0f921"
                        ]
                      ]
                    },
                    "colorway": [
                      "#636efa",
                      "#EF553B",
                      "#00cc96",
                      "#ab63fa",
                      "#FFA15A",
                      "#19d3f3",
                      "#FF6692",
                      "#B6E880",
                      "#FF97FF",
                      "#FECB52"
                    ],
                    "font": {
                      "color": "#2a3f5f"
                    },
                    "geo": {
                      "bgcolor": "white",
                      "lakecolor": "white",
                      "landcolor": "#E5ECF6",
                      "showlakes": true,
                      "showland": true,
                      "subunitcolor": "white"
                    },
                    "hoverlabel": {
                      "align": "left"
                    },
                    "hovermode": "closest",
                    "mapbox": {
                      "style": "light"
                    },
                    "paper_bgcolor": "white",
                    "plot_bgcolor": "#E5ECF6",
                    "polar": {
                      "angularaxis": {
                        "gridcolor": "white",
                        "linecolor": "white",
                        "ticks": ""
                      },
                      "bgcolor": "#E5ECF6",
                      "radialaxis": {
                        "gridcolor": "white",
                        "linecolor": "white",
                        "ticks": ""
                      }
                    },
                    "scene": {
                      "xaxis": {
                        "backgroundcolor": "#E5ECF6",
                        "gridcolor": "white",
                        "gridwidth": 2,
                        "linecolor": "white",
                        "showbackground": true,
                        "ticks": "",
                        "zerolinecolor": "white"
                      },
                      "yaxis": {
                        "backgroundcolor": "#E5ECF6",
                        "gridcolor": "white",
                        "gridwidth": 2,
                        "linecolor": "white",
                        "showbackground": true,
                        "ticks": "",
                        "zerolinecolor": "white"
                      },
                      "zaxis": {
                        "backgroundcolor": "#E5ECF6",
                        "gridcolor": "white",
                        "gridwidth": 2,
                        "linecolor": "white",
                        "showbackground": true,
                        "ticks": "",
                        "zerolinecolor": "white"
                      }
                    },
                    "shapedefaults": {
                      "line": {
                        "color": "#2a3f5f"
                      }
                    },
                    "ternary": {
                      "aaxis": {
                        "gridcolor": "white",
                        "linecolor": "white",
                        "ticks": ""
                      },
                      "baxis": {
                        "gridcolor": "white",
                        "linecolor": "white",
                        "ticks": ""
                      },
                      "bgcolor": "#E5ECF6",
                      "caxis": {
                        "gridcolor": "white",
                        "linecolor": "white",
                        "ticks": ""
                      }
                    },
                    "title": {
                      "x": 0.05
                    },
                    "xaxis": {
                      "automargin": true,
                      "gridcolor": "white",
                      "linecolor": "white",
                      "ticks": "",
                      "title": {
                        "standoff": 15
                      },
                      "zerolinecolor": "white",
                      "zerolinewidth": 2
                    },
                    "yaxis": {
                      "automargin": true,
                      "gridcolor": "white",
                      "linecolor": "white",
                      "ticks": "",
                      "title": {
                        "standoff": 15
                      },
                      "zerolinecolor": "white",
                      "zerolinewidth": 2
                    }
                  }
                },
                "xaxis": {
                  "anchor": "y",
                  "domain": [
                    0,
                    1
                  ],
                  "title": {
                    "text": "Released_Year"
                  }
                },
                "yaxis": {
                  "anchor": "x",
                  "domain": [
                    0,
                    1
                  ],
                  "title": {
                    "text": "IMDB_Rating"
                  }
                }
              }
            }
          },
          "metadata": {},
          "output_type": "display_data"
        }
      ],
      "source": [
        "px.line(new1,y='IMDB_Rating',x='Released_Year')"
      ]
    },
    {
      "cell_type": "markdown",
      "metadata": {},
      "source": [
        "                                    Average IMDB_Rating vs Released_Year\n",
        "Analysis: \n",
        "1. This graph shows that Average IMDB Rating is Decreasing year by year. \n",
        "2. Initially we see large fluctuation in the rating (As no. of movies was less before)\n",
        "3. Then we see rating slowing decreasing and Fluctuation are also becoming smaller as year progress."
      ]
    },
    {
      "cell_type": "code",
      "execution_count": 115,
      "metadata": {},
      "outputs": [
        {
          "data": {
            "application/vnd.plotly.v1+json": {
              "config": {
                "plotlyServerURL": "https://plot.ly"
              },
              "data": [
                {
                  "domain": {
                    "x": [
                      0,
                      1
                    ],
                    "y": [
                      0,
                      1
                    ]
                  },
                  "hovertemplate": "Certificate=%{label}<br>Gross=%{value}<extra></extra>",
                  "labels": [
                    "A",
                    "A",
                    "UA",
                    "A",
                    "U",
                    "U",
                    "A",
                    "A",
                    "UA",
                    "A",
                    "U",
                    "UA",
                    "A",
                    "UA",
                    "A",
                    "A",
                    "UA",
                    "A",
                    "A",
                    "UA",
                    "A",
                    "U",
                    "R",
                    "A",
                    "U",
                    "A",
                    "A",
                    "UA",
                    "U",
                    "A",
                    "A",
                    "UA",
                    "U",
                    "A",
                    "R",
                    "UA",
                    "R",
                    "A",
                    "A",
                    "U",
                    "U",
                    "U",
                    "U",
                    "U",
                    "A",
                    "U",
                    "G",
                    "G",
                    "A",
                    "U",
                    "U",
                    "UA",
                    "UA",
                    "U",
                    "A",
                    "UA",
                    "UA",
                    "U",
                    "A",
                    "A",
                    "UA",
                    "U",
                    "A",
                    "A",
                    "R",
                    "R",
                    "A",
                    "U",
                    "R",
                    "R",
                    "PG-13",
                    "R",
                    "A",
                    "UA",
                    "U",
                    "UA",
                    "A",
                    "UA",
                    "U",
                    "PG",
                    "U",
                    "A",
                    "R",
                    "UA",
                    "U",
                    "R",
                    "A",
                    "U",
                    "R",
                    "A",
                    "U",
                    "A",
                    "U",
                    "U",
                    "U",
                    "U",
                    "U",
                    "A",
                    "G",
                    "Passed",
                    "UA",
                    "UA",
                    "A",
                    "R",
                    "UA",
                    "A",
                    "U",
                    "A",
                    "U",
                    "A",
                    "UA",
                    "U",
                    "A",
                    "UA",
                    "R",
                    "U",
                    "UA",
                    "A",
                    "A",
                    "A",
                    "A",
                    "A",
                    "U",
                    "U",
                    "A",
                    "U",
                    "A",
                    "PG",
                    "U",
                    "U",
                    "A",
                    "Passed",
                    "Passed",
                    "R",
                    "A",
                    "R",
                    "A",
                    "R",
                    "R",
                    "UA",
                    "A",
                    "A",
                    "U",
                    "A",
                    "UA",
                    "UA",
                    "A",
                    "PG",
                    "A",
                    "UA",
                    "R",
                    "UA",
                    "PG-13",
                    "U",
                    "R",
                    "R",
                    "UA",
                    "PG-13",
                    "R",
                    "R",
                    "UA",
                    "R",
                    "U",
                    "A",
                    "A",
                    "U",
                    "U",
                    "A",
                    "U",
                    "U",
                    "R",
                    "R",
                    "U",
                    "A",
                    "A",
                    "R",
                    "U",
                    "U",
                    "UA",
                    "UA",
                    "U",
                    "U",
                    "A",
                    "U",
                    "U",
                    "A",
                    "UA",
                    "A",
                    "UA",
                    "R",
                    "A",
                    "U",
                    "UA",
                    "U",
                    "A",
                    "Passed",
                    "U",
                    "PG",
                    "A",
                    "Approved",
                    "Approved",
                    "Approved",
                    "Passed",
                    "U",
                    "Approved",
                    "A",
                    "U",
                    "UA",
                    "U",
                    "U",
                    "U",
                    "UA",
                    "R",
                    "A",
                    "UA",
                    "UA",
                    "UA",
                    "A",
                    "UA",
                    "A",
                    "UA",
                    "U",
                    "UA",
                    "R",
                    "TV-PG",
                    "UA",
                    "UA",
                    "A",
                    "R",
                    "UA",
                    "PG-13",
                    "R",
                    "U",
                    "A",
                    "UA",
                    "U",
                    "A",
                    "PG-13",
                    "U",
                    "PG-13",
                    "A",
                    "R",
                    "U",
                    "UA",
                    "U",
                    "UA",
                    "UA",
                    "U",
                    "U",
                    "R",
                    "R",
                    "R",
                    "U",
                    "U",
                    "R",
                    "R",
                    "PG",
                    "R",
                    "U",
                    "A",
                    "UA",
                    "U",
                    "U",
                    "R",
                    "UA",
                    "U",
                    "UA",
                    "G",
                    "U",
                    "R",
                    "U",
                    "U",
                    "U",
                    "U",
                    "UA",
                    "U",
                    "PG",
                    "A",
                    "A",
                    "U",
                    "A",
                    "R",
                    "A",
                    "R",
                    "G",
                    "UA",
                    "PG",
                    "U",
                    "A",
                    "U",
                    "A",
                    "A",
                    "A",
                    "A",
                    "Passed",
                    "PG-13",
                    "A",
                    "A",
                    "Approved",
                    "Passed",
                    "U",
                    "U",
                    "UA",
                    "A",
                    "U",
                    "UA",
                    "UA",
                    "U",
                    "UA",
                    "R",
                    "PG-13",
                    "UA",
                    "A",
                    "UA",
                    "UA",
                    "U",
                    "R",
                    "UA",
                    "U",
                    "UA",
                    "UA",
                    "R",
                    "A",
                    "R",
                    "R",
                    "A",
                    "UA",
                    "A",
                    "UA",
                    "R",
                    "UA",
                    "R",
                    "U",
                    "PG",
                    "PG-13",
                    "UA",
                    "UA",
                    "A",
                    "U",
                    "PG-13",
                    "R",
                    "R",
                    "U",
                    "UA",
                    "R",
                    "A",
                    "A",
                    "R",
                    "U",
                    "R",
                    "A",
                    "R",
                    "U",
                    "A",
                    "U",
                    "U",
                    "PG-13",
                    "A",
                    "PG-13",
                    "U",
                    "R",
                    "U",
                    "U",
                    "R",
                    "A",
                    "A",
                    "U",
                    "R",
                    "PG",
                    "U",
                    "A",
                    "U",
                    "U",
                    "A",
                    "PG",
                    "A",
                    "U",
                    "PG",
                    "Passed",
                    "UA",
                    "UA",
                    "UA",
                    "U",
                    "PG",
                    "UA",
                    "R",
                    "UA",
                    "UA",
                    "A",
                    "U",
                    "UA",
                    "PG-13",
                    "U",
                    "U",
                    "R",
                    "PG-13",
                    "U",
                    "R",
                    "A",
                    "U",
                    "A",
                    "R",
                    "UA",
                    "R",
                    "R",
                    "UA",
                    "UA",
                    "R",
                    "UA",
                    "A",
                    "PG-13",
                    "R",
                    "UA",
                    "R",
                    "A",
                    "A",
                    "UA",
                    "R",
                    "A",
                    "UA",
                    "UA",
                    "UA",
                    "U",
                    "R",
                    "PG",
                    "U",
                    "UA",
                    "PG-13",
                    "PG-13",
                    "A",
                    "U",
                    "R",
                    "PG-13",
                    "PG-13",
                    "R",
                    "U",
                    "UA",
                    "R",
                    "UA",
                    "R",
                    "UA",
                    "PG",
                    "U",
                    "UA",
                    "UA",
                    "UA",
                    "R",
                    "U",
                    "U",
                    "R",
                    "U",
                    "U",
                    "U",
                    "R",
                    "R",
                    "R",
                    "A",
                    "R",
                    "U",
                    "R",
                    "U",
                    "A",
                    "A",
                    "A",
                    "U",
                    "R",
                    "U",
                    "U",
                    "UA",
                    "UA",
                    "UA",
                    "PG",
                    "U",
                    "U",
                    "A",
                    "A",
                    "U",
                    "U",
                    "A",
                    "A",
                    "U",
                    "A",
                    "U",
                    "U",
                    "G",
                    "A",
                    "R",
                    "R",
                    "R",
                    "UA",
                    "PG-13",
                    "R",
                    "U",
                    "U",
                    "A",
                    "UA",
                    "PG-13",
                    "A",
                    "A",
                    "U",
                    "UA",
                    "UA",
                    "U",
                    "PG",
                    "PG-13",
                    "U",
                    "UA",
                    "UA",
                    "UA",
                    "UA",
                    "UA",
                    "UA",
                    "A",
                    "A",
                    "UA",
                    "A",
                    "U",
                    "R",
                    "U",
                    "R",
                    "PG",
                    "UA",
                    "R",
                    "R",
                    "UA",
                    "R",
                    "PG-13",
                    "R",
                    "U",
                    "R",
                    "A",
                    "A",
                    "UA",
                    "UA",
                    "A",
                    "R",
                    "A",
                    "UA",
                    "UA",
                    "UA",
                    "U",
                    "UA",
                    "R",
                    "R",
                    "PG-13",
                    "PG-13",
                    "R",
                    "A",
                    "A",
                    "R",
                    "R",
                    "R",
                    "UA",
                    "U",
                    "U",
                    "A",
                    "R",
                    "A",
                    "UA",
                    "R",
                    "A",
                    "UA",
                    "PG-13",
                    "A",
                    "U",
                    "A",
                    "U",
                    "U",
                    "R",
                    "R",
                    "UA",
                    "G",
                    "U",
                    "UA",
                    "R",
                    "U",
                    "PG-13",
                    "U",
                    "R",
                    "U",
                    "R",
                    "U",
                    "U",
                    "R",
                    "A",
                    "U",
                    "UA",
                    "U",
                    "U",
                    "A",
                    "U",
                    "U",
                    "A",
                    "R",
                    "A",
                    "A",
                    "A",
                    "U",
                    "A",
                    "A",
                    "G",
                    "U",
                    "A",
                    "A",
                    "Approved",
                    "PG",
                    "G",
                    "U/A",
                    "A",
                    "R",
                    "A",
                    "PG-13",
                    "PG-13",
                    "PG-13",
                    "UA",
                    "UA",
                    "UA",
                    "UA",
                    "UA",
                    "U",
                    "A",
                    "A",
                    "R",
                    "R",
                    "PG-13",
                    "UA",
                    "A",
                    "A",
                    "U",
                    "UA",
                    "PG-13",
                    "R",
                    "U",
                    "R",
                    "UA",
                    "PG-13",
                    "R",
                    "A",
                    "PG-13",
                    "UA",
                    "PG-13",
                    "UA",
                    "R",
                    "U",
                    "R",
                    "R",
                    "PG-13",
                    "PG-13",
                    "U",
                    "UA",
                    "A",
                    "R",
                    "A",
                    "R",
                    "UA",
                    "R",
                    "R",
                    "R",
                    "U",
                    "R",
                    "UA",
                    "R",
                    "U",
                    "R",
                    "U",
                    "A",
                    "A",
                    "A",
                    "U",
                    "PG-13",
                    "R",
                    "A",
                    "A",
                    "R",
                    "A",
                    "UA",
                    "A",
                    "U",
                    "R",
                    "A",
                    "UA",
                    "A",
                    "U",
                    "A",
                    "R",
                    "A",
                    "U",
                    "R",
                    "U",
                    "UA",
                    "U",
                    "R",
                    "U",
                    "A",
                    "UA",
                    "U",
                    "U",
                    "U",
                    "A",
                    "A",
                    "UA",
                    "A",
                    "UA",
                    "U",
                    "A",
                    "A",
                    "U",
                    "A",
                    "PG",
                    "GP",
                    "U",
                    "U",
                    "Passed"
                  ],
                  "legendgroup": "",
                  "name": "",
                  "showlegend": true,
                  "type": "pie",
                  "values": [
                    28341469,
                    134966411,
                    534858444,
                    57300000,
                    4360000,
                    377845905,
                    107928762,
                    96898818,
                    292576195,
                    37030102,
                    315544750,
                    330252182,
                    6100000,
                    342551365,
                    171479930,
                    46836394,
                    290475067,
                    112000000,
                    53367844,
                    188020017,
                    7563397,
                    10055859,
                    216540909,
                    136801374,
                    57598247,
                    100125643,
                    130742922,
                    322740140,
                    269061,
                    335451311,
                    13092000,
                    13182281,
                    53089891,
                    132384315,
                    32572577,
                    187705427,
                    6719864,
                    23341568,
                    19501238,
                    422783777,
                    204843350,
                    11990401,
                    210609762,
                    5321508,
                    32000000,
                    1024560,
                    163245,
                    19181,
                    1661096,
                    5017246,
                    190241310,
                    858373000,
                    678815482,
                    209726015,
                    162805434,
                    448139099,
                    6532908,
                    223808164,
                    11286112,
                    707481,
                    25544867,
                    2375308,
                    248159971,
                    44017374,
                    83471511,
                    78900000,
                    275902,
                    36764313,
                    159227644,
                    687185,
                    7098492,
                    6857096,
                    120540719,
                    34400301,
                    33225499,
                    30328156,
                    3635482,
                    130096601,
                    138433435,
                    933933,
                    191796233,
                    75600000,
                    2832029,
                    46357676,
                    85160248,
                    51973029,
                    45598982,
                    309125409,
                    11487676,
                    28262574,
                    159600000,
                    6207725,
                    56954992,
                    15000000,
                    44824144,
                    18600000,
                    13275000,
                    3200000,
                    8819028,
                    5720000,
                    1585634,
                    85080171,
                    54513740,
                    6391436,
                    13657115,
                    128012934,
                    293004164,
                    116900694,
                    1113541,
                    40222514,
                    37634615,
                    415004880,
                    70511035,
                    206852432,
                    5509040,
                    4711096,
                    170742341,
                    3897569,
                    64616940,
                    67436818,
                    42438300,
                    101157447,
                    197171806,
                    1105564,
                    83008852,
                    4135750,
                    23383987,
                    1229197,
                    12100000,
                    25000000,
                    12562,
                    10177,
                    5014000,
                    3759854,
                    2006788,
                    3492754,
                    226277068,
                    14677674,
                    3107072,
                    59100318,
                    167767189,
                    67209615,
                    356461711,
                    56671993,
                    26947624,
                    117624028,
                    45055776,
                    857524,
                    61002302,
                    154058340,
                    148095302,
                    381011219,
                    1498210,
                    217581231,
                    18354356,
                    74283625,
                    100492203,
                    23530892,
                    1111061,
                    5820649,
                    14131,
                    70099045,
                    380843261,
                    164615351,
                    5383834,
                    289916256,
                    70147,
                    293506292,
                    259127,
                    125618201,
                    348660,
                    17498804,
                    2734044,
                    16501785,
                    24611975,
                    5535405,
                    4043686,
                    600200,
                    402453882,
                    25010410,
                    95860116,
                    52287414,
                    138530565,
                    2181987,
                    495770,
                    13782838,
                    22244207,
                    4971340,
                    32868943,
                    20045115,
                    48979328,
                    117235247,
                    29000000,
                    30933743,
                    16217773,
                    4050000,
                    74700000,
                    44908000,
                    9600000,
                    3969893,
                    449191,
                    4360000,
                    9600000,
                    198676459,
                    4360000,
                    151101803,
                    51739495,
                    228433663,
                    341268248,
                    1506975,
                    132422809,
                    5566534,
                    1010414,
                    2625803,
                    91125683,
                    333176600,
                    92054159,
                    25568251,
                    216428042,
                    183637894,
                    17738570,
                    138797449,
                    169708112,
                    363070709,
                    106662,
                    4018695,
                    141319928,
                    106954678,
                    8060,
                    623279547,
                    4445756,
                    27298285,
                    163566459,
                    57366262,
                    227471070,
                    238507,
                    74103820,
                    5990075,
                    206445654,
                    167445960,
                    66208183,
                    2380788,
                    2086345,
                    61649911,
                    1787378,
                    169659,
                    305413918,
                    66257002,
                    261441092,
                    1530386,
                    1480006,
                    22455976,
                    4184036,
                    6203044,
                    1647780,
                    5595428,
                    23159305,
                    24475416,
                    13417292,
                    57141459,
                    515905,
                    75082668,
                    70906973,
                    4496583,
                    63895607,
                    217350219,
                    70405498,
                    218967620,
                    184208848,
                    27545445,
                    178800000,
                    30857814,
                    3333969,
                    4542825,
                    38400000,
                    52767889,
                    30177511,
                    39200000,
                    260000000,
                    50000000,
                    86300000,
                    53267000,
                    232906145,
                    29133000,
                    80500000,
                    541940,
                    102308889,
                    33395426,
                    104945305,
                    163214286,
                    111722000,
                    14500000,
                    8284000,
                    19516000,
                    12535000,
                    2237659,
                    17570324,
                    8000000,
                    23650000,
                    55000,
                    2076020,
                    3270000,
                    165359751,
                    3313513,
                    2000000,
                    18095701,
                    258168,
                    32015231,
                    5202582,
                    5875006,
                    3237118,
                    315058289,
                    32381218,
                    349555,
                    100546139,
                    936662225,
                    8114627,
                    233921534,
                    44671682,
                    100206256,
                    6739492,
                    7000000,
                    2084637,
                    5009677,
                    2122065,
                    115646235,
                    26236603,
                    25379975,
                    257730019,
                    7757130,
                    13756082,
                    2280348,
                    124987023,
                    21002919,
                    3635164,
                    318412101,
                    13542874,
                    90135191,
                    249358727,
                    53710019,
                    9284265,
                    1059830,
                    1000045,
                    121661683,
                    1221261,
                    35552383,
                    32534850,
                    7220243,
                    245852179,
                    26400640,
                    2201126,
                    12281500,
                    1324974,
                    36948322,
                    56362352,
                    14743391,
                    18254702,
                    76270454,
                    40084041,
                    9929135,
                    188751,
                    20605209,
                    57229890,
                    45700000,
                    37823676,
                    5100000,
                    70600000,
                    61001,
                    198809,
                    61700000,
                    12064472,
                    24379978,
                    13474588,
                    30000000,
                    9450000,
                    7630000,
                    10464000,
                    3981000,
                    10000000,
                    2402067,
                    188373161,
                    169607287,
                    40442052,
                    48023088,
                    47695120,
                    435266,
                    532177324,
                    408084349,
                    54117416,
                    108101214,
                    6735118,
                    1330596,
                    4231500,
                    222527828,
                    15322921,
                    5209580,
                    434038008,
                    85433,
                    45512466,
                    177002924,
                    70259870,
                    102515793,
                    107100855,
                    161197785,
                    547292,
                    258366855,
                    2222647,
                    10095170,
                    93617009,
                    145000989,
                    9030581,
                    9439923,
                    303003568,
                    50927067,
                    35061555,
                    130164645,
                    760507625,
                    3600,
                    50866635,
                    59891098,
                    23637265,
                    127509326,
                    2921738,
                    1305,
                    38405088,
                    5128124,
                    128985,
                    25514517,
                    119519402,
                    81001787,
                    16756372,
                    181655,
                    7002255,
                    54234062,
                    2892011,
                    115654751,
                    128078872,
                    8264530,
                    233632142,
                    25812,
                    28965197,
                    32481825,
                    267665011,
                    659325379,
                    12339633,
                    48323648,
                    4040691,
                    5887457,
                    9170214,
                    56505065,
                    32416586,
                    22954968,
                    183875760,
                    17266971,
                    2015810,
                    1999955,
                    57504069,
                    61276872,
                    52096475,
                    26830000,
                    118500000,
                    34603943,
                    59735548,
                    5923044,
                    70136369,
                    1436000,
                    61503218,
                    98467863,
                    45875171,
                    34700291,
                    238632124,
                    21500000,
                    2500000,
                    435110554,
                    106260000,
                    31800000,
                    4420000,
                    193817,
                    16056255,
                    42765000,
                    4000000,
                    44785053,
                    72000000,
                    102272727,
                    39100000,
                    2616000,
                    324591735,
                    33800859,
                    176040665,
                    220159104,
                    3358518,
                    3333000,
                    765127,
                    35893537,
                    128261724,
                    124872350,
                    6743776,
                    42340598,
                    2199675,
                    1122527,
                    259766572,
                    17654912,
                    189422889,
                    1339152,
                    56816662,
                    257760692,
                    274092705,
                    228778661,
                    96962694,
                    146408305,
                    277322503,
                    304360277,
                    132092958,
                    136025503,
                    32391374,
                    295983305,
                    15090400,
                    18593156,
                    881302,
                    35739802,
                    1752214,
                    25442958,
                    412544,
                    17605861,
                    33080084,
                    22494487,
                    1054361,
                    871577,
                    200821936,
                    4398392,
                    83043761,
                    53606916,
                    54580300,
                    17108591,
                    176241941,
                    1082715,
                    75331600,
                    44585453,
                    290013036,
                    77911774,
                    75286229,
                    111110575,
                    4890878,
                    4064200,
                    15539266,
                    40311852,
                    22245861,
                    108638745,
                    104454762,
                    141072,
                    21995263,
                    3029081,
                    183417150,
                    151086,
                    45512588,
                    52037603,
                    10824921,
                    76631907,
                    17105219,
                    22858926,
                    148478011,
                    63540020,
                    4065116,
                    41909762,
                    35811509,
                    56116183,
                    10019307,
                    21848932,
                    3151130,
                    6110979,
                    77324422,
                    27281507,
                    48169908,
                    75505856,
                    10725228,
                    141340178,
                    82418501,
                    6153939,
                    5080409,
                    156452370,
                    1544889,
                    43984230,
                    22238696,
                    7153487,
                    8551228,
                    10631333,
                    10600000,
                    54000000,
                    78912963,
                    47212904,
                    54800000,
                    83400000,
                    47000000,
                    1924733,
                    119500000,
                    29800000,
                    25000000,
                    7056013,
                    15630710,
                    35900000,
                    44527234,
                    28350000,
                    51081062,
                    11403529,
                    4905000,
                    536118,
                    76408097,
                    26020957,
                    142502728,
                    566356,
                    5904366,
                    24801212,
                    13122642,
                    845464,
                    389813101,
                    107825862,
                    18340051,
                    72313754,
                    608581744,
                    248757044,
                    46889293,
                    109767581,
                    1092800,
                    26862450,
                    37707719,
                    208545589,
                    4105123,
                    41003371,
                    19202743,
                    215288866,
                    171243005,
                    1008098,
                    251513985,
                    35014192,
                    48071303,
                    75605492,
                    3185812,
                    75590286,
                    209028679,
                    255959475,
                    9422422,
                    69951824,
                    17114882,
                    38634938,
                    88513495,
                    20300218,
                    10301706,
                    24633730,
                    39868642,
                    301959197,
                    210614939,
                    23089926,
                    107509799,
                    24149632,
                    56000369,
                    3081925,
                    697181,
                    548707,
                    6167817,
                    5739376,
                    16290476,
                    45289,
                    51680613,
                    13060843,
                    57938693,
                    45064915,
                    52364010,
                    13622333,
                    317575550,
                    96522687,
                    52990775,
                    51401758,
                    132072926,
                    50668906,
                    15070285,
                    7267585,
                    36400491,
                    120620254,
                    10680275,
                    14378331,
                    49100000,
                    3796699,
                    43182776,
                    100012499,
                    1037847,
                    71516617,
                    1464625,
                    40903593,
                    7993039,
                    52929168,
                    453243,
                    1794187,
                    285761243,
                    66666062,
                    92823600,
                    111543479,
                    78756177,
                    49530280,
                    65207127,
                    2150000,
                    119285432,
                    12465371,
                    22490039,
                    76657000,
                    43000000,
                    35000000,
                    132088635,
                    959000,
                    696690,
                    1378435,
                    141843612,
                    13780024,
                    30500000
                  ]
                }
              ],
              "layout": {
                "legend": {
                  "tracegroupgap": 0
                },
                "piecolorway": [
                  "rgb(5,48,97)",
                  "rgb(33,102,172)",
                  "rgb(67,147,195)",
                  "rgb(146,197,222)",
                  "rgb(209,229,240)",
                  "rgb(247,247,247)",
                  "rgb(253,219,199)",
                  "rgb(244,165,130)",
                  "rgb(214,96,77)",
                  "rgb(178,24,43)",
                  "rgb(103,0,31)"
                ],
                "template": {
                  "data": {
                    "bar": [
                      {
                        "error_x": {
                          "color": "#2a3f5f"
                        },
                        "error_y": {
                          "color": "#2a3f5f"
                        },
                        "marker": {
                          "line": {
                            "color": "#E5ECF6",
                            "width": 0.5
                          },
                          "pattern": {
                            "fillmode": "overlay",
                            "size": 10,
                            "solidity": 0.2
                          }
                        },
                        "type": "bar"
                      }
                    ],
                    "barpolar": [
                      {
                        "marker": {
                          "line": {
                            "color": "#E5ECF6",
                            "width": 0.5
                          },
                          "pattern": {
                            "fillmode": "overlay",
                            "size": 10,
                            "solidity": 0.2
                          }
                        },
                        "type": "barpolar"
                      }
                    ],
                    "carpet": [
                      {
                        "aaxis": {
                          "endlinecolor": "#2a3f5f",
                          "gridcolor": "white",
                          "linecolor": "white",
                          "minorgridcolor": "white",
                          "startlinecolor": "#2a3f5f"
                        },
                        "baxis": {
                          "endlinecolor": "#2a3f5f",
                          "gridcolor": "white",
                          "linecolor": "white",
                          "minorgridcolor": "white",
                          "startlinecolor": "#2a3f5f"
                        },
                        "type": "carpet"
                      }
                    ],
                    "choropleth": [
                      {
                        "colorbar": {
                          "outlinewidth": 0,
                          "ticks": ""
                        },
                        "type": "choropleth"
                      }
                    ],
                    "contour": [
                      {
                        "colorbar": {
                          "outlinewidth": 0,
                          "ticks": ""
                        },
                        "colorscale": [
                          [
                            0,
                            "#0d0887"
                          ],
                          [
                            0.1111111111111111,
                            "#46039f"
                          ],
                          [
                            0.2222222222222222,
                            "#7201a8"
                          ],
                          [
                            0.3333333333333333,
                            "#9c179e"
                          ],
                          [
                            0.4444444444444444,
                            "#bd3786"
                          ],
                          [
                            0.5555555555555556,
                            "#d8576b"
                          ],
                          [
                            0.6666666666666666,
                            "#ed7953"
                          ],
                          [
                            0.7777777777777778,
                            "#fb9f3a"
                          ],
                          [
                            0.8888888888888888,
                            "#fdca26"
                          ],
                          [
                            1,
                            "#f0f921"
                          ]
                        ],
                        "type": "contour"
                      }
                    ],
                    "contourcarpet": [
                      {
                        "colorbar": {
                          "outlinewidth": 0,
                          "ticks": ""
                        },
                        "type": "contourcarpet"
                      }
                    ],
                    "heatmap": [
                      {
                        "colorbar": {
                          "outlinewidth": 0,
                          "ticks": ""
                        },
                        "colorscale": [
                          [
                            0,
                            "#0d0887"
                          ],
                          [
                            0.1111111111111111,
                            "#46039f"
                          ],
                          [
                            0.2222222222222222,
                            "#7201a8"
                          ],
                          [
                            0.3333333333333333,
                            "#9c179e"
                          ],
                          [
                            0.4444444444444444,
                            "#bd3786"
                          ],
                          [
                            0.5555555555555556,
                            "#d8576b"
                          ],
                          [
                            0.6666666666666666,
                            "#ed7953"
                          ],
                          [
                            0.7777777777777778,
                            "#fb9f3a"
                          ],
                          [
                            0.8888888888888888,
                            "#fdca26"
                          ],
                          [
                            1,
                            "#f0f921"
                          ]
                        ],
                        "type": "heatmap"
                      }
                    ],
                    "heatmapgl": [
                      {
                        "colorbar": {
                          "outlinewidth": 0,
                          "ticks": ""
                        },
                        "colorscale": [
                          [
                            0,
                            "#0d0887"
                          ],
                          [
                            0.1111111111111111,
                            "#46039f"
                          ],
                          [
                            0.2222222222222222,
                            "#7201a8"
                          ],
                          [
                            0.3333333333333333,
                            "#9c179e"
                          ],
                          [
                            0.4444444444444444,
                            "#bd3786"
                          ],
                          [
                            0.5555555555555556,
                            "#d8576b"
                          ],
                          [
                            0.6666666666666666,
                            "#ed7953"
                          ],
                          [
                            0.7777777777777778,
                            "#fb9f3a"
                          ],
                          [
                            0.8888888888888888,
                            "#fdca26"
                          ],
                          [
                            1,
                            "#f0f921"
                          ]
                        ],
                        "type": "heatmapgl"
                      }
                    ],
                    "histogram": [
                      {
                        "marker": {
                          "pattern": {
                            "fillmode": "overlay",
                            "size": 10,
                            "solidity": 0.2
                          }
                        },
                        "type": "histogram"
                      }
                    ],
                    "histogram2d": [
                      {
                        "colorbar": {
                          "outlinewidth": 0,
                          "ticks": ""
                        },
                        "colorscale": [
                          [
                            0,
                            "#0d0887"
                          ],
                          [
                            0.1111111111111111,
                            "#46039f"
                          ],
                          [
                            0.2222222222222222,
                            "#7201a8"
                          ],
                          [
                            0.3333333333333333,
                            "#9c179e"
                          ],
                          [
                            0.4444444444444444,
                            "#bd3786"
                          ],
                          [
                            0.5555555555555556,
                            "#d8576b"
                          ],
                          [
                            0.6666666666666666,
                            "#ed7953"
                          ],
                          [
                            0.7777777777777778,
                            "#fb9f3a"
                          ],
                          [
                            0.8888888888888888,
                            "#fdca26"
                          ],
                          [
                            1,
                            "#f0f921"
                          ]
                        ],
                        "type": "histogram2d"
                      }
                    ],
                    "histogram2dcontour": [
                      {
                        "colorbar": {
                          "outlinewidth": 0,
                          "ticks": ""
                        },
                        "colorscale": [
                          [
                            0,
                            "#0d0887"
                          ],
                          [
                            0.1111111111111111,
                            "#46039f"
                          ],
                          [
                            0.2222222222222222,
                            "#7201a8"
                          ],
                          [
                            0.3333333333333333,
                            "#9c179e"
                          ],
                          [
                            0.4444444444444444,
                            "#bd3786"
                          ],
                          [
                            0.5555555555555556,
                            "#d8576b"
                          ],
                          [
                            0.6666666666666666,
                            "#ed7953"
                          ],
                          [
                            0.7777777777777778,
                            "#fb9f3a"
                          ],
                          [
                            0.8888888888888888,
                            "#fdca26"
                          ],
                          [
                            1,
                            "#f0f921"
                          ]
                        ],
                        "type": "histogram2dcontour"
                      }
                    ],
                    "mesh3d": [
                      {
                        "colorbar": {
                          "outlinewidth": 0,
                          "ticks": ""
                        },
                        "type": "mesh3d"
                      }
                    ],
                    "parcoords": [
                      {
                        "line": {
                          "colorbar": {
                            "outlinewidth": 0,
                            "ticks": ""
                          }
                        },
                        "type": "parcoords"
                      }
                    ],
                    "pie": [
                      {
                        "automargin": true,
                        "type": "pie"
                      }
                    ],
                    "scatter": [
                      {
                        "fillpattern": {
                          "fillmode": "overlay",
                          "size": 10,
                          "solidity": 0.2
                        },
                        "type": "scatter"
                      }
                    ],
                    "scatter3d": [
                      {
                        "line": {
                          "colorbar": {
                            "outlinewidth": 0,
                            "ticks": ""
                          }
                        },
                        "marker": {
                          "colorbar": {
                            "outlinewidth": 0,
                            "ticks": ""
                          }
                        },
                        "type": "scatter3d"
                      }
                    ],
                    "scattercarpet": [
                      {
                        "marker": {
                          "colorbar": {
                            "outlinewidth": 0,
                            "ticks": ""
                          }
                        },
                        "type": "scattercarpet"
                      }
                    ],
                    "scattergeo": [
                      {
                        "marker": {
                          "colorbar": {
                            "outlinewidth": 0,
                            "ticks": ""
                          }
                        },
                        "type": "scattergeo"
                      }
                    ],
                    "scattergl": [
                      {
                        "marker": {
                          "colorbar": {
                            "outlinewidth": 0,
                            "ticks": ""
                          }
                        },
                        "type": "scattergl"
                      }
                    ],
                    "scattermapbox": [
                      {
                        "marker": {
                          "colorbar": {
                            "outlinewidth": 0,
                            "ticks": ""
                          }
                        },
                        "type": "scattermapbox"
                      }
                    ],
                    "scatterpolar": [
                      {
                        "marker": {
                          "colorbar": {
                            "outlinewidth": 0,
                            "ticks": ""
                          }
                        },
                        "type": "scatterpolar"
                      }
                    ],
                    "scatterpolargl": [
                      {
                        "marker": {
                          "colorbar": {
                            "outlinewidth": 0,
                            "ticks": ""
                          }
                        },
                        "type": "scatterpolargl"
                      }
                    ],
                    "scatterternary": [
                      {
                        "marker": {
                          "colorbar": {
                            "outlinewidth": 0,
                            "ticks": ""
                          }
                        },
                        "type": "scatterternary"
                      }
                    ],
                    "surface": [
                      {
                        "colorbar": {
                          "outlinewidth": 0,
                          "ticks": ""
                        },
                        "colorscale": [
                          [
                            0,
                            "#0d0887"
                          ],
                          [
                            0.1111111111111111,
                            "#46039f"
                          ],
                          [
                            0.2222222222222222,
                            "#7201a8"
                          ],
                          [
                            0.3333333333333333,
                            "#9c179e"
                          ],
                          [
                            0.4444444444444444,
                            "#bd3786"
                          ],
                          [
                            0.5555555555555556,
                            "#d8576b"
                          ],
                          [
                            0.6666666666666666,
                            "#ed7953"
                          ],
                          [
                            0.7777777777777778,
                            "#fb9f3a"
                          ],
                          [
                            0.8888888888888888,
                            "#fdca26"
                          ],
                          [
                            1,
                            "#f0f921"
                          ]
                        ],
                        "type": "surface"
                      }
                    ],
                    "table": [
                      {
                        "cells": {
                          "fill": {
                            "color": "#EBF0F8"
                          },
                          "line": {
                            "color": "white"
                          }
                        },
                        "header": {
                          "fill": {
                            "color": "#C8D4E3"
                          },
                          "line": {
                            "color": "white"
                          }
                        },
                        "type": "table"
                      }
                    ]
                  },
                  "layout": {
                    "annotationdefaults": {
                      "arrowcolor": "#2a3f5f",
                      "arrowhead": 0,
                      "arrowwidth": 1
                    },
                    "autotypenumbers": "strict",
                    "coloraxis": {
                      "colorbar": {
                        "outlinewidth": 0,
                        "ticks": ""
                      }
                    },
                    "colorscale": {
                      "diverging": [
                        [
                          0,
                          "#8e0152"
                        ],
                        [
                          0.1,
                          "#c51b7d"
                        ],
                        [
                          0.2,
                          "#de77ae"
                        ],
                        [
                          0.3,
                          "#f1b6da"
                        ],
                        [
                          0.4,
                          "#fde0ef"
                        ],
                        [
                          0.5,
                          "#f7f7f7"
                        ],
                        [
                          0.6,
                          "#e6f5d0"
                        ],
                        [
                          0.7,
                          "#b8e186"
                        ],
                        [
                          0.8,
                          "#7fbc41"
                        ],
                        [
                          0.9,
                          "#4d9221"
                        ],
                        [
                          1,
                          "#276419"
                        ]
                      ],
                      "sequential": [
                        [
                          0,
                          "#0d0887"
                        ],
                        [
                          0.1111111111111111,
                          "#46039f"
                        ],
                        [
                          0.2222222222222222,
                          "#7201a8"
                        ],
                        [
                          0.3333333333333333,
                          "#9c179e"
                        ],
                        [
                          0.4444444444444444,
                          "#bd3786"
                        ],
                        [
                          0.5555555555555556,
                          "#d8576b"
                        ],
                        [
                          0.6666666666666666,
                          "#ed7953"
                        ],
                        [
                          0.7777777777777778,
                          "#fb9f3a"
                        ],
                        [
                          0.8888888888888888,
                          "#fdca26"
                        ],
                        [
                          1,
                          "#f0f921"
                        ]
                      ],
                      "sequentialminus": [
                        [
                          0,
                          "#0d0887"
                        ],
                        [
                          0.1111111111111111,
                          "#46039f"
                        ],
                        [
                          0.2222222222222222,
                          "#7201a8"
                        ],
                        [
                          0.3333333333333333,
                          "#9c179e"
                        ],
                        [
                          0.4444444444444444,
                          "#bd3786"
                        ],
                        [
                          0.5555555555555556,
                          "#d8576b"
                        ],
                        [
                          0.6666666666666666,
                          "#ed7953"
                        ],
                        [
                          0.7777777777777778,
                          "#fb9f3a"
                        ],
                        [
                          0.8888888888888888,
                          "#fdca26"
                        ],
                        [
                          1,
                          "#f0f921"
                        ]
                      ]
                    },
                    "colorway": [
                      "#636efa",
                      "#EF553B",
                      "#00cc96",
                      "#ab63fa",
                      "#FFA15A",
                      "#19d3f3",
                      "#FF6692",
                      "#B6E880",
                      "#FF97FF",
                      "#FECB52"
                    ],
                    "font": {
                      "color": "#2a3f5f"
                    },
                    "geo": {
                      "bgcolor": "white",
                      "lakecolor": "white",
                      "landcolor": "#E5ECF6",
                      "showlakes": true,
                      "showland": true,
                      "subunitcolor": "white"
                    },
                    "hoverlabel": {
                      "align": "left"
                    },
                    "hovermode": "closest",
                    "mapbox": {
                      "style": "light"
                    },
                    "paper_bgcolor": "white",
                    "plot_bgcolor": "#E5ECF6",
                    "polar": {
                      "angularaxis": {
                        "gridcolor": "white",
                        "linecolor": "white",
                        "ticks": ""
                      },
                      "bgcolor": "#E5ECF6",
                      "radialaxis": {
                        "gridcolor": "white",
                        "linecolor": "white",
                        "ticks": ""
                      }
                    },
                    "scene": {
                      "xaxis": {
                        "backgroundcolor": "#E5ECF6",
                        "gridcolor": "white",
                        "gridwidth": 2,
                        "linecolor": "white",
                        "showbackground": true,
                        "ticks": "",
                        "zerolinecolor": "white"
                      },
                      "yaxis": {
                        "backgroundcolor": "#E5ECF6",
                        "gridcolor": "white",
                        "gridwidth": 2,
                        "linecolor": "white",
                        "showbackground": true,
                        "ticks": "",
                        "zerolinecolor": "white"
                      },
                      "zaxis": {
                        "backgroundcolor": "#E5ECF6",
                        "gridcolor": "white",
                        "gridwidth": 2,
                        "linecolor": "white",
                        "showbackground": true,
                        "ticks": "",
                        "zerolinecolor": "white"
                      }
                    },
                    "shapedefaults": {
                      "line": {
                        "color": "#2a3f5f"
                      }
                    },
                    "ternary": {
                      "aaxis": {
                        "gridcolor": "white",
                        "linecolor": "white",
                        "ticks": ""
                      },
                      "baxis": {
                        "gridcolor": "white",
                        "linecolor": "white",
                        "ticks": ""
                      },
                      "bgcolor": "#E5ECF6",
                      "caxis": {
                        "gridcolor": "white",
                        "linecolor": "white",
                        "ticks": ""
                      }
                    },
                    "title": {
                      "x": 0.05
                    },
                    "xaxis": {
                      "automargin": true,
                      "gridcolor": "white",
                      "linecolor": "white",
                      "ticks": "",
                      "title": {
                        "standoff": 15
                      },
                      "zerolinecolor": "white",
                      "zerolinewidth": 2
                    },
                    "yaxis": {
                      "automargin": true,
                      "gridcolor": "white",
                      "linecolor": "white",
                      "ticks": "",
                      "title": {
                        "standoff": 15
                      },
                      "zerolinecolor": "white",
                      "zerolinewidth": 2
                    }
                  }
                },
                "title": {
                  "text": "gross value"
                }
              }
            }
          },
          "metadata": {},
          "output_type": "display_data"
        }
      ],
      "source": [
        "px.pie(new_movie,values='Gross',names='Certificate',title='gross value',color_discrete_sequence=px.colors.sequential.RdBu_r)"
      ]
    },
    {
      "cell_type": "markdown",
      "metadata": {},
      "source": [
        "                                     Sum of Gross value vs certificate\n",
        "\n",
        " Analysis:\n",
        " 1. Certificate does affect how much gross collection movie collected. \n",
        " 2. UA(38.1%),U(30.7%),A(20.6%) have high gross value colletion as compared to others.\n",
        " 3. As certificate affects the reach of movie or No. of audience has thus affecting the gross collection.\n"
      ]
    },
    {
      "cell_type": "code",
      "execution_count": 126,
      "metadata": {},
      "outputs": [
        {
          "data": {
            "application/vnd.plotly.v1+json": {
              "config": {
                "plotlyServerURL": "https://plot.ly"
              },
              "data": [
                {
                  "alignmentgroup": "True",
                  "hovertemplate": "Certificate=%{x}<br>Meta_score=%{y}<extra></extra>",
                  "legendgroup": "",
                  "marker": {
                    "color": "#636efa",
                    "pattern": {
                      "shape": ""
                    }
                  },
                  "name": "",
                  "offsetgroup": "",
                  "orientation": "v",
                  "showlegend": false,
                  "textposition": "auto",
                  "type": "bar",
                  "x": [
                    "GP",
                    "U/A",
                    "R",
                    "PG-13",
                    "UA",
                    "A",
                    "U",
                    "PG",
                    "Approved",
                    "G",
                    "TV-PG",
                    "Passed"
                  ],
                  "xaxis": "x",
                  "y": [
                    50,
                    71,
                    74.33587786259542,
                    75,
                    75.16197183098592,
                    78.01149425287356,
                    78.76373626373626,
                    81.42105263157895,
                    84.83333333333333,
                    86.33333333333333,
                    87,
                    89.22222222222223
                  ],
                  "yaxis": "y"
                }
              ],
              "layout": {
                "barmode": "relative",
                "legend": {
                  "tracegroupgap": 0
                },
                "margin": {
                  "t": 60
                },
                "template": {
                  "data": {
                    "bar": [
                      {
                        "error_x": {
                          "color": "#2a3f5f"
                        },
                        "error_y": {
                          "color": "#2a3f5f"
                        },
                        "marker": {
                          "line": {
                            "color": "#E5ECF6",
                            "width": 0.5
                          },
                          "pattern": {
                            "fillmode": "overlay",
                            "size": 10,
                            "solidity": 0.2
                          }
                        },
                        "type": "bar"
                      }
                    ],
                    "barpolar": [
                      {
                        "marker": {
                          "line": {
                            "color": "#E5ECF6",
                            "width": 0.5
                          },
                          "pattern": {
                            "fillmode": "overlay",
                            "size": 10,
                            "solidity": 0.2
                          }
                        },
                        "type": "barpolar"
                      }
                    ],
                    "carpet": [
                      {
                        "aaxis": {
                          "endlinecolor": "#2a3f5f",
                          "gridcolor": "white",
                          "linecolor": "white",
                          "minorgridcolor": "white",
                          "startlinecolor": "#2a3f5f"
                        },
                        "baxis": {
                          "endlinecolor": "#2a3f5f",
                          "gridcolor": "white",
                          "linecolor": "white",
                          "minorgridcolor": "white",
                          "startlinecolor": "#2a3f5f"
                        },
                        "type": "carpet"
                      }
                    ],
                    "choropleth": [
                      {
                        "colorbar": {
                          "outlinewidth": 0,
                          "ticks": ""
                        },
                        "type": "choropleth"
                      }
                    ],
                    "contour": [
                      {
                        "colorbar": {
                          "outlinewidth": 0,
                          "ticks": ""
                        },
                        "colorscale": [
                          [
                            0,
                            "#0d0887"
                          ],
                          [
                            0.1111111111111111,
                            "#46039f"
                          ],
                          [
                            0.2222222222222222,
                            "#7201a8"
                          ],
                          [
                            0.3333333333333333,
                            "#9c179e"
                          ],
                          [
                            0.4444444444444444,
                            "#bd3786"
                          ],
                          [
                            0.5555555555555556,
                            "#d8576b"
                          ],
                          [
                            0.6666666666666666,
                            "#ed7953"
                          ],
                          [
                            0.7777777777777778,
                            "#fb9f3a"
                          ],
                          [
                            0.8888888888888888,
                            "#fdca26"
                          ],
                          [
                            1,
                            "#f0f921"
                          ]
                        ],
                        "type": "contour"
                      }
                    ],
                    "contourcarpet": [
                      {
                        "colorbar": {
                          "outlinewidth": 0,
                          "ticks": ""
                        },
                        "type": "contourcarpet"
                      }
                    ],
                    "heatmap": [
                      {
                        "colorbar": {
                          "outlinewidth": 0,
                          "ticks": ""
                        },
                        "colorscale": [
                          [
                            0,
                            "#0d0887"
                          ],
                          [
                            0.1111111111111111,
                            "#46039f"
                          ],
                          [
                            0.2222222222222222,
                            "#7201a8"
                          ],
                          [
                            0.3333333333333333,
                            "#9c179e"
                          ],
                          [
                            0.4444444444444444,
                            "#bd3786"
                          ],
                          [
                            0.5555555555555556,
                            "#d8576b"
                          ],
                          [
                            0.6666666666666666,
                            "#ed7953"
                          ],
                          [
                            0.7777777777777778,
                            "#fb9f3a"
                          ],
                          [
                            0.8888888888888888,
                            "#fdca26"
                          ],
                          [
                            1,
                            "#f0f921"
                          ]
                        ],
                        "type": "heatmap"
                      }
                    ],
                    "heatmapgl": [
                      {
                        "colorbar": {
                          "outlinewidth": 0,
                          "ticks": ""
                        },
                        "colorscale": [
                          [
                            0,
                            "#0d0887"
                          ],
                          [
                            0.1111111111111111,
                            "#46039f"
                          ],
                          [
                            0.2222222222222222,
                            "#7201a8"
                          ],
                          [
                            0.3333333333333333,
                            "#9c179e"
                          ],
                          [
                            0.4444444444444444,
                            "#bd3786"
                          ],
                          [
                            0.5555555555555556,
                            "#d8576b"
                          ],
                          [
                            0.6666666666666666,
                            "#ed7953"
                          ],
                          [
                            0.7777777777777778,
                            "#fb9f3a"
                          ],
                          [
                            0.8888888888888888,
                            "#fdca26"
                          ],
                          [
                            1,
                            "#f0f921"
                          ]
                        ],
                        "type": "heatmapgl"
                      }
                    ],
                    "histogram": [
                      {
                        "marker": {
                          "pattern": {
                            "fillmode": "overlay",
                            "size": 10,
                            "solidity": 0.2
                          }
                        },
                        "type": "histogram"
                      }
                    ],
                    "histogram2d": [
                      {
                        "colorbar": {
                          "outlinewidth": 0,
                          "ticks": ""
                        },
                        "colorscale": [
                          [
                            0,
                            "#0d0887"
                          ],
                          [
                            0.1111111111111111,
                            "#46039f"
                          ],
                          [
                            0.2222222222222222,
                            "#7201a8"
                          ],
                          [
                            0.3333333333333333,
                            "#9c179e"
                          ],
                          [
                            0.4444444444444444,
                            "#bd3786"
                          ],
                          [
                            0.5555555555555556,
                            "#d8576b"
                          ],
                          [
                            0.6666666666666666,
                            "#ed7953"
                          ],
                          [
                            0.7777777777777778,
                            "#fb9f3a"
                          ],
                          [
                            0.8888888888888888,
                            "#fdca26"
                          ],
                          [
                            1,
                            "#f0f921"
                          ]
                        ],
                        "type": "histogram2d"
                      }
                    ],
                    "histogram2dcontour": [
                      {
                        "colorbar": {
                          "outlinewidth": 0,
                          "ticks": ""
                        },
                        "colorscale": [
                          [
                            0,
                            "#0d0887"
                          ],
                          [
                            0.1111111111111111,
                            "#46039f"
                          ],
                          [
                            0.2222222222222222,
                            "#7201a8"
                          ],
                          [
                            0.3333333333333333,
                            "#9c179e"
                          ],
                          [
                            0.4444444444444444,
                            "#bd3786"
                          ],
                          [
                            0.5555555555555556,
                            "#d8576b"
                          ],
                          [
                            0.6666666666666666,
                            "#ed7953"
                          ],
                          [
                            0.7777777777777778,
                            "#fb9f3a"
                          ],
                          [
                            0.8888888888888888,
                            "#fdca26"
                          ],
                          [
                            1,
                            "#f0f921"
                          ]
                        ],
                        "type": "histogram2dcontour"
                      }
                    ],
                    "mesh3d": [
                      {
                        "colorbar": {
                          "outlinewidth": 0,
                          "ticks": ""
                        },
                        "type": "mesh3d"
                      }
                    ],
                    "parcoords": [
                      {
                        "line": {
                          "colorbar": {
                            "outlinewidth": 0,
                            "ticks": ""
                          }
                        },
                        "type": "parcoords"
                      }
                    ],
                    "pie": [
                      {
                        "automargin": true,
                        "type": "pie"
                      }
                    ],
                    "scatter": [
                      {
                        "fillpattern": {
                          "fillmode": "overlay",
                          "size": 10,
                          "solidity": 0.2
                        },
                        "type": "scatter"
                      }
                    ],
                    "scatter3d": [
                      {
                        "line": {
                          "colorbar": {
                            "outlinewidth": 0,
                            "ticks": ""
                          }
                        },
                        "marker": {
                          "colorbar": {
                            "outlinewidth": 0,
                            "ticks": ""
                          }
                        },
                        "type": "scatter3d"
                      }
                    ],
                    "scattercarpet": [
                      {
                        "marker": {
                          "colorbar": {
                            "outlinewidth": 0,
                            "ticks": ""
                          }
                        },
                        "type": "scattercarpet"
                      }
                    ],
                    "scattergeo": [
                      {
                        "marker": {
                          "colorbar": {
                            "outlinewidth": 0,
                            "ticks": ""
                          }
                        },
                        "type": "scattergeo"
                      }
                    ],
                    "scattergl": [
                      {
                        "marker": {
                          "colorbar": {
                            "outlinewidth": 0,
                            "ticks": ""
                          }
                        },
                        "type": "scattergl"
                      }
                    ],
                    "scattermapbox": [
                      {
                        "marker": {
                          "colorbar": {
                            "outlinewidth": 0,
                            "ticks": ""
                          }
                        },
                        "type": "scattermapbox"
                      }
                    ],
                    "scatterpolar": [
                      {
                        "marker": {
                          "colorbar": {
                            "outlinewidth": 0,
                            "ticks": ""
                          }
                        },
                        "type": "scatterpolar"
                      }
                    ],
                    "scatterpolargl": [
                      {
                        "marker": {
                          "colorbar": {
                            "outlinewidth": 0,
                            "ticks": ""
                          }
                        },
                        "type": "scatterpolargl"
                      }
                    ],
                    "scatterternary": [
                      {
                        "marker": {
                          "colorbar": {
                            "outlinewidth": 0,
                            "ticks": ""
                          }
                        },
                        "type": "scatterternary"
                      }
                    ],
                    "surface": [
                      {
                        "colorbar": {
                          "outlinewidth": 0,
                          "ticks": ""
                        },
                        "colorscale": [
                          [
                            0,
                            "#0d0887"
                          ],
                          [
                            0.1111111111111111,
                            "#46039f"
                          ],
                          [
                            0.2222222222222222,
                            "#7201a8"
                          ],
                          [
                            0.3333333333333333,
                            "#9c179e"
                          ],
                          [
                            0.4444444444444444,
                            "#bd3786"
                          ],
                          [
                            0.5555555555555556,
                            "#d8576b"
                          ],
                          [
                            0.6666666666666666,
                            "#ed7953"
                          ],
                          [
                            0.7777777777777778,
                            "#fb9f3a"
                          ],
                          [
                            0.8888888888888888,
                            "#fdca26"
                          ],
                          [
                            1,
                            "#f0f921"
                          ]
                        ],
                        "type": "surface"
                      }
                    ],
                    "table": [
                      {
                        "cells": {
                          "fill": {
                            "color": "#EBF0F8"
                          },
                          "line": {
                            "color": "white"
                          }
                        },
                        "header": {
                          "fill": {
                            "color": "#C8D4E3"
                          },
                          "line": {
                            "color": "white"
                          }
                        },
                        "type": "table"
                      }
                    ]
                  },
                  "layout": {
                    "annotationdefaults": {
                      "arrowcolor": "#2a3f5f",
                      "arrowhead": 0,
                      "arrowwidth": 1
                    },
                    "autotypenumbers": "strict",
                    "coloraxis": {
                      "colorbar": {
                        "outlinewidth": 0,
                        "ticks": ""
                      }
                    },
                    "colorscale": {
                      "diverging": [
                        [
                          0,
                          "#8e0152"
                        ],
                        [
                          0.1,
                          "#c51b7d"
                        ],
                        [
                          0.2,
                          "#de77ae"
                        ],
                        [
                          0.3,
                          "#f1b6da"
                        ],
                        [
                          0.4,
                          "#fde0ef"
                        ],
                        [
                          0.5,
                          "#f7f7f7"
                        ],
                        [
                          0.6,
                          "#e6f5d0"
                        ],
                        [
                          0.7,
                          "#b8e186"
                        ],
                        [
                          0.8,
                          "#7fbc41"
                        ],
                        [
                          0.9,
                          "#4d9221"
                        ],
                        [
                          1,
                          "#276419"
                        ]
                      ],
                      "sequential": [
                        [
                          0,
                          "#0d0887"
                        ],
                        [
                          0.1111111111111111,
                          "#46039f"
                        ],
                        [
                          0.2222222222222222,
                          "#7201a8"
                        ],
                        [
                          0.3333333333333333,
                          "#9c179e"
                        ],
                        [
                          0.4444444444444444,
                          "#bd3786"
                        ],
                        [
                          0.5555555555555556,
                          "#d8576b"
                        ],
                        [
                          0.6666666666666666,
                          "#ed7953"
                        ],
                        [
                          0.7777777777777778,
                          "#fb9f3a"
                        ],
                        [
                          0.8888888888888888,
                          "#fdca26"
                        ],
                        [
                          1,
                          "#f0f921"
                        ]
                      ],
                      "sequentialminus": [
                        [
                          0,
                          "#0d0887"
                        ],
                        [
                          0.1111111111111111,
                          "#46039f"
                        ],
                        [
                          0.2222222222222222,
                          "#7201a8"
                        ],
                        [
                          0.3333333333333333,
                          "#9c179e"
                        ],
                        [
                          0.4444444444444444,
                          "#bd3786"
                        ],
                        [
                          0.5555555555555556,
                          "#d8576b"
                        ],
                        [
                          0.6666666666666666,
                          "#ed7953"
                        ],
                        [
                          0.7777777777777778,
                          "#fb9f3a"
                        ],
                        [
                          0.8888888888888888,
                          "#fdca26"
                        ],
                        [
                          1,
                          "#f0f921"
                        ]
                      ]
                    },
                    "colorway": [
                      "#636efa",
                      "#EF553B",
                      "#00cc96",
                      "#ab63fa",
                      "#FFA15A",
                      "#19d3f3",
                      "#FF6692",
                      "#B6E880",
                      "#FF97FF",
                      "#FECB52"
                    ],
                    "font": {
                      "color": "#2a3f5f"
                    },
                    "geo": {
                      "bgcolor": "white",
                      "lakecolor": "white",
                      "landcolor": "#E5ECF6",
                      "showlakes": true,
                      "showland": true,
                      "subunitcolor": "white"
                    },
                    "hoverlabel": {
                      "align": "left"
                    },
                    "hovermode": "closest",
                    "mapbox": {
                      "style": "light"
                    },
                    "paper_bgcolor": "white",
                    "plot_bgcolor": "#E5ECF6",
                    "polar": {
                      "angularaxis": {
                        "gridcolor": "white",
                        "linecolor": "white",
                        "ticks": ""
                      },
                      "bgcolor": "#E5ECF6",
                      "radialaxis": {
                        "gridcolor": "white",
                        "linecolor": "white",
                        "ticks": ""
                      }
                    },
                    "scene": {
                      "xaxis": {
                        "backgroundcolor": "#E5ECF6",
                        "gridcolor": "white",
                        "gridwidth": 2,
                        "linecolor": "white",
                        "showbackground": true,
                        "ticks": "",
                        "zerolinecolor": "white"
                      },
                      "yaxis": {
                        "backgroundcolor": "#E5ECF6",
                        "gridcolor": "white",
                        "gridwidth": 2,
                        "linecolor": "white",
                        "showbackground": true,
                        "ticks": "",
                        "zerolinecolor": "white"
                      },
                      "zaxis": {
                        "backgroundcolor": "#E5ECF6",
                        "gridcolor": "white",
                        "gridwidth": 2,
                        "linecolor": "white",
                        "showbackground": true,
                        "ticks": "",
                        "zerolinecolor": "white"
                      }
                    },
                    "shapedefaults": {
                      "line": {
                        "color": "#2a3f5f"
                      }
                    },
                    "ternary": {
                      "aaxis": {
                        "gridcolor": "white",
                        "linecolor": "white",
                        "ticks": ""
                      },
                      "baxis": {
                        "gridcolor": "white",
                        "linecolor": "white",
                        "ticks": ""
                      },
                      "bgcolor": "#E5ECF6",
                      "caxis": {
                        "gridcolor": "white",
                        "linecolor": "white",
                        "ticks": ""
                      }
                    },
                    "title": {
                      "x": 0.05
                    },
                    "xaxis": {
                      "automargin": true,
                      "gridcolor": "white",
                      "linecolor": "white",
                      "ticks": "",
                      "title": {
                        "standoff": 15
                      },
                      "zerolinecolor": "white",
                      "zerolinewidth": 2
                    },
                    "yaxis": {
                      "automargin": true,
                      "gridcolor": "white",
                      "linecolor": "white",
                      "ticks": "",
                      "title": {
                        "standoff": 15
                      },
                      "zerolinecolor": "white",
                      "zerolinewidth": 2
                    }
                  }
                },
                "xaxis": {
                  "anchor": "y",
                  "domain": [
                    0,
                    1
                  ],
                  "title": {
                    "text": "Certificate"
                  }
                },
                "yaxis": {
                  "anchor": "x",
                  "domain": [
                    0,
                    1
                  ],
                  "title": {
                    "text": "Meta_score"
                  }
                }
              }
            }
          },
          "metadata": {},
          "output_type": "display_data"
        }
      ],
      "source": [
        "\n",
        "px.bar(new_movie.groupby('Certificate').Meta_score.mean().sort_values().reset_index(),y='Meta_score',x='Certificate')\n"
      ]
    },
    {
      "cell_type": "markdown",
      "metadata": {},
      "source": [
        "                                Average Meta Score vs Certifcate\n",
        "\n",
        "Analysis:\n",
        "1. This shows that Certificate does not affect Meta_score that much.\n",
        "2. Meta score is a weighted average of reviews from top critics and publications for a given movie from 1 to 100.\n",
        "3. This graph shows that top critics reviews does get affect by 'Certificate' of the movie.\n"
      ]
    },
    {
      "cell_type": "code",
      "execution_count": 172,
      "metadata": {},
      "outputs": [
        {
          "data": {
            "application/vnd.plotly.v1+json": {
              "config": {
                "plotlyServerURL": "https://plot.ly"
              },
              "data": [
                {
                  "alignmentgroup": "True",
                  "hovertemplate": "Certificate=%{x}<br>IMDB_Rating=%{y}<extra></extra>",
                  "legendgroup": "",
                  "marker": {
                    "color": "#636efa",
                    "pattern": {
                      "shape": ""
                    }
                  },
                  "name": "",
                  "offsetgroup": "",
                  "orientation": "v",
                  "showlegend": false,
                  "textposition": "auto",
                  "type": "bar",
                  "x": [
                    "GP",
                    "U/A",
                    "PG-13",
                    "R",
                    "PG",
                    "UA",
                    "U",
                    "TV-PG",
                    "A",
                    "Approved",
                    "G",
                    "Passed"
                  ],
                  "xaxis": "x",
                  "y": [
                    7.6,
                    7.6,
                    7.78421052631579,
                    7.866412213740458,
                    7.905263157894736,
                    7.929577464788732,
                    7.960989010989011,
                    8,
                    8.001149425287357,
                    8.016666666666667,
                    8.022222222222222,
                    8.044444444444444
                  ],
                  "yaxis": "y"
                }
              ],
              "layout": {
                "barmode": "relative",
                "legend": {
                  "tracegroupgap": 0
                },
                "margin": {
                  "t": 60
                },
                "template": {
                  "data": {
                    "bar": [
                      {
                        "error_x": {
                          "color": "#2a3f5f"
                        },
                        "error_y": {
                          "color": "#2a3f5f"
                        },
                        "marker": {
                          "line": {
                            "color": "#E5ECF6",
                            "width": 0.5
                          },
                          "pattern": {
                            "fillmode": "overlay",
                            "size": 10,
                            "solidity": 0.2
                          }
                        },
                        "type": "bar"
                      }
                    ],
                    "barpolar": [
                      {
                        "marker": {
                          "line": {
                            "color": "#E5ECF6",
                            "width": 0.5
                          },
                          "pattern": {
                            "fillmode": "overlay",
                            "size": 10,
                            "solidity": 0.2
                          }
                        },
                        "type": "barpolar"
                      }
                    ],
                    "carpet": [
                      {
                        "aaxis": {
                          "endlinecolor": "#2a3f5f",
                          "gridcolor": "white",
                          "linecolor": "white",
                          "minorgridcolor": "white",
                          "startlinecolor": "#2a3f5f"
                        },
                        "baxis": {
                          "endlinecolor": "#2a3f5f",
                          "gridcolor": "white",
                          "linecolor": "white",
                          "minorgridcolor": "white",
                          "startlinecolor": "#2a3f5f"
                        },
                        "type": "carpet"
                      }
                    ],
                    "choropleth": [
                      {
                        "colorbar": {
                          "outlinewidth": 0,
                          "ticks": ""
                        },
                        "type": "choropleth"
                      }
                    ],
                    "contour": [
                      {
                        "colorbar": {
                          "outlinewidth": 0,
                          "ticks": ""
                        },
                        "colorscale": [
                          [
                            0,
                            "#0d0887"
                          ],
                          [
                            0.1111111111111111,
                            "#46039f"
                          ],
                          [
                            0.2222222222222222,
                            "#7201a8"
                          ],
                          [
                            0.3333333333333333,
                            "#9c179e"
                          ],
                          [
                            0.4444444444444444,
                            "#bd3786"
                          ],
                          [
                            0.5555555555555556,
                            "#d8576b"
                          ],
                          [
                            0.6666666666666666,
                            "#ed7953"
                          ],
                          [
                            0.7777777777777778,
                            "#fb9f3a"
                          ],
                          [
                            0.8888888888888888,
                            "#fdca26"
                          ],
                          [
                            1,
                            "#f0f921"
                          ]
                        ],
                        "type": "contour"
                      }
                    ],
                    "contourcarpet": [
                      {
                        "colorbar": {
                          "outlinewidth": 0,
                          "ticks": ""
                        },
                        "type": "contourcarpet"
                      }
                    ],
                    "heatmap": [
                      {
                        "colorbar": {
                          "outlinewidth": 0,
                          "ticks": ""
                        },
                        "colorscale": [
                          [
                            0,
                            "#0d0887"
                          ],
                          [
                            0.1111111111111111,
                            "#46039f"
                          ],
                          [
                            0.2222222222222222,
                            "#7201a8"
                          ],
                          [
                            0.3333333333333333,
                            "#9c179e"
                          ],
                          [
                            0.4444444444444444,
                            "#bd3786"
                          ],
                          [
                            0.5555555555555556,
                            "#d8576b"
                          ],
                          [
                            0.6666666666666666,
                            "#ed7953"
                          ],
                          [
                            0.7777777777777778,
                            "#fb9f3a"
                          ],
                          [
                            0.8888888888888888,
                            "#fdca26"
                          ],
                          [
                            1,
                            "#f0f921"
                          ]
                        ],
                        "type": "heatmap"
                      }
                    ],
                    "heatmapgl": [
                      {
                        "colorbar": {
                          "outlinewidth": 0,
                          "ticks": ""
                        },
                        "colorscale": [
                          [
                            0,
                            "#0d0887"
                          ],
                          [
                            0.1111111111111111,
                            "#46039f"
                          ],
                          [
                            0.2222222222222222,
                            "#7201a8"
                          ],
                          [
                            0.3333333333333333,
                            "#9c179e"
                          ],
                          [
                            0.4444444444444444,
                            "#bd3786"
                          ],
                          [
                            0.5555555555555556,
                            "#d8576b"
                          ],
                          [
                            0.6666666666666666,
                            "#ed7953"
                          ],
                          [
                            0.7777777777777778,
                            "#fb9f3a"
                          ],
                          [
                            0.8888888888888888,
                            "#fdca26"
                          ],
                          [
                            1,
                            "#f0f921"
                          ]
                        ],
                        "type": "heatmapgl"
                      }
                    ],
                    "histogram": [
                      {
                        "marker": {
                          "pattern": {
                            "fillmode": "overlay",
                            "size": 10,
                            "solidity": 0.2
                          }
                        },
                        "type": "histogram"
                      }
                    ],
                    "histogram2d": [
                      {
                        "colorbar": {
                          "outlinewidth": 0,
                          "ticks": ""
                        },
                        "colorscale": [
                          [
                            0,
                            "#0d0887"
                          ],
                          [
                            0.1111111111111111,
                            "#46039f"
                          ],
                          [
                            0.2222222222222222,
                            "#7201a8"
                          ],
                          [
                            0.3333333333333333,
                            "#9c179e"
                          ],
                          [
                            0.4444444444444444,
                            "#bd3786"
                          ],
                          [
                            0.5555555555555556,
                            "#d8576b"
                          ],
                          [
                            0.6666666666666666,
                            "#ed7953"
                          ],
                          [
                            0.7777777777777778,
                            "#fb9f3a"
                          ],
                          [
                            0.8888888888888888,
                            "#fdca26"
                          ],
                          [
                            1,
                            "#f0f921"
                          ]
                        ],
                        "type": "histogram2d"
                      }
                    ],
                    "histogram2dcontour": [
                      {
                        "colorbar": {
                          "outlinewidth": 0,
                          "ticks": ""
                        },
                        "colorscale": [
                          [
                            0,
                            "#0d0887"
                          ],
                          [
                            0.1111111111111111,
                            "#46039f"
                          ],
                          [
                            0.2222222222222222,
                            "#7201a8"
                          ],
                          [
                            0.3333333333333333,
                            "#9c179e"
                          ],
                          [
                            0.4444444444444444,
                            "#bd3786"
                          ],
                          [
                            0.5555555555555556,
                            "#d8576b"
                          ],
                          [
                            0.6666666666666666,
                            "#ed7953"
                          ],
                          [
                            0.7777777777777778,
                            "#fb9f3a"
                          ],
                          [
                            0.8888888888888888,
                            "#fdca26"
                          ],
                          [
                            1,
                            "#f0f921"
                          ]
                        ],
                        "type": "histogram2dcontour"
                      }
                    ],
                    "mesh3d": [
                      {
                        "colorbar": {
                          "outlinewidth": 0,
                          "ticks": ""
                        },
                        "type": "mesh3d"
                      }
                    ],
                    "parcoords": [
                      {
                        "line": {
                          "colorbar": {
                            "outlinewidth": 0,
                            "ticks": ""
                          }
                        },
                        "type": "parcoords"
                      }
                    ],
                    "pie": [
                      {
                        "automargin": true,
                        "type": "pie"
                      }
                    ],
                    "scatter": [
                      {
                        "fillpattern": {
                          "fillmode": "overlay",
                          "size": 10,
                          "solidity": 0.2
                        },
                        "type": "scatter"
                      }
                    ],
                    "scatter3d": [
                      {
                        "line": {
                          "colorbar": {
                            "outlinewidth": 0,
                            "ticks": ""
                          }
                        },
                        "marker": {
                          "colorbar": {
                            "outlinewidth": 0,
                            "ticks": ""
                          }
                        },
                        "type": "scatter3d"
                      }
                    ],
                    "scattercarpet": [
                      {
                        "marker": {
                          "colorbar": {
                            "outlinewidth": 0,
                            "ticks": ""
                          }
                        },
                        "type": "scattercarpet"
                      }
                    ],
                    "scattergeo": [
                      {
                        "marker": {
                          "colorbar": {
                            "outlinewidth": 0,
                            "ticks": ""
                          }
                        },
                        "type": "scattergeo"
                      }
                    ],
                    "scattergl": [
                      {
                        "marker": {
                          "colorbar": {
                            "outlinewidth": 0,
                            "ticks": ""
                          }
                        },
                        "type": "scattergl"
                      }
                    ],
                    "scattermapbox": [
                      {
                        "marker": {
                          "colorbar": {
                            "outlinewidth": 0,
                            "ticks": ""
                          }
                        },
                        "type": "scattermapbox"
                      }
                    ],
                    "scatterpolar": [
                      {
                        "marker": {
                          "colorbar": {
                            "outlinewidth": 0,
                            "ticks": ""
                          }
                        },
                        "type": "scatterpolar"
                      }
                    ],
                    "scatterpolargl": [
                      {
                        "marker": {
                          "colorbar": {
                            "outlinewidth": 0,
                            "ticks": ""
                          }
                        },
                        "type": "scatterpolargl"
                      }
                    ],
                    "scatterternary": [
                      {
                        "marker": {
                          "colorbar": {
                            "outlinewidth": 0,
                            "ticks": ""
                          }
                        },
                        "type": "scatterternary"
                      }
                    ],
                    "surface": [
                      {
                        "colorbar": {
                          "outlinewidth": 0,
                          "ticks": ""
                        },
                        "colorscale": [
                          [
                            0,
                            "#0d0887"
                          ],
                          [
                            0.1111111111111111,
                            "#46039f"
                          ],
                          [
                            0.2222222222222222,
                            "#7201a8"
                          ],
                          [
                            0.3333333333333333,
                            "#9c179e"
                          ],
                          [
                            0.4444444444444444,
                            "#bd3786"
                          ],
                          [
                            0.5555555555555556,
                            "#d8576b"
                          ],
                          [
                            0.6666666666666666,
                            "#ed7953"
                          ],
                          [
                            0.7777777777777778,
                            "#fb9f3a"
                          ],
                          [
                            0.8888888888888888,
                            "#fdca26"
                          ],
                          [
                            1,
                            "#f0f921"
                          ]
                        ],
                        "type": "surface"
                      }
                    ],
                    "table": [
                      {
                        "cells": {
                          "fill": {
                            "color": "#EBF0F8"
                          },
                          "line": {
                            "color": "white"
                          }
                        },
                        "header": {
                          "fill": {
                            "color": "#C8D4E3"
                          },
                          "line": {
                            "color": "white"
                          }
                        },
                        "type": "table"
                      }
                    ]
                  },
                  "layout": {
                    "annotationdefaults": {
                      "arrowcolor": "#2a3f5f",
                      "arrowhead": 0,
                      "arrowwidth": 1
                    },
                    "autotypenumbers": "strict",
                    "coloraxis": {
                      "colorbar": {
                        "outlinewidth": 0,
                        "ticks": ""
                      }
                    },
                    "colorscale": {
                      "diverging": [
                        [
                          0,
                          "#8e0152"
                        ],
                        [
                          0.1,
                          "#c51b7d"
                        ],
                        [
                          0.2,
                          "#de77ae"
                        ],
                        [
                          0.3,
                          "#f1b6da"
                        ],
                        [
                          0.4,
                          "#fde0ef"
                        ],
                        [
                          0.5,
                          "#f7f7f7"
                        ],
                        [
                          0.6,
                          "#e6f5d0"
                        ],
                        [
                          0.7,
                          "#b8e186"
                        ],
                        [
                          0.8,
                          "#7fbc41"
                        ],
                        [
                          0.9,
                          "#4d9221"
                        ],
                        [
                          1,
                          "#276419"
                        ]
                      ],
                      "sequential": [
                        [
                          0,
                          "#0d0887"
                        ],
                        [
                          0.1111111111111111,
                          "#46039f"
                        ],
                        [
                          0.2222222222222222,
                          "#7201a8"
                        ],
                        [
                          0.3333333333333333,
                          "#9c179e"
                        ],
                        [
                          0.4444444444444444,
                          "#bd3786"
                        ],
                        [
                          0.5555555555555556,
                          "#d8576b"
                        ],
                        [
                          0.6666666666666666,
                          "#ed7953"
                        ],
                        [
                          0.7777777777777778,
                          "#fb9f3a"
                        ],
                        [
                          0.8888888888888888,
                          "#fdca26"
                        ],
                        [
                          1,
                          "#f0f921"
                        ]
                      ],
                      "sequentialminus": [
                        [
                          0,
                          "#0d0887"
                        ],
                        [
                          0.1111111111111111,
                          "#46039f"
                        ],
                        [
                          0.2222222222222222,
                          "#7201a8"
                        ],
                        [
                          0.3333333333333333,
                          "#9c179e"
                        ],
                        [
                          0.4444444444444444,
                          "#bd3786"
                        ],
                        [
                          0.5555555555555556,
                          "#d8576b"
                        ],
                        [
                          0.6666666666666666,
                          "#ed7953"
                        ],
                        [
                          0.7777777777777778,
                          "#fb9f3a"
                        ],
                        [
                          0.8888888888888888,
                          "#fdca26"
                        ],
                        [
                          1,
                          "#f0f921"
                        ]
                      ]
                    },
                    "colorway": [
                      "#636efa",
                      "#EF553B",
                      "#00cc96",
                      "#ab63fa",
                      "#FFA15A",
                      "#19d3f3",
                      "#FF6692",
                      "#B6E880",
                      "#FF97FF",
                      "#FECB52"
                    ],
                    "font": {
                      "color": "#2a3f5f"
                    },
                    "geo": {
                      "bgcolor": "white",
                      "lakecolor": "white",
                      "landcolor": "#E5ECF6",
                      "showlakes": true,
                      "showland": true,
                      "subunitcolor": "white"
                    },
                    "hoverlabel": {
                      "align": "left"
                    },
                    "hovermode": "closest",
                    "mapbox": {
                      "style": "light"
                    },
                    "paper_bgcolor": "white",
                    "plot_bgcolor": "#E5ECF6",
                    "polar": {
                      "angularaxis": {
                        "gridcolor": "white",
                        "linecolor": "white",
                        "ticks": ""
                      },
                      "bgcolor": "#E5ECF6",
                      "radialaxis": {
                        "gridcolor": "white",
                        "linecolor": "white",
                        "ticks": ""
                      }
                    },
                    "scene": {
                      "xaxis": {
                        "backgroundcolor": "#E5ECF6",
                        "gridcolor": "white",
                        "gridwidth": 2,
                        "linecolor": "white",
                        "showbackground": true,
                        "ticks": "",
                        "zerolinecolor": "white"
                      },
                      "yaxis": {
                        "backgroundcolor": "#E5ECF6",
                        "gridcolor": "white",
                        "gridwidth": 2,
                        "linecolor": "white",
                        "showbackground": true,
                        "ticks": "",
                        "zerolinecolor": "white"
                      },
                      "zaxis": {
                        "backgroundcolor": "#E5ECF6",
                        "gridcolor": "white",
                        "gridwidth": 2,
                        "linecolor": "white",
                        "showbackground": true,
                        "ticks": "",
                        "zerolinecolor": "white"
                      }
                    },
                    "shapedefaults": {
                      "line": {
                        "color": "#2a3f5f"
                      }
                    },
                    "ternary": {
                      "aaxis": {
                        "gridcolor": "white",
                        "linecolor": "white",
                        "ticks": ""
                      },
                      "baxis": {
                        "gridcolor": "white",
                        "linecolor": "white",
                        "ticks": ""
                      },
                      "bgcolor": "#E5ECF6",
                      "caxis": {
                        "gridcolor": "white",
                        "linecolor": "white",
                        "ticks": ""
                      }
                    },
                    "title": {
                      "x": 0.05
                    },
                    "xaxis": {
                      "automargin": true,
                      "gridcolor": "white",
                      "linecolor": "white",
                      "ticks": "",
                      "title": {
                        "standoff": 15
                      },
                      "zerolinecolor": "white",
                      "zerolinewidth": 2
                    },
                    "yaxis": {
                      "automargin": true,
                      "gridcolor": "white",
                      "linecolor": "white",
                      "ticks": "",
                      "title": {
                        "standoff": 15
                      },
                      "zerolinecolor": "white",
                      "zerolinewidth": 2
                    }
                  }
                },
                "xaxis": {
                  "anchor": "y",
                  "domain": [
                    0,
                    1
                  ],
                  "title": {
                    "text": "Certificate"
                  }
                },
                "yaxis": {
                  "anchor": "x",
                  "domain": [
                    0,
                    1
                  ],
                  "title": {
                    "text": "IMDB_Rating"
                  }
                }
              }
            }
          },
          "metadata": {},
          "output_type": "display_data"
        }
      ],
      "source": [
        "px.bar(new_movie.groupby('Certificate').IMDB_Rating.mean().sort_values().reset_index(),y='IMDB_Rating',x='Certificate')"
      ]
    },
    {
      "cell_type": "markdown",
      "metadata": {},
      "source": [
        "                                   Average IMDB Rating vs Certificate\n",
        "\n",
        "Analysis: \n",
        "1. This shows that Certificate does not affect the IMDB_Rating that much. \n",
        "2. Their is only slight variation in IMDB_Rating."
      ]
    }
  ],
  "metadata": {
    "colab": {
      "provenance": []
    },
    "kernelspec": {
      "display_name": "Python 3.9.6 64-bit",
      "language": "python",
      "name": "python3"
    },
    "language_info": {
      "codemirror_mode": {
        "name": "ipython",
        "version": 3
      },
      "file_extension": ".py",
      "mimetype": "text/x-python",
      "name": "python",
      "nbconvert_exporter": "python",
      "pygments_lexer": "ipython3",
      "version": "3.9.6"
    },
    "vscode": {
      "interpreter": {
        "hash": "31f2aee4e71d21fbe5cf8b01ff0e069b9275f58929596ceb00d14d90e3e16cd6"
      }
    }
  },
  "nbformat": 4,
  "nbformat_minor": 0
}
